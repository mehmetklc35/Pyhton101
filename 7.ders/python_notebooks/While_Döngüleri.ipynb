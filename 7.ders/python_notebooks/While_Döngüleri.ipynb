{
  "cells": [
    {
      "cell_type": "markdown",
      "metadata": {
        "id": "VY8bwYA83PF4"
      },
      "source": [
        "# While Döngüleri\n",
        "\n",
        "Bu bölümde *while* döngülerinin yapısını ve nasıl kullanılacağını öğrenmeye çalışacağız.\n",
        "\n",
        "while döngüleri belli bir koşul sağlandığı sürece bloğundaki işlemleri gerçekleştirmeye devam eder. *while* döngülerinin sona ermesi için koşul durumunun bir süre sonra **False** olması gereklidir.Yapısı şu şekildedir;\n",
        "\n",
        "                                while (koşul):\n",
        "                                    İşlem1\n",
        "                                    İşlem2\n",
        "                                    İşlem3\n",
        "                                      //\n",
        "                                      //\n",
        "while döngülerini daha iyi anlamak için örneklerimize bakalım."
      ]
    },
    {
      "cell_type": "code",
      "execution_count": null,
      "metadata": {
        "id": "jpBzkqhU3PF6",
        "outputId": "c4b5a636-77c2-47e7-ed7e-6c8679df8f43"
      },
      "outputs": [
        {
          "name": "stdout",
          "output_type": "stream",
          "text": [
            "i'nin değeri 0\n",
            "i'nin değeri 1\n",
            "i'nin değeri 2\n",
            "i'nin değeri 3\n",
            "i'nin değeri 4\n",
            "i'nin değeri 5\n",
            "i'nin değeri 6\n",
            "i'nin değeri 7\n",
            "i'nin değeri 8\n",
            "i'nin değeri 9\n"
          ]
        }
      ],
      "source": [
        "# Döngüde i değerlerini ekrana yazdırma\n",
        "\n",
        "i = 0\n",
        "\n",
        "while (i < 10):\n",
        "    print(\"i'nin değeri\",i)\n",
        "    i += 1 # Koşulun bir süre sonra False olması için gerekli - Unutmayalım"
      ]
    },
    {
      "cell_type": "code",
      "execution_count": null,
      "metadata": {
        "id": "c0RWXHLa3PF7",
        "outputId": "f937dda6-5f86-45d5-fa95-bc1155fdbbc3"
      },
      "outputs": [
        {
          "name": "stdout",
          "output_type": "stream",
          "text": [
            "i'nin değeri 0\n",
            "i'nin değeri 2\n",
            "i'nin değeri 4\n",
            "i'nin değeri 6\n",
            "i'nin değeri 8\n",
            "i'nin değeri 10\n",
            "i'nin değeri 12\n",
            "i'nin değeri 14\n",
            "i'nin değeri 16\n",
            "i'nin değeri 18\n"
          ]
        }
      ],
      "source": [
        "# Döngüde i değerlerini ekrana yazdırma\n",
        "\n",
        "i = 0\n",
        "\n",
        "while (i < 20):\n",
        "    print(\"i'nin değeri\",i)\n",
        "    i += 2 # Koşulun bir süre sonra False olması için gerekli - Unutmayalım"
      ]
    },
    {
      "cell_type": "code",
      "execution_count": null,
      "metadata": {
        "id": "UyI85VgK3PF7",
        "outputId": "8c0dcd99-56e6-4fee-d01c-405c6cb96a54"
      },
      "outputs": [
        {
          "name": "stdout",
          "output_type": "stream",
          "text": [
            "Python Öğreniyorum\n",
            "Python Öğreniyorum\n",
            "Python Öğreniyorum\n",
            "Python Öğreniyorum\n",
            "Python Öğreniyorum\n",
            "Python Öğreniyorum\n",
            "Python Öğreniyorum\n",
            "Python Öğreniyorum\n",
            "Python Öğreniyorum\n",
            "Python Öğreniyorum\n",
            "Python Öğreniyorum\n",
            "Python Öğreniyorum\n",
            "Python Öğreniyorum\n",
            "Python Öğreniyorum\n",
            "Python Öğreniyorum\n",
            "Python Öğreniyorum\n",
            "Python Öğreniyorum\n",
            "Python Öğreniyorum\n",
            "Python Öğreniyorum\n",
            "Python Öğreniyorum\n",
            "Python Öğreniyorum\n",
            "Python Öğreniyorum\n",
            "Python Öğreniyorum\n",
            "Python Öğreniyorum\n",
            "Python Öğreniyorum\n",
            "Python Öğreniyorum\n",
            "Python Öğreniyorum\n",
            "Python Öğreniyorum\n",
            "Python Öğreniyorum\n",
            "Python Öğreniyorum\n",
            "Python Öğreniyorum\n",
            "Python Öğreniyorum\n",
            "Python Öğreniyorum\n",
            "Python Öğreniyorum\n",
            "Python Öğreniyorum\n",
            "Python Öğreniyorum\n",
            "Python Öğreniyorum\n",
            "Python Öğreniyorum\n",
            "Python Öğreniyorum\n",
            "Python Öğreniyorum\n"
          ]
        }
      ],
      "source": [
        "# Ekrana 40 defa \"Python Öğreniyorum\" yazdıralım.\n",
        "i = 0\n",
        "\n",
        "while (i < 40):\n",
        "    print(\"Python Öğreniyorum\")\n",
        "    i +=1"
      ]
    },
    {
      "cell_type": "code",
      "execution_count": null,
      "metadata": {
        "scrolled": true,
        "id": "h46i-M373PF8",
        "outputId": "1d58485a-f494-4700-9f8b-d428a9ed10e0"
      },
      "outputs": [
        {
          "name": "stdout",
          "output_type": "stream",
          "text": [
            "Indeks: 0 Eleman: 1\n",
            "Indeks: 1 Eleman: 2\n",
            "Indeks: 2 Eleman: 3\n",
            "Indeks: 3 Eleman: 4\n",
            "Indeks: 4 Eleman: 5\n"
          ]
        }
      ],
      "source": [
        "# Liste üzerinde indeks ile gezinme\n",
        "liste = [1,2,3,4,5]\n",
        "\n",
        "a = 0\n",
        "\n",
        "while (a < len(liste)):\n",
        "    print(\"Indeks:\",a,\"Eleman:\",liste[a])\n",
        "    a +=1"
      ]
    },
    {
      "cell_type": "markdown",
      "metadata": {
        "id": "Q6o9qwZN3PF8"
      },
      "source": [
        "### Sonsuz Döngü Olayları\n",
        "\n",
        "while döngüsü kullanırken biraz dikkatli olmamızda fayda var. Çünkü, while döngü koşulunun bir süre sonra **False** olması gerekecek ki döngümüz sonlanabilsin. Ancak eğer biz **while** döngülerinde bu durumu unutursak , döngümüz sonsuza kadar çalışacaktır. Biz buna **sonsuz döngü** olayı diyoruz. Örneğimize bakalım"
      ]
    },
    {
      "cell_type": "code",
      "execution_count": null,
      "metadata": {
        "collapsed": true,
        "id": "Bk4KFe943PF8"
      },
      "outputs": [],
      "source": [
        "# Bu kodu çaıştırmayalım. Jupyter sıkıntı çıkarabilir :)\n",
        "i = 0\n",
        "while (i < 10):\n",
        "    print(i)\n",
        "    # i değişkenini artırma işlemi yapmadığımız için i değişkeninin değeri sürekli 0 kalıyor\n",
        "    # ve döngü koşulu sürekli True kalıyor.\n",
        ""
      ]
    },
    {
      "cell_type": "markdown",
      "metadata": {
        "id": "dfcfqxIK3PF8"
      },
      "source": [
        "Bir sonraki bölümde döngülerde kullanılabilen *range()* fonksiyonu öğreneceğiz.\n"
      ]
    },
    {
      "cell_type": "code",
      "execution_count": null,
      "metadata": {
        "collapsed": true,
        "id": "PXbwxqfl3PF8"
      },
      "outputs": [],
      "source": []
    }
  ],
  "metadata": {
    "kernelspec": {
      "display_name": "Python 3",
      "language": "python",
      "name": "python3"
    },
    "language_info": {
      "codemirror_mode": {
        "name": "ipython",
        "version": 3
      },
      "file_extension": ".py",
      "mimetype": "text/x-python",
      "name": "python",
      "nbconvert_exporter": "python",
      "pygments_lexer": "ipython3",
      "version": "3.6.1"
    },
    "colab": {
      "provenance": []
    }
  },
  "nbformat": 4,
  "nbformat_minor": 0
}