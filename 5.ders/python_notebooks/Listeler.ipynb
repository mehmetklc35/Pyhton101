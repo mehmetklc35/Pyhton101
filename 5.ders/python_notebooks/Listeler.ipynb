{
  "cells": [
    {
      "cell_type": "markdown",
      "metadata": {
        "id": "72y_iBxex1cJ"
      },
      "source": [
        "# Listeler"
      ]
    },
    {
      "cell_type": "markdown",
      "metadata": {
        "id": "9g7HfRusx1cL"
      },
      "source": [
        "Şimdi de yeni bir veritipimiz olan **listeleri** öğrenmeye çalışalım. Listeler yapıları gereği stringlere oldukça benzerler ve kullanıldıkları yerler de çok yararlı olan bir veritipidir. Tıpkı stringler gibi ,indekslenirler,parçalanırlar ve üzerinde değişik işlemler yapabildiğimiz metodlar bulunur. Ancak listelerin stringlerden önemli farkları da bulunmaktadır. Stringler konusundan bildiğimiz kadarıyla stringler değiştirilemez bir veri tipidir. Ancak, listelerimiz değiştirilebilir bir veritipidir.\n",
        "\n",
        "Bir listede her veritipinden elemanı saklayabiliriz. Bu anlamda sıralı bir diziye benzer. Peki bu konuda ne öğreneceğiz?          \n",
        "\n",
        "           1.Liste oluşturma\n",
        "           2.Indeksleme ve Parçalama\n",
        "           3.Temel Liste Metodları ve İşlemleri\n",
        "           4.İç içe Listeler                                                                                                 \n",
        "          \n",
        "   \n",
        "### Liste Oluşturma\n",
        "\n",
        "Listeler bir *[]* köşeli parantez içine veriler veya değerler konarak oluşturulabilir.\n"
      ]
    },
    {
      "cell_type": "code",
      "execution_count": null,
      "metadata": {
        "id": "g8gXiN9mx1cM",
        "outputId": "d50c21f2-c550-419a-fb76-87b530ff4710"
      },
      "outputs": [
        {
          "data": {
            "text/plain": [
              "[3, 4, 5, 6, 'Elma', 3.14, 5.324]"
            ]
          },
          "execution_count": 1,
          "metadata": {},
          "output_type": "execute_result"
        }
      ],
      "source": [
        "# liste değişkeni. Değişik veri tiplerinden değerleri saklayabiliyoruz.\n",
        "liste =  [3,4,5,6,\"Elma\",3.14,5.324]\n",
        "liste"
      ]
    },
    {
      "cell_type": "code",
      "execution_count": null,
      "metadata": {
        "id": "Flw_oNizx1cM",
        "outputId": "7295c44f-a706-4481-ebe1-49e260fc8fca"
      },
      "outputs": [
        {
          "data": {
            "text/plain": [
              "[3, 4, 5, 6, 7, 8, 9]"
            ]
          },
          "execution_count": 2,
          "metadata": {},
          "output_type": "execute_result"
        }
      ],
      "source": [
        "liste2 = [3,4,5,6,7,8,9]\n",
        "liste2"
      ]
    },
    {
      "cell_type": "code",
      "execution_count": null,
      "metadata": {
        "id": "P9gqVtyCx1cN",
        "outputId": "d0453065-4cbd-4f6e-ced0-61a36d3478cc"
      },
      "outputs": [
        {
          "data": {
            "text/plain": [
              "[]"
            ]
          },
          "execution_count": 3,
          "metadata": {},
          "output_type": "execute_result"
        }
      ],
      "source": [
        "# Boş liste\n",
        "bos_liste = []\n",
        "bos_liste"
      ]
    },
    {
      "cell_type": "code",
      "execution_count": null,
      "metadata": {
        "id": "GJjfOzSjx1cN",
        "outputId": "8a9e8796-6102-4cfc-b74b-902e87086cb7"
      },
      "outputs": [
        {
          "data": {
            "text/plain": [
              "[]"
            ]
          },
          "execution_count": 4,
          "metadata": {},
          "output_type": "execute_result"
        }
      ],
      "source": [
        "# Boş liste . list() fonksiyonuyla da oluşturulabilir.\n",
        "bos_liste = list()\n",
        "bos_liste"
      ]
    },
    {
      "cell_type": "code",
      "execution_count": null,
      "metadata": {
        "id": "eUamuSY9x1cN",
        "outputId": "22e36af9-ccfc-46bf-fa25-e1e109c382e0"
      },
      "outputs": [
        {
          "data": {
            "text/plain": [
              "11"
            ]
          },
          "execution_count": 5,
          "metadata": {},
          "output_type": "execute_result"
        }
      ],
      "source": [
        "# len fonksiyonu listeler üzerinde de kullanılabilir.\n",
        "liste3 = [3,4,5,6,6,7,8,9,0,0,0]\n",
        "len(liste3)"
      ]
    },
    {
      "cell_type": "markdown",
      "metadata": {
        "id": "XvzLp-ozx1cN"
      },
      "source": [
        "Bir string *list()* fonksiyonu yardımıyla listeye dönüştürülebilir.\n"
      ]
    },
    {
      "cell_type": "code",
      "execution_count": null,
      "metadata": {
        "id": "QIcfUcCIx1cN",
        "outputId": "4f258764-fe3b-4984-b9e9-14fce93287fb"
      },
      "outputs": [
        {
          "data": {
            "text/plain": [
              "['M', 'e', 'r', 'h', 'a', 'b', 'a']"
            ]
          },
          "execution_count": 6,
          "metadata": {},
          "output_type": "execute_result"
        }
      ],
      "source": [
        "s =  \"Merhaba\"\n",
        "lst =  list(s)\n",
        "lst"
      ]
    },
    {
      "cell_type": "markdown",
      "metadata": {
        "id": "RL-263XGx1cO"
      },
      "source": [
        "### Listeleri Indeksleme ve Parçalama\n",
        "\n",
        "Listeleri indeksleme ve parçalama stringlerle birebir olarak aynıdır.\n"
      ]
    },
    {
      "cell_type": "code",
      "execution_count": null,
      "metadata": {
        "id": "kQGdVQ7Cx1cO",
        "outputId": "43c55493-f710-437d-b6ea-4ad0c9302ea4"
      },
      "outputs": [
        {
          "data": {
            "text/plain": [
              "[3, 4, 5, 6, 7, 8, 9, 10]"
            ]
          },
          "execution_count": 7,
          "metadata": {},
          "output_type": "execute_result"
        }
      ],
      "source": [
        "liste = [3,4,5,6,7,8,9,10]\n",
        "liste"
      ]
    },
    {
      "cell_type": "code",
      "execution_count": null,
      "metadata": {
        "id": "1VcPQQsJx1cO",
        "outputId": "8799e05d-2f3f-466d-846b-8714e74d536a"
      },
      "outputs": [
        {
          "data": {
            "text/plain": [
              "3"
            ]
          },
          "execution_count": 8,
          "metadata": {},
          "output_type": "execute_result"
        }
      ],
      "source": [
        "# 0. eleman\n",
        "liste[0]"
      ]
    },
    {
      "cell_type": "code",
      "execution_count": null,
      "metadata": {
        "id": "Yr3mF5iwx1cO",
        "outputId": "7601ee18-9468-488c-a2af-8a9e92cf494e"
      },
      "outputs": [
        {
          "data": {
            "text/plain": [
              "7"
            ]
          },
          "execution_count": 9,
          "metadata": {},
          "output_type": "execute_result"
        }
      ],
      "source": [
        "# 4. eleman\n",
        "liste[4]"
      ]
    },
    {
      "cell_type": "code",
      "execution_count": null,
      "metadata": {
        "id": "RZuR3VYox1cO",
        "outputId": "1374b9d5-6856-4c79-e620-a6107a179d12"
      },
      "outputs": [
        {
          "data": {
            "text/plain": [
              "10"
            ]
          },
          "execution_count": 10,
          "metadata": {},
          "output_type": "execute_result"
        }
      ],
      "source": [
        "# Sonuncu Eleman\n",
        "liste[len(liste)-1]"
      ]
    },
    {
      "cell_type": "code",
      "execution_count": null,
      "metadata": {
        "id": "JYQwcSxZx1cP",
        "outputId": "d2f535f1-a44f-4ae6-a5c8-c2a4c22c7f30"
      },
      "outputs": [
        {
          "data": {
            "text/plain": [
              "10"
            ]
          },
          "execution_count": 11,
          "metadata": {},
          "output_type": "execute_result"
        }
      ],
      "source": [
        "# Sonuncu Eleman\n",
        "liste[-1]"
      ]
    },
    {
      "cell_type": "code",
      "execution_count": null,
      "metadata": {
        "id": "sb1Tnbldx1cP",
        "outputId": "3254938a-d8f8-4275-c9a1-cf3395e4d906"
      },
      "outputs": [
        {
          "data": {
            "text/plain": [
              "3"
            ]
          },
          "execution_count": 12,
          "metadata": {},
          "output_type": "execute_result"
        }
      ],
      "source": [
        "# İlk Eleman\n",
        "liste[-len(liste)]"
      ]
    },
    {
      "cell_type": "code",
      "execution_count": null,
      "metadata": {
        "id": "50DBga38x1cP",
        "outputId": "b44a8d9c-aec6-4e09-8a61-01002e87c7ad"
      },
      "outputs": [
        {
          "data": {
            "text/plain": [
              "[3, 4, 5, 6]"
            ]
          },
          "execution_count": 13,
          "metadata": {},
          "output_type": "execute_result"
        }
      ],
      "source": [
        "# Baştan 4. indekse kadar (dahil değil)\n",
        "liste[:4]"
      ]
    },
    {
      "cell_type": "code",
      "execution_count": null,
      "metadata": {
        "id": "Q3zsgRrtx1cP",
        "outputId": "2b5d1f8b-623a-4da1-fcbe-6a1b916b4ac5"
      },
      "outputs": [
        {
          "data": {
            "text/plain": [
              "[4, 5, 6, 7]"
            ]
          },
          "execution_count": 14,
          "metadata": {},
          "output_type": "execute_result"
        }
      ],
      "source": [
        "# 1.indeksten 5.indekse kadar\n",
        "liste[1:5]"
      ]
    },
    {
      "cell_type": "code",
      "execution_count": null,
      "metadata": {
        "id": "fyaS9TDox1cP",
        "outputId": "95b2a14d-3615-4962-b376-06d256270735"
      },
      "outputs": [
        {
          "data": {
            "text/plain": [
              "[8, 9, 10]"
            ]
          },
          "execution_count": 15,
          "metadata": {},
          "output_type": "execute_result"
        }
      ],
      "source": [
        "liste[5:]"
      ]
    },
    {
      "cell_type": "code",
      "execution_count": null,
      "metadata": {
        "id": "8PSe1jQYx1cP",
        "outputId": "d219092e-781b-4a2b-9d26-c7bc9eb1f1ca"
      },
      "outputs": [
        {
          "data": {
            "text/plain": [
              "[3, 5, 7, 9]"
            ]
          },
          "execution_count": 16,
          "metadata": {},
          "output_type": "execute_result"
        }
      ],
      "source": [
        "liste[::2]"
      ]
    },
    {
      "cell_type": "code",
      "execution_count": null,
      "metadata": {
        "id": "jdBGmSADx1cP",
        "outputId": "dfc8d4e0-36d8-4561-a539-ce849f1323d9"
      },
      "outputs": [
        {
          "data": {
            "text/plain": [
              "[10, 9, 8, 7, 6, 5, 4, 3]"
            ]
          },
          "execution_count": 17,
          "metadata": {},
          "output_type": "execute_result"
        }
      ],
      "source": [
        "liste[::-1]"
      ]
    },
    {
      "cell_type": "markdown",
      "metadata": {
        "id": "6rIM91Gbx1cP"
      },
      "source": [
        "### Temel Liste Metodları ve İşlemleri\n",
        "\n",
        "Bu kısımda da listelerde yapabileceğimiz temel işlemleri ve bazı temel metodları öğreneceğiz. Listelerin daha bir çok metodunu kursun ileriki kısımlarında görüyor olacağız.\n",
        "\n",
        "Bir listeyi birbirine toplama işlemini stringlerdeki gibi yapabiliriz.\n"
      ]
    },
    {
      "cell_type": "code",
      "execution_count": null,
      "metadata": {
        "id": "wQWa0vPtx1cP",
        "outputId": "f594c7f0-dfef-49f2-b085-465906ec4317"
      },
      "outputs": [
        {
          "data": {
            "text/plain": [
              "[1, 2, 3, 4, 5, 6, 7, 8, 9, 10]"
            ]
          },
          "execution_count": 18,
          "metadata": {},
          "output_type": "execute_result"
        }
      ],
      "source": [
        "liste1 =  [1,2,3,4,5]\n",
        "liste2 =  [6,7,8,9,10]\n",
        "liste1 + liste2"
      ]
    },
    {
      "cell_type": "markdown",
      "metadata": {
        "id": "Rm5gIPNLx1cQ"
      },
      "source": [
        "Bir listeye bir tane eleman eklemek içinse aşağıdaki işlemi uygulayabiliriz.\n"
      ]
    },
    {
      "cell_type": "code",
      "execution_count": null,
      "metadata": {
        "id": "ft_rWuYtx1cQ"
      },
      "outputs": [],
      "source": [
        "liste = [1,2,3,4]\n",
        "liste =  liste + [\"Deneme\"]"
      ]
    },
    {
      "cell_type": "code",
      "execution_count": null,
      "metadata": {
        "id": "4zZQvfCtx1cQ",
        "outputId": "aa57ca7b-db36-40e8-81fb-c8371c388e40"
      },
      "outputs": [
        {
          "data": {
            "text/plain": [
              "[1, 2, 3, 4, 'Deneme']"
            ]
          },
          "execution_count": 20,
          "metadata": {},
          "output_type": "execute_result"
        }
      ],
      "source": [
        "liste"
      ]
    },
    {
      "cell_type": "code",
      "execution_count": null,
      "metadata": {
        "id": "Tl-ZhNe9x1cQ"
      },
      "outputs": [],
      "source": [
        "# Listeler direk olarak değiştirilebilirler.\n",
        "liste[0] = 10"
      ]
    },
    {
      "cell_type": "code",
      "execution_count": null,
      "metadata": {
        "id": "L0sEjj-Ux1cQ",
        "outputId": "d636ce45-df4f-4dc6-e75e-c534cf3bd892"
      },
      "outputs": [
        {
          "data": {
            "text/plain": [
              "[10, 2, 3, 4, 'Deneme']"
            ]
          },
          "execution_count": 22,
          "metadata": {},
          "output_type": "execute_result"
        }
      ],
      "source": [
        "liste"
      ]
    },
    {
      "cell_type": "code",
      "execution_count": null,
      "metadata": {
        "id": "vYkQmF7Tx1cQ"
      },
      "outputs": [],
      "source": [
        "# Şöyle bir kullanım da mümkündür.\n",
        "liste[:2] = [40,50]"
      ]
    },
    {
      "cell_type": "code",
      "execution_count": null,
      "metadata": {
        "id": "XO0ShLTex1cQ",
        "outputId": "804d1f14-8463-446f-f037-4a6ca3b4405a"
      },
      "outputs": [
        {
          "data": {
            "text/plain": [
              "[40, 50, 3, 4, 'Deneme']"
            ]
          },
          "execution_count": 24,
          "metadata": {},
          "output_type": "execute_result"
        }
      ],
      "source": [
        "liste"
      ]
    },
    {
      "cell_type": "markdown",
      "metadata": {
        "id": "NzL4nUQKx1cQ"
      },
      "source": [
        "Bir listeyi bir tamsayıyla da çarpabiliriz.\n"
      ]
    },
    {
      "cell_type": "code",
      "execution_count": null,
      "metadata": {
        "id": "H-f11638x1cQ",
        "outputId": "0b8c6918-cead-4d69-fa44-0ebc82f94e85"
      },
      "outputs": [
        {
          "data": {
            "text/plain": [
              "[1, 2, 3, 4, 5, 1, 2, 3, 4, 5, 1, 2, 3, 4, 5]"
            ]
          },
          "execution_count": 25,
          "metadata": {},
          "output_type": "execute_result"
        }
      ],
      "source": [
        "liste = [1,2,3,4,5]\n",
        "liste * 3"
      ]
    },
    {
      "cell_type": "code",
      "execution_count": null,
      "metadata": {
        "id": "JYPbcsFFx1cQ",
        "outputId": "391ef35d-c64a-4eff-8097-36c55f1dc101"
      },
      "outputs": [
        {
          "data": {
            "text/plain": [
              "[1, 2, 3, 4, 5]"
            ]
          },
          "execution_count": 26,
          "metadata": {},
          "output_type": "execute_result"
        }
      ],
      "source": [
        "liste # Ama gördüğümüz gibi listemiz değişmiyor."
      ]
    },
    {
      "cell_type": "code",
      "execution_count": null,
      "metadata": {
        "id": "i4lKfiJ7x1cR"
      },
      "outputs": [],
      "source": [
        "liste = liste * 3"
      ]
    },
    {
      "cell_type": "code",
      "execution_count": null,
      "metadata": {
        "id": "RjdxrxLDx1cR",
        "outputId": "081745cc-1e91-4717-b679-978e19ec9f17"
      },
      "outputs": [
        {
          "data": {
            "text/plain": [
              "[1, 2, 3, 4, 5, 1, 2, 3, 4, 5, 1, 2, 3, 4, 5]"
            ]
          },
          "execution_count": 28,
          "metadata": {},
          "output_type": "execute_result"
        }
      ],
      "source": [
        "liste # Eşitleme yaptığımız için liste değişti."
      ]
    },
    {
      "cell_type": "markdown",
      "metadata": {
        "id": "VuKpGoDWx1cR"
      },
      "source": [
        "Şimdi de isterseniz temel bazı liste metodlarına bakalım. Listeler, diğer programlama dillerindeki **arraylere** göre oldukça esnektir. Belli bir boyutları yoktur ve ekleme, çıkarma yapmak oldukça kolaydır.\n",
        "\n",
        "#### append metodu\n",
        "append metodu, verdiğimiz değeri listeye eklememizi sağlar."
      ]
    },
    {
      "cell_type": "code",
      "execution_count": null,
      "metadata": {
        "id": "6ekQZcAYx1cR",
        "outputId": "a31ff461-6941-4a79-efc2-941b10208ae4"
      },
      "outputs": [
        {
          "data": {
            "text/plain": [
              "[3, 4, 5, 6, 7]"
            ]
          },
          "execution_count": 29,
          "metadata": {},
          "output_type": "execute_result"
        }
      ],
      "source": [
        "liste = [3,4,5,6]\n",
        "liste.append(7)\n",
        "liste"
      ]
    },
    {
      "cell_type": "code",
      "execution_count": null,
      "metadata": {
        "id": "McACRW6Yx1cR"
      },
      "outputs": [],
      "source": [
        "liste.append(\"Deneme\")"
      ]
    },
    {
      "cell_type": "code",
      "execution_count": null,
      "metadata": {
        "id": "mRxasQWTx1cR",
        "outputId": "25706003-ec7f-4232-8b71-93d3917dd30e"
      },
      "outputs": [
        {
          "data": {
            "text/plain": [
              "[3, 4, 5, 6, 7, 'Deneme']"
            ]
          },
          "execution_count": 31,
          "metadata": {},
          "output_type": "execute_result"
        }
      ],
      "source": [
        "liste"
      ]
    },
    {
      "cell_type": "markdown",
      "metadata": {
        "id": "bQzafQ_Ox1cR"
      },
      "source": [
        "#### pop metodu\n",
        "Bu metod, içine değer vermezsek listenin son indeksindeki elemanı, değer verirsek verdiğimiz değere karşılık gelen indeksteki elemanı listeden atar ve attığı elemanı ekrana basar.\n",
        "\n"
      ]
    },
    {
      "cell_type": "code",
      "execution_count": null,
      "metadata": {
        "id": "zzB5IDdrx1cS",
        "outputId": "b849698e-46f3-4ee2-cf94-5185140301ec"
      },
      "outputs": [
        {
          "data": {
            "text/plain": [
              "5"
            ]
          },
          "execution_count": 32,
          "metadata": {},
          "output_type": "execute_result"
        }
      ],
      "source": [
        "liste = [1,2,3,4,5]\n",
        "liste.pop()"
      ]
    },
    {
      "cell_type": "code",
      "execution_count": null,
      "metadata": {
        "id": "VwWPvT9Vx1cS",
        "outputId": "93cda9e5-5cf0-4c89-9645-04be30fa8e5e"
      },
      "outputs": [
        {
          "data": {
            "text/plain": [
              "[1, 2, 3, 4]"
            ]
          },
          "execution_count": 33,
          "metadata": {},
          "output_type": "execute_result"
        }
      ],
      "source": [
        "liste"
      ]
    },
    {
      "cell_type": "code",
      "execution_count": null,
      "metadata": {
        "id": "3_m8WdKWx1cS"
      },
      "outputs": [],
      "source": [
        "eleman = liste.pop(2)"
      ]
    },
    {
      "cell_type": "code",
      "execution_count": null,
      "metadata": {
        "id": "aK1I6BAQx1cS",
        "outputId": "23b771f4-cd70-47f6-e09c-d2dfe773aa26"
      },
      "outputs": [
        {
          "data": {
            "text/plain": [
              "3"
            ]
          },
          "execution_count": 35,
          "metadata": {},
          "output_type": "execute_result"
        }
      ],
      "source": [
        "eleman"
      ]
    },
    {
      "cell_type": "code",
      "execution_count": null,
      "metadata": {
        "id": "e2h8dyh4x1cS",
        "outputId": "f2ad6d41-983f-4722-a9fc-59c6c3763ae0"
      },
      "outputs": [
        {
          "data": {
            "text/plain": [
              "[1, 2, 4]"
            ]
          },
          "execution_count": 36,
          "metadata": {},
          "output_type": "execute_result"
        }
      ],
      "source": [
        "liste"
      ]
    },
    {
      "cell_type": "code",
      "execution_count": null,
      "metadata": {
        "id": "MaGa5vPfx1cS",
        "outputId": "209232e2-0fb7-4c69-c6b2-de7e39087c1d"
      },
      "outputs": [
        {
          "data": {
            "text/plain": [
              "[1, 2, 4, 'Deneme']"
            ]
          },
          "execution_count": 37,
          "metadata": {},
          "output_type": "execute_result"
        }
      ],
      "source": [
        "liste.append(\"Deneme\")\n",
        "liste"
      ]
    },
    {
      "cell_type": "code",
      "execution_count": null,
      "metadata": {
        "id": "8c9v4kNzx1cS",
        "outputId": "413a7fd9-2fbc-4697-bb5b-208c2d2b91e1"
      },
      "outputs": [
        {
          "data": {
            "text/plain": [
              "'Deneme'"
            ]
          },
          "execution_count": 38,
          "metadata": {},
          "output_type": "execute_result"
        }
      ],
      "source": [
        "liste.pop()"
      ]
    },
    {
      "cell_type": "code",
      "execution_count": null,
      "metadata": {
        "id": "DkSOy69Ux1cS",
        "outputId": "5ab40492-a642-4ed6-8985-fa6c787fca64"
      },
      "outputs": [
        {
          "data": {
            "text/plain": [
              "[1, 2, 4]"
            ]
          },
          "execution_count": 39,
          "metadata": {},
          "output_type": "execute_result"
        }
      ],
      "source": [
        "liste"
      ]
    },
    {
      "cell_type": "markdown",
      "metadata": {
        "id": "7a8T5xv5x1cS"
      },
      "source": [
        "Aslında zamanı gelmişken söylemekte fayda var. Liste elemanlarına ulaşırken eğer olmayan bir indeksi verirsek *Python* bizlere hata verecektir.\n"
      ]
    },
    {
      "cell_type": "code",
      "execution_count": null,
      "metadata": {
        "id": "73Sv-84Qx1cS"
      },
      "outputs": [],
      "source": [
        "liste = [12,54,67,67]"
      ]
    },
    {
      "cell_type": "code",
      "execution_count": null,
      "metadata": {
        "id": "vMFP_ztQx1cT",
        "outputId": "6605d343-28ed-41fa-b055-079a5a07ef52"
      },
      "outputs": [
        {
          "ename": "IndexError",
          "evalue": "list index out of range",
          "output_type": "error",
          "traceback": [
            "\u001b[0;31m---------------------------------------------------------------------------\u001b[0m",
            "\u001b[0;31mIndexError\u001b[0m                                Traceback (most recent call last)",
            "\u001b[0;32m<ipython-input-41-621e5ad1f358>\u001b[0m in \u001b[0;36m<module>\u001b[0;34m()\u001b[0m\n\u001b[0;32m----> 1\u001b[0;31m \u001b[0mliste\u001b[0m\u001b[0;34m[\u001b[0m\u001b[0;36m50\u001b[0m\u001b[0;34m]\u001b[0m\u001b[0;34m\u001b[0m\u001b[0m\n\u001b[0m",
            "\u001b[0;31mIndexError\u001b[0m: list index out of range"
          ]
        }
      ],
      "source": [
        "liste[50]"
      ]
    },
    {
      "cell_type": "markdown",
      "metadata": {
        "id": "KiLK2VPrx1cT"
      },
      "source": [
        "#### sort metodu\n",
        "sort metodu listenin elemanlarını sıralamamızı sağlar. Hemen kullanımına bakalım.\n"
      ]
    },
    {
      "cell_type": "code",
      "execution_count": null,
      "metadata": {
        "id": "NuLZX_Gyx1cT"
      },
      "outputs": [],
      "source": [
        "liste = [34,1,56,334,23,2,3,19]\n",
        "liste.sort() # Küçükten büyüğe sıralar.\n",
        "liste"
      ]
    },
    {
      "cell_type": "code",
      "execution_count": null,
      "metadata": {
        "id": "EzS9qII8x1cT"
      },
      "outputs": [],
      "source": [
        "liste.sort(reverse = True) # Büyükten küçüğe sıralar.\n",
        "liste"
      ]
    },
    {
      "cell_type": "code",
      "execution_count": null,
      "metadata": {
        "id": "F180lQECx1cT"
      },
      "outputs": [],
      "source": [
        "liste = [\"Elma\",\"Armut\",\"Muz\",\"Kiraz\"]\n",
        "liste.sort() # Alfabetic olarak küçükten büyüğe\n",
        "liste"
      ]
    },
    {
      "cell_type": "code",
      "execution_count": null,
      "metadata": {
        "id": "2opJS3jFx1cT"
      },
      "outputs": [],
      "source": [
        "liste = [\"Elma\",\"Armut\",\"Muz\",\"Kiraz\"]\n",
        "liste.sort(reverse = True) # Alfabetic olarak büyükten küçüğe\n",
        "liste"
      ]
    },
    {
      "cell_type": "markdown",
      "metadata": {
        "id": "LgjnZZJUx1cT"
      },
      "source": [
        "### İç içe Listeler\n",
        "Bir listenin içinde başka bir liste bulundurmak mümkündür. Bunlara Pythonda içiçe listeler denmektedir. Bu tip bir özellik, Pythonda ağaç yapılarında veya matris yapılarında oldukça kullanışlı olmaktadır.\n"
      ]
    },
    {
      "cell_type": "code",
      "execution_count": null,
      "metadata": {
        "id": "BR3jTJ6Xx1cT"
      },
      "outputs": [],
      "source": [
        "# 3 Tane liste oluşturalım.\n",
        "\n",
        "liste1 = [1,2,3]\n",
        "liste2 = [4,5,6]\n",
        "liste3 = [7,8,9]\n",
        "\n",
        "yeniliste = [liste1,liste2,liste3]\n",
        "yeniliste"
      ]
    },
    {
      "cell_type": "markdown",
      "metadata": {
        "id": "XSqTSj3rx1cT"
      },
      "source": [
        "Şimdi, 2. listenin ilk elemanına nasıl ulaşacağımıza bakalım.\n"
      ]
    },
    {
      "cell_type": "code",
      "execution_count": null,
      "metadata": {
        "id": "uf7lTiZRx1cT"
      },
      "outputs": [],
      "source": [
        "# 1.elemanın 0.elemanı\n",
        "yeniliste[1][0]"
      ]
    },
    {
      "cell_type": "markdown",
      "metadata": {
        "id": "fRZ4uhpNx1cU"
      },
      "source": [
        "Pythonda listeler şimdilik bu kadar! Listelerin geri kalan özelliklerini ileride göreceğiz."
      ]
    },
    {
      "cell_type": "code",
      "execution_count": null,
      "metadata": {
        "id": "Fc2s90Uex1cU"
      },
      "outputs": [],
      "source": []
    }
  ],
  "metadata": {
    "kernelspec": {
      "display_name": "Python 2",
      "language": "python",
      "name": "python2"
    },
    "language_info": {
      "codemirror_mode": {
        "name": "ipython",
        "version": 2
      },
      "file_extension": ".py",
      "mimetype": "text/x-python",
      "name": "python",
      "nbconvert_exporter": "python",
      "pygments_lexer": "ipython2",
      "version": "2.7.12"
    },
    "colab": {
      "provenance": []
    }
  },
  "nbformat": 4,
  "nbformat_minor": 0
}