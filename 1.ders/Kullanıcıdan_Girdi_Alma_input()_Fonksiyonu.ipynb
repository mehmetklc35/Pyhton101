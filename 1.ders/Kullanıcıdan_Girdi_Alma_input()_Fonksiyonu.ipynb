{
  "cells": [
    {
      "cell_type": "markdown",
      "metadata": {
        "id": "Mj62y5WtxoJN"
      },
      "source": [
        "# Kullanıcıdan Girdi Alma - input() Fonksiyonu\n",
        "\n",
        "Programlama yaparken kullanıcıdan girdi almak oldukça önemlidir. Pythonda kullanıcıdan girdi almamızı sağlayan *input()* fonksiyonu bulunmaktadır."
      ]
    },
    {
      "cell_type": "markdown",
      "metadata": {
        "id": "huOLZsuJxoJO"
      },
      "source": [
        "### input() fonksiyonu kullanımı\n",
        "\n",
        "*input()*  fonksiyonu şu şekilde kullanılabilir.\n"
      ]
    },
    {
      "cell_type": "code",
      "execution_count": 2,
      "metadata": {
        "id": "KE5ZoCsXxoJP",
        "outputId": "182f939b-a6e0-4b0d-bdfb-ff2b0cedb13a",
        "colab": {
          "base_uri": "https://localhost:8080/",
          "height": 53
        }
      },
      "outputs": [
        {
          "name": "stdout",
          "output_type": "stream",
          "text": [
            "50\n"
          ]
        },
        {
          "output_type": "execute_result",
          "data": {
            "text/plain": [
              "'50'"
            ],
            "application/vnd.google.colaboratory.intrinsic+json": {
              "type": "string"
            }
          },
          "metadata": {},
          "execution_count": 2
        }
      ],
      "source": [
        "input() # Çalıtırdığımız zaman input fonksiyonu bizden bir girdi bekler."
      ]
    },
    {
      "cell_type": "markdown",
      "metadata": {
        "id": "j9yHSUJUxoJQ"
      },
      "source": [
        "Eğer istersek fonksiyonun içine bir değer de gönderebiliriz."
      ]
    },
    {
      "cell_type": "code",
      "execution_count": 3,
      "metadata": {
        "id": "zvqbn3xGxoJQ",
        "outputId": "a17cded7-a01e-4a34-8874-da82686eee91",
        "colab": {
          "base_uri": "https://localhost:8080/",
          "height": 53
        }
      },
      "outputs": [
        {
          "name": "stdout",
          "output_type": "stream",
          "text": [
            "Lütfen bir sayı giriniz: 50\n"
          ]
        },
        {
          "output_type": "execute_result",
          "data": {
            "text/plain": [
              "'50'"
            ],
            "application/vnd.google.colaboratory.intrinsic+json": {
              "type": "string"
            }
          },
          "metadata": {},
          "execution_count": 3
        }
      ],
      "source": [
        "input(\"Lütfen bir sayı giriniz: \")"
      ]
    },
    {
      "cell_type": "markdown",
      "metadata": {
        "id": "9CSZUxTTxoJQ"
      },
      "source": [
        "Kullanıcıdan aldığımız değeri input() fonksiyonu yoluyla şu şekilde elde edebiliriz.\n"
      ]
    },
    {
      "cell_type": "code",
      "execution_count": 4,
      "metadata": {
        "id": "UMhr7qLrxoJQ",
        "outputId": "61de7817-f1bb-4499-a32b-de75b4c7b7bc",
        "colab": {
          "base_uri": "https://localhost:8080/"
        }
      },
      "outputs": [
        {
          "output_type": "stream",
          "name": "stdout",
          "text": [
            "Lütfen bir sayı giriniz:50\n",
            "Kullanıcının girdiği değer: 50\n"
          ]
        }
      ],
      "source": [
        "a = input(\"Lütfen bir sayı giriniz:\") # Kullanıcıdan aldığımız değer a değişkenine eşit olacak.\n",
        "print(\"Kullanıcının girdiği değer:\",a)"
      ]
    },
    {
      "cell_type": "markdown",
      "metadata": {
        "id": "gMTLxDv-xoJR"
      },
      "source": [
        "Kullanıcının girdiği değer **input** fonksiyonundan string olarak bize döner."
      ]
    },
    {
      "cell_type": "code",
      "execution_count": 5,
      "metadata": {
        "id": "9ccTSmQHxoJR",
        "outputId": "1f41dfdb-2429-49c4-b0c4-108b18ed51d5",
        "colab": {
          "base_uri": "https://localhost:8080/"
        }
      },
      "outputs": [
        {
          "output_type": "stream",
          "name": "stdout",
          "text": [
            "Lütfen bir sayı giriniz:55\n",
            "<class 'str'>\n"
          ]
        }
      ],
      "source": [
        "a = input(\"Lütfen bir sayı giriniz:\")\n",
        "print(type(a))"
      ]
    },
    {
      "cell_type": "markdown",
      "metadata": {
        "id": "VXpQhgqfxoJR"
      },
      "source": [
        "Eğer biz bir sayı ile işlem yapacaksak kullanıcıdan aldığımız değere (stringi) *float* ya da *int* fonksiyonuyla **veri tipi** dönüştürme işlemi yapmamız gerekir. Çünkü aşağıdaki gibi bir program yanlış çalışacaktır."
      ]
    },
    {
      "cell_type": "code",
      "execution_count": 6,
      "metadata": {
        "id": "esXTv-BOxoJR",
        "outputId": "ed281686-a6fc-40d1-a0de-bf64ecf260f3",
        "colab": {
          "base_uri": "https://localhost:8080/"
        }
      },
      "outputs": [
        {
          "output_type": "stream",
          "name": "stdout",
          "text": [
            "Lütfen bir sayı giriniz:5\n",
            "555\n"
          ]
        }
      ],
      "source": [
        "# Hatalı Çalışma\n",
        "a = input(\"Lütfen bir sayı giriniz:\")\n",
        "print(a * 3) # Girdiğimiz değer 5 ise sonucu 15 bekleriz. Ancak sonuç 555 şeklinde ortaya çıkar."
      ]
    },
    {
      "cell_type": "code",
      "execution_count": 8,
      "metadata": {
        "id": "Esj9kQb6xoJR",
        "outputId": "7124a65c-b833-4bbc-a926-f24543610c5e",
        "colab": {
          "base_uri": "https://localhost:8080/"
        }
      },
      "outputs": [
        {
          "output_type": "stream",
          "name": "stdout",
          "text": [
            "Lütfen bir sayı giriniz:8\n",
            "24\n"
          ]
        }
      ],
      "source": [
        "# Doğru Çalışma\n",
        "a = int(input(\"Lütfen bir sayı giriniz:\")) # Veri tipi dönüşümü\n",
        "print(a * 3)"
      ]
    },
    {
      "cell_type": "code",
      "execution_count": 11,
      "metadata": {
        "id": "owuqx5L2xoJR",
        "outputId": "c1afd483-214d-4045-e651-3baa4d416991",
        "colab": {
          "base_uri": "https://localhost:8080/"
        }
      },
      "outputs": [
        {
          "output_type": "stream",
          "name": "stdout",
          "text": [
            "Lütfen bir sayı giriniz:5.4\n",
            "16.200000000000003\n"
          ]
        }
      ],
      "source": [
        "# Hatalı Çalışma\n",
        "a = float(input(\"Lütfen bir sayı giriniz:\"))\n",
        "print(a * 3) # Girdiğimiz değer 5.4 ise sonucu 16.2 bekleriz. Ancak sonuç 5.45.45.4 şeklinde ortaya çıkar."
      ]
    },
    {
      "cell_type": "code",
      "execution_count": null,
      "metadata": {
        "id": "kAjaGbnJxoJS",
        "outputId": "277be7e8-e680-44cc-80c3-d54ebe0b76e2"
      },
      "outputs": [
        {
          "name": "stdout",
          "output_type": "stream",
          "text": [
            "Lütfen bir sayı giriniz:5.4\n",
            "16.200000000000003\n"
          ]
        }
      ],
      "source": [
        "# Doğru Çalışma\n",
        "a = float(input(\"Lütfen bir sayı giriniz:\"))\n",
        "print(a * 3) # Girdiğimiz değer 5.4 ise sonucu 16.2 bekleriz. Ancak sonuç 5.45.45.4 şeklinde ortaya çıkar."
      ]
    },
    {
      "cell_type": "markdown",
      "metadata": {
        "id": "lidtT_QkxoJS"
      },
      "source": [
        "Bir tane örnek program yazalım.\n"
      ]
    },
    {
      "cell_type": "code",
      "execution_count": 12,
      "metadata": {
        "id": "KAPK7UoFxoJS",
        "outputId": "beee3754-1592-4669-df16-d0c662d72cc1",
        "colab": {
          "base_uri": "https://localhost:8080/"
        }
      },
      "outputs": [
        {
          "output_type": "stream",
          "name": "stdout",
          "text": [
            "Birinci Sayı:5\n",
            "İkinci Sayı:2\n",
            "Üçüncü Sayı:3\n",
            "Toplamları: 10\n"
          ]
        }
      ],
      "source": [
        "a = int(input(\"Birinci Sayı:\"))\n",
        "b = int(input(\"İkinci Sayı:\"))\n",
        "c = int(input(\"Üçüncü Sayı:\"))\n",
        "\n",
        "print(\"Toplamları:\",a+b+c)\n"
      ]
    },
    {
      "cell_type": "markdown",
      "metadata": {
        "id": "oyuYUoE7xoJS"
      },
      "source": [
        "Peki kullanıcı eğer yanlış değer girerse ne olacak ?\n"
      ]
    },
    {
      "cell_type": "code",
      "execution_count": 14,
      "metadata": {
        "id": "PSqeyYQgxoJS",
        "outputId": "acf51af9-16b7-476b-9cdb-cc7484158464",
        "colab": {
          "base_uri": "https://localhost:8080/",
          "height": 210
        }
      },
      "outputs": [
        {
          "name": "stdout",
          "output_type": "stream",
          "text": [
            "Sayı giriniz:54abc\n"
          ]
        },
        {
          "output_type": "error",
          "ename": "ValueError",
          "evalue": "ignored",
          "traceback": [
            "\u001b[0;31m---------------------------------------------------------------------------\u001b[0m",
            "\u001b[0;31mValueError\u001b[0m                                Traceback (most recent call last)",
            "\u001b[0;32m<ipython-input-14-061ec6ed0ead>\u001b[0m in \u001b[0;36m<cell line: 1>\u001b[0;34m()\u001b[0m\n\u001b[0;32m----> 1\u001b[0;31m \u001b[0ma\u001b[0m \u001b[0;34m=\u001b[0m \u001b[0mint\u001b[0m\u001b[0;34m(\u001b[0m\u001b[0minput\u001b[0m\u001b[0;34m(\u001b[0m\u001b[0;34m\"Sayı giriniz:\"\u001b[0m\u001b[0;34m)\u001b[0m\u001b[0;34m)\u001b[0m \u001b[0;31m# Dönüştüremediğimiz için hataya yol açıldı.\u001b[0m\u001b[0;34m\u001b[0m\u001b[0;34m\u001b[0m\u001b[0m\n\u001b[0m\u001b[1;32m      2\u001b[0m \u001b[0mprint\u001b[0m\u001b[0;34m(\u001b[0m\u001b[0ma\u001b[0m\u001b[0;34m)\u001b[0m\u001b[0;34m\u001b[0m\u001b[0;34m\u001b[0m\u001b[0m\n",
            "\u001b[0;31mValueError\u001b[0m: invalid literal for int() with base 10: '54abc'"
          ]
        }
      ],
      "source": [
        "a = int(input(\"Sayı giriniz:\")) # Dönüştüremediğimiz için hataya yol açıldı.\n",
        "print(a)"
      ]
    },
    {
      "cell_type": "markdown",
      "metadata": {
        "id": "bMRwJ-GfxoJS"
      },
      "source": [
        "Böyle sorunları nasıl çözeceğimizi  \"Hatalar ve İstisnalar\" bölümünde öğreneceğiz."
      ]
    },
    {
      "cell_type": "code",
      "execution_count": null,
      "metadata": {
        "collapsed": true,
        "id": "bZmeqR41xoJS"
      },
      "outputs": [],
      "source": []
    }
  ],
  "metadata": {
    "kernelspec": {
      "display_name": "Python 3",
      "language": "python",
      "name": "python3"
    },
    "language_info": {
      "codemirror_mode": {
        "name": "ipython",
        "version": 3
      },
      "file_extension": ".py",
      "mimetype": "text/x-python",
      "name": "python",
      "nbconvert_exporter": "python",
      "pygments_lexer": "ipython3",
      "version": "3.6.1"
    },
    "colab": {
      "provenance": []
    }
  },
  "nbformat": 4,
  "nbformat_minor": 0
}