{
  "cells": [
    {
      "cell_type": "markdown",
      "metadata": {
        "id": "U_bE40uYzgys"
      },
      "source": [
        "## Programlama Ödevi -  Döngüler\n",
        "\n",
        "*Tebrikler! Bölümü başarıyla bitirdiniz. Şimdi, öğrendiklerinizin akılda kalması için ödevinizi yapma zamanı!*\n",
        "\n",
        "***Not: Buradaki tüm problemler sizin algoritma yeteneğinizi oldukça geliştirecektir. O yüzden zorlandığınız noktalarda pes etmeyin. Üzerine kafa yormaya ve sürekli denemeye çalışın.***"
      ]
    },
    {
      "cell_type": "markdown",
      "metadata": {
        "id": "x-F_DYBszgyv"
      },
      "source": [
        "### Problem 1\n",
        "\n",
        "Kullanıcıdan aldığınız bir sayının mükemmel olup olmadığını bulmaya çalışın.\n",
        "\n",
        "\n",
        "*Bir sayının kendi hariç bölenlerinin toplamı kendine eşitse bu sayıya \"mükemmel sayı\" denir. Örnek olarak, 6 mükemmel bir sayıdır. (1 + 2 + 3 = 6)*"
      ]
    },
    {
      "cell_type": "markdown",
      "metadata": {
        "id": "i7t1joZWzgyw"
      },
      "source": [
        "### Problem 2"
      ]
    },
    {
      "cell_type": "markdown",
      "metadata": {
        "id": "gxTPp958zgyw"
      },
      "source": [
        "Kullanıcıdan aldığınız bir sayının \"Armstrong\" sayısı olup olmadığını bulmaya çalışın.\n",
        "\n",
        "*Örnek olarak, Bir sayı eğer 4 basamaklı ise ve oluşturan rakamlardan herbirinin 4. kuvvetinin toplamı( 3 basamaklı sayılar için 3.kuvveti ) o sayıya eşitse bu sayıya \"Armstrong\" sayısı denir.*\n",
        "\n",
        "*Örnek olarak : 1634 =  1^4 + 6^4 + 3^4 + 4^4*\n"
      ]
    },
    {
      "cell_type": "markdown",
      "metadata": {
        "id": "ZxAlPu_8zgyw"
      },
      "source": [
        "### Problem 3\n",
        "\n",
        "1'den 10'kadar olan sayılarla ekrana çarpım tablosu bastırmaya çalışın.\n",
        "\n",
        "***İpucu: İç içe 2 tane for döngüsü kullanın. Aynı zamanda sayıları range() fonksiyonunu kullanarak elde edin.***"
      ]
    },
    {
      "cell_type": "markdown",
      "metadata": {
        "id": "cuT6O6Dbzgyx"
      },
      "source": [
        "### Problem 4\n",
        "\n",
        "Her bir while döngüsünde kullanıcıdan bir sayı alın ve kullanıcının girdiği sayıları \"toplam\" isimli bir değişkene ekleyin. Kullanıcı \"q\" tuşuna bastığı zaman döngüyü sonlandırın ve ekrana \"toplam değişkenini\" bastırın.\n",
        "\n",
        "***İpucu : while döngüsünü sonsuz koşulla başlatın ve kullanıcı  q'ya basarsa döngüyü break ile sonlandırın.***"
      ]
    },
    {
      "cell_type": "markdown",
      "metadata": {
        "id": "WRxgJrSEzgyx"
      },
      "source": [
        "### Problem 5\n",
        "\n",
        "1'den 100'e kadar olan sayılardan sadece 3'e bölünen sayıları ekrana bastırın. Bu işlemi ***continue*** ile yapmaya çalışın."
      ]
    },
    {
      "cell_type": "markdown",
      "metadata": {
        "id": "fNv4t8gtzgyx"
      },
      "source": [
        "### Problem 6\n",
        "\n",
        "Buradaki problemin çözümünü derslerimizde özellikle öğrenmedik. Burada mantık yürüterek ve list comprehension kullanarak 1'den 100'e kadar olan sayılardan sadece çift sayıları bir listeye atmayı yapmayı çalışın.\n",
        "\n",
        "*Not: Programlamada her detayı öğrenemeyiz. Bunun için bazı yerlerde deneme yanılma yoluyla da öğrendiğimiz şeyler olur. Bu problemde deneme yanılma yoluyla list comprehension'ın koşullu durumlarla kullanımını öğreneceksiniz.*\n",
        "\n",
        "*İpucu: Basit düşünmeye çalışın.*\n"
      ]
    }
  ],
  "metadata": {
    "kernelspec": {
      "display_name": "Python 3",
      "language": "python",
      "name": "python3"
    },
    "language_info": {
      "codemirror_mode": {
        "name": "ipython",
        "version": 3
      },
      "file_extension": ".py",
      "mimetype": "text/x-python",
      "name": "python",
      "nbconvert_exporter": "python",
      "pygments_lexer": "ipython3",
      "version": "3.6.1"
    },
    "colab": {
      "provenance": []
    }
  },
  "nbformat": 4,
  "nbformat_minor": 0
}