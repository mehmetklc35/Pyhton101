{
 "cells": [
  {
   "cell_type": "markdown",
   "metadata": {},
   "source": [
    "# Admin panelini özelleştirmek\n",
    "\n",
    "https://docs.djangoproject.com/en/5.0/ref/contrib/admin/\n",
    "\n",
    "sayfasından admin paneli özelleştirmeyle ilgili dökümanlara ulaşabilirsiniz.\n",
    "\n",
    "Eğer biz admin panelimize eklenen modellerin alanlarının isimlerini değiştirmek istersek bunu aşağıdaki gibi verbose_name ile yapabiliriz.\n",
    "\n",
    "class Article(models.Model):\n",
    "    #models.CASCADE bağlı olunan auth.User tablosundaki  #user'ımız silinirse o user'a ait article'larında silinmesini sağlar\n",
    "    author=models.ForeignKey(\"auth.User\",on_delete=models.CASCADE,verbose_name=\"yazar\")      \n",
    "    title=models.CharField(max_length=50,verbose_name=\"başlık\")\n",
    "    content=models.TextField()\n",
    "    created_date=models.DateTimeField(auto_now_add=True,verbose_name=\"Oluşturulma tarihi\")\n",
    "    def __str__(self):\n",
    "        return self.title\n",
    "\n",
    "## Biz şimdi Article modelimizi admin panele decorator kullanarak eklemeyi göreceğiz. biz hatırlarsanız önceki derslerimizde decoratorları fonksiyonlara ekstra özellikler eklemek için kullanmıştık. Biz şimdi de decorator'ların sadece fonksiyonlarla değil class'larla birlikte de kullanılabildiğini göreceğiz.\n",
    "\n",
    "from django.contrib import admin\n",
    "from .models import Article\n",
    "\n",
    "@admin.register(Article)\n",
    "class ArticleAdmin(admin.ModelAdmin):\n",
    "    #Article sayfasında hangi özelliklerin gösterileceğini seçmek için\n",
    "    list_display=[\"title\",\"author\",\"created_date\"]\n",
    "    #Article sayfasında hangi özelliklerin link alacağını belirler\n",
    "    list_display_links=[\"title\",\"created_date\"]\n",
    "    #Article sayfasında title'a göre arama özelliği geldi\n",
    "    search_fields=[\"title\"]\n",
    "    #Article sayfasında sağ köşede bir süzgeç menü oluşturulur.\n",
    "    list_filter=[\"title\",\"created_date\"]\n",
    "    ##### python aşağıdaki gibi class içinde class tanımlayabiliyoruz. ve django da bu yapıyı öneriyor. Buradaki Meta class'ı bize django \n",
    "    tarafından class'ımızın meta özelliklerini tanımlamamıza yarıyor. Biz bu ismi değiştiremeyiz.\n",
    "    #### model=Article yardımıyla Article ile ArticleAdmini bağlar.\n",
    "    class Meta:\n",
    "        model=Article"
   ]
  }
 ],
 "metadata": {
  "kernelspec": {
   "display_name": "Python 3",
   "language": "python",
   "name": "python3"
  },
  "language_info": {
   "codemirror_mode": {
    "name": "ipython",
    "version": 3
   },
   "file_extension": ".py",
   "mimetype": "text/x-python",
   "name": "python",
   "nbconvert_exporter": "python",
   "pygments_lexer": "ipython3",
   "version": "3.12.1"
  }
 },
 "nbformat": 4,
 "nbformat_minor": 2
}
