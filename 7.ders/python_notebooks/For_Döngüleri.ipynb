{
  "cells": [
    {
      "cell_type": "markdown",
      "metadata": {
        "id": "Zs4LH4J83LK-"
      },
      "source": [
        "# For Döngüleri\n",
        "\n",
        "Bu konuda Pythondaki **for** döngülerinin yapısını ve for döngülerinin kullanım alanlarını öğreneceğiz. Ancak ondan önce , Pythondaki in operatörünü öğrenmeye çalışalım."
      ]
    },
    {
      "cell_type": "markdown",
      "metadata": {
        "id": "TXg5DQbw3LK_"
      },
      "source": [
        "### in Operatörü"
      ]
    },
    {
      "cell_type": "markdown",
      "metadata": {
        "id": "nB-GQO3w3LK_"
      },
      "source": [
        "Pythondaki *in* operatörü , bir elemanın başka bir listede,demette veya stringte (karakter dizileri) bulunup bulunmadığını kontrol eder. Kullanımı şu şekildedir;\n"
      ]
    },
    {
      "cell_type": "code",
      "execution_count": null,
      "metadata": {
        "id": "h6-zMI-j3LLA",
        "outputId": "b008ae8b-9a24-4831-8b79-34d7c67e63db"
      },
      "outputs": [
        {
          "data": {
            "text/plain": [
              "True"
            ]
          },
          "execution_count": 3,
          "metadata": {},
          "output_type": "execute_result"
        }
      ],
      "source": [
        "\"a\" in \"merhaba\""
      ]
    },
    {
      "cell_type": "code",
      "execution_count": null,
      "metadata": {
        "id": "D3MNgAIW3LLB",
        "outputId": "2bc0ec8d-fdce-4068-fbc8-290f350affa8"
      },
      "outputs": [
        {
          "data": {
            "text/plain": [
              "True"
            ]
          },
          "execution_count": 4,
          "metadata": {},
          "output_type": "execute_result"
        }
      ],
      "source": [
        "\"mer\" in \"merhaba\""
      ]
    },
    {
      "cell_type": "code",
      "execution_count": null,
      "metadata": {
        "id": "YZB1Qmyx3LLB",
        "outputId": "56061f89-e670-47bc-aa12-7ee13b994480"
      },
      "outputs": [
        {
          "data": {
            "text/plain": [
              "False"
            ]
          },
          "execution_count": 5,
          "metadata": {},
          "output_type": "execute_result"
        }
      ],
      "source": [
        "\"t\" in \"merhaba\""
      ]
    },
    {
      "cell_type": "code",
      "execution_count": null,
      "metadata": {
        "id": "VYK24xjR3LLB",
        "outputId": "f9acfc6b-ae87-4ebc-8ee0-9d6e2ddf0842"
      },
      "outputs": [
        {
          "data": {
            "text/plain": [
              "True"
            ]
          },
          "execution_count": 6,
          "metadata": {},
          "output_type": "execute_result"
        }
      ],
      "source": [
        "4 in [1,2,3,4]"
      ]
    },
    {
      "cell_type": "code",
      "execution_count": null,
      "metadata": {
        "id": "8-Eu81Pq3LLC",
        "outputId": "1b0463d1-1aa4-4ae4-d907-20cf08bb424f"
      },
      "outputs": [
        {
          "data": {
            "text/plain": [
              "False"
            ]
          },
          "execution_count": 7,
          "metadata": {},
          "output_type": "execute_result"
        }
      ],
      "source": [
        "10 in [1,2,3,4]"
      ]
    },
    {
      "cell_type": "code",
      "execution_count": null,
      "metadata": {
        "id": "652croqw3LLC",
        "outputId": "645329be-3167-4f49-c8bf-b1e8451a87d4"
      },
      "outputs": [
        {
          "data": {
            "text/plain": [
              "False"
            ]
          },
          "execution_count": 8,
          "metadata": {},
          "output_type": "execute_result"
        }
      ],
      "source": [
        "4 in (1,2,3)"
      ]
    },
    {
      "cell_type": "markdown",
      "metadata": {
        "id": "cdgVDXO13LLC"
      },
      "source": [
        "### for Döngüsü\n",
        "\n",
        "for Döngüsü ,  listelerin ,demetlerin, stringlerin ve hatta sözlüklerin üzerinde dolaşmamızı sağlayan bir döngü türüdür. Yapısı şu şekildedir.\n",
        "\n",
        "\n",
        "            for eleman in veri_yapısı(liste,demet vs):\n",
        "                Yapılacak İşlemler\n",
        "Bu yapı bize şunu söyler;\n",
        "\n",
        "            eleman değişkeni her döngünün başında listenin,demetin vs. her bir elemanına eşit olacak ve her döngüde\n",
        "            bu elemanla işlem yapılacak.\n",
        "for döngüsünü daha iyi anlamak için örneklerimize bakalım."
      ]
    },
    {
      "cell_type": "markdown",
      "metadata": {
        "collapsed": true,
        "id": "4wNiuHiX3LLC"
      },
      "source": [
        "### Listeler Üzerinde Gezinmek"
      ]
    },
    {
      "cell_type": "code",
      "execution_count": null,
      "metadata": {
        "id": "WttAxOvu3LLC",
        "outputId": "a07c027d-ced0-45a8-8c4e-bbf8168c2cb5"
      },
      "outputs": [
        {
          "name": "stdout",
          "output_type": "stream",
          "text": [
            "Eleman 1\n",
            "Eleman 2\n",
            "Eleman 3\n",
            "Eleman 4\n",
            "Eleman 5\n",
            "Eleman 6\n",
            "Eleman 7\n"
          ]
        }
      ],
      "source": [
        "liste = [1,2,3,4,5,6,7]\n",
        "\n",
        "for eleman in liste:\n",
        "    print(\"Eleman\",eleman)"
      ]
    },
    {
      "cell_type": "code",
      "execution_count": null,
      "metadata": {
        "id": "A1keaDLq3LLC",
        "outputId": "cf4e2fa4-2546-4356-fa58-6eaac35c77dc"
      },
      "outputs": [
        {
          "name": "stdout",
          "output_type": "stream",
          "text": [
            "Toplam 28\n"
          ]
        }
      ],
      "source": [
        "# Liste elemanlarını toplama\n",
        "liste = [1,2,3,4,5,6,7]\n",
        "toplam = 0\n",
        "for eleman in liste:\n",
        "    toplam += eleman\n",
        "print(\"Toplam\",toplam)"
      ]
    },
    {
      "cell_type": "code",
      "execution_count": null,
      "metadata": {
        "id": "-cPCyOtJ3LLD",
        "outputId": "24b0446b-49e2-4880-de64-3c7424c70d4d"
      },
      "outputs": [
        {
          "name": "stdout",
          "output_type": "stream",
          "text": [
            "2\n",
            "4\n",
            "6\n",
            "8\n"
          ]
        }
      ],
      "source": [
        "# Çift elemanları bastırma\n",
        "liste = [1,2,3,4,5,6,7,8,9]\n",
        "\n",
        "for eleman in liste:\n",
        "    if eleman % 2 == 0:\n",
        "        print(eleman)\n"
      ]
    },
    {
      "cell_type": "markdown",
      "metadata": {
        "id": "-vkw1kJ23LLD"
      },
      "source": [
        "### Karakter Dizileri Üzerinde Gezinmek (Stringler)"
      ]
    },
    {
      "cell_type": "code",
      "execution_count": null,
      "metadata": {
        "id": "P1ltlQOL3LLD",
        "outputId": "17ba62fe-718b-4b69-d1c0-1f55cd32d798"
      },
      "outputs": [
        {
          "name": "stdout",
          "output_type": "stream",
          "text": [
            "P\n",
            "y\n",
            "t\n",
            "h\n",
            "o\n",
            "n\n"
          ]
        }
      ],
      "source": [
        "s =  \"Python\"\n",
        "for karakter in s:\n",
        "    print(karakter)"
      ]
    },
    {
      "cell_type": "code",
      "execution_count": null,
      "metadata": {
        "id": "6L43_XBy3LLD",
        "outputId": "39afb95e-e3b5-473e-9fcb-6758d9b0f338"
      },
      "outputs": [
        {
          "name": "stdout",
          "output_type": "stream",
          "text": [
            "PPP\n",
            "yyy\n",
            "ttt\n",
            "hhh\n",
            "ooo\n",
            "nnn\n"
          ]
        }
      ],
      "source": [
        "# Her bir karakterleri 3 ile çarpma\n",
        "s = \"Python\"\n",
        "\n",
        "for karakter in s:\n",
        "    print(karakter * 3)"
      ]
    },
    {
      "cell_type": "markdown",
      "metadata": {
        "id": "gP-knapI3LLD"
      },
      "source": [
        "### Demetler üzerinde gezinmek (Demetler)"
      ]
    },
    {
      "cell_type": "code",
      "execution_count": null,
      "metadata": {
        "id": "SMkbbxd93LLD",
        "outputId": "e36e564a-9b80-49b1-ce67-180604c45108"
      },
      "outputs": [
        {
          "name": "stdout",
          "output_type": "stream",
          "text": [
            "1\n",
            "2\n",
            "3\n",
            "4\n",
            "5\n",
            "6\n",
            "7\n"
          ]
        }
      ],
      "source": [
        "# Listelerle aynı mantık\n",
        "demet =  (1,2,3,4,5,6,7)\n",
        "\n",
        "for eleman in demet:\n",
        "    print(eleman)"
      ]
    },
    {
      "cell_type": "markdown",
      "metadata": {
        "id": "Yb1z2TTU3LLD"
      },
      "source": [
        "Demetlerin üzerinde for döngüsü uygularken aslında çok pratik bir yöntem bulunuyor. Aşağıdaki örneğe bakalım.\n",
        "\n"
      ]
    },
    {
      "cell_type": "code",
      "execution_count": null,
      "metadata": {
        "id": "4RWET1Vr3LLE",
        "outputId": "63c4b002-f3b4-4f0f-ee22-35aecf68e494"
      },
      "outputs": [
        {
          "name": "stdout",
          "output_type": "stream",
          "text": [
            "(1, 2)\n",
            "(3, 4)\n",
            "(5, 6)\n",
            "(7, 8)\n"
          ]
        }
      ],
      "source": [
        "# Listelerin için 2 boyutlu demetler\n",
        "\n",
        "liste = [(1,2),(3,4),(5,6),(7,8)]\n",
        "\n",
        "for eleman in liste:\n",
        "    print(eleman) # Herbir elemanın  demet olduğu görebiliyoruz."
      ]
    },
    {
      "cell_type": "code",
      "execution_count": null,
      "metadata": {
        "id": "w7oXpc0y3LLE",
        "outputId": "37ebb343-4ce6-4b45-b8a7-90b13c548d03"
      },
      "outputs": [
        {
          "name": "stdout",
          "output_type": "stream",
          "text": [
            "1 2\n",
            "3 4\n",
            "5 6\n",
            "7 8\n"
          ]
        }
      ],
      "source": [
        "# Demet içindeki herbir elemanı almak için pratik yöntem\n",
        "liste = [(1,2),(3,4),(5,6),(7,8)]\n",
        "\n",
        "for (i,j) in liste:\n",
        "    print(i,j)\n"
      ]
    },
    {
      "cell_type": "code",
      "execution_count": null,
      "metadata": {
        "id": "qWYEK_pO3LLE",
        "outputId": "1444e40d-0f7c-4983-c7f9-c7caad3b366a"
      },
      "outputs": [
        {
          "name": "stdout",
          "output_type": "stream",
          "text": [
            "6\n",
            "120\n",
            "504\n",
            "1320\n"
          ]
        }
      ],
      "source": [
        "# Demet içindeki elemanları çarpalım.\n",
        "liste = [(1,2,3),(4,5,6),(7,8,9),(10,11,12)]\n",
        "for (i,j,k) in liste:\n",
        "    print(i * j * k)"
      ]
    },
    {
      "cell_type": "markdown",
      "metadata": {
        "id": "t727qFvp3LLE"
      },
      "source": [
        "### Sözlükler üzerinde gezinmek (Dictionary)\n",
        "\n",
        "Hatırlarsanız, sözlükler konusunda 3 adet metod görmüştük. (*keys(),values(),*items()*). İsterseniz bunları burada hatırlayalım.\n"
      ]
    },
    {
      "cell_type": "code",
      "execution_count": null,
      "metadata": {
        "id": "N0TP51H73LLE",
        "outputId": "708684ba-9883-4c90-8b3d-8fcd67817430"
      },
      "outputs": [
        {
          "data": {
            "text/plain": [
              "dict_keys(['bir', 'iki', 'üç', 'dört'])"
            ]
          },
          "execution_count": 13,
          "metadata": {},
          "output_type": "execute_result"
        }
      ],
      "source": [
        "sözlük = {\"bir\":1,\"iki\":2,\"üç\":3,\"dört\":4}\n",
        "\n",
        "sözlük.keys()"
      ]
    },
    {
      "cell_type": "code",
      "execution_count": null,
      "metadata": {
        "id": "JH50qzIl3LLE",
        "outputId": "580303ef-93fa-481e-91aa-34901e7b4a48"
      },
      "outputs": [
        {
          "data": {
            "text/plain": [
              "dict_values([1, 2, 3, 4])"
            ]
          },
          "execution_count": 14,
          "metadata": {},
          "output_type": "execute_result"
        }
      ],
      "source": [
        "sözlük.values()"
      ]
    },
    {
      "cell_type": "code",
      "execution_count": null,
      "metadata": {
        "id": "CVVpcLLY3LLE",
        "outputId": "d31cfbcd-50f2-4585-90e5-c5acee4db433"
      },
      "outputs": [
        {
          "data": {
            "text/plain": [
              "dict_items([('bir', 1), ('iki', 2), ('üç', 3), ('dört', 4)])"
            ]
          },
          "execution_count": 15,
          "metadata": {},
          "output_type": "execute_result"
        }
      ],
      "source": [
        "sözlük.items()"
      ]
    },
    {
      "cell_type": "markdown",
      "metadata": {
        "id": "vtOLNxNj3LLE"
      },
      "source": [
        "Python sonuçları *dict_keys,dict_values,dict_items* olarak vermesine rağmen , bunlar üzerinde liste veya demet üzerinde gezinir gibi *for* döngüsüyle gezinebiliriz."
      ]
    },
    {
      "cell_type": "code",
      "execution_count": null,
      "metadata": {
        "id": "fQq3LA_i3LLE",
        "outputId": "7747f2e3-26d6-4f25-f272-da9e1e308ff2"
      },
      "outputs": [
        {
          "name": "stdout",
          "output_type": "stream",
          "text": [
            "bir\n",
            "iki\n",
            "üç\n",
            "dört\n"
          ]
        }
      ],
      "source": [
        "# Metodları kullanmadan sözlük üzerinde gezinmek - Sadece anahtarları alabiliyoruz.\n",
        "sözlük = {\"bir\":1,\"iki\":2,\"üç\":3,\"dört\":4}\n",
        "\n",
        "for eleman in sözlük:\n",
        "    print(eleman)"
      ]
    },
    {
      "cell_type": "code",
      "execution_count": null,
      "metadata": {
        "id": "nCTFHKW23LLF",
        "outputId": "24bf6cc5-3242-4860-dbd1-27759733db1a"
      },
      "outputs": [
        {
          "name": "stdout",
          "output_type": "stream",
          "text": [
            "bir\n",
            "iki\n",
            "üç\n",
            "dört\n"
          ]
        }
      ],
      "source": [
        "# keys() - Aynı şey\n",
        "sözlük = {\"bir\":1,\"iki\":2,\"üç\":3,\"dört\":4}\n",
        "\n",
        "for eleman in sözlük.keys():\n",
        "    print(eleman)"
      ]
    },
    {
      "cell_type": "code",
      "execution_count": null,
      "metadata": {
        "id": "nPgsXqO83LLF",
        "outputId": "522a0c32-3f45-4884-9b0c-6616243fdc93"
      },
      "outputs": [
        {
          "name": "stdout",
          "output_type": "stream",
          "text": [
            "1\n",
            "2\n",
            "3\n",
            "4\n"
          ]
        }
      ],
      "source": [
        "# values()\n",
        "sözlük = {\"bir\":1,\"iki\":2,\"üç\":3,\"dört\":4}\n",
        "\n",
        "for eleman in sözlük.values():\n",
        "    print(eleman)"
      ]
    },
    {
      "cell_type": "code",
      "execution_count": null,
      "metadata": {
        "id": "yQ_lBb843LLF",
        "outputId": "48abe690-d7d6-4a8c-e1f1-9902d7b685b1"
      },
      "outputs": [
        {
          "name": "stdout",
          "output_type": "stream",
          "text": [
            "Anahtar: bir Değer: 1\n",
            "Anahtar: iki Değer: 2\n",
            "Anahtar: üç Değer: 3\n",
            "Anahtar: dört Değer: 4\n"
          ]
        }
      ],
      "source": [
        "# items()\n",
        "sözlük = {\"bir\":1,\"iki\":2,\"üç\":3,\"dört\":4}\n",
        "\n",
        "for (i,j) in sözlük.items():\n",
        "    print(\"Anahtar:\",i,\"Değer:\",j)"
      ]
    },
    {
      "cell_type": "markdown",
      "metadata": {
        "id": "fumVDk7s3LLF"
      },
      "source": [
        "İşte *for* döngüsü bu kadar! Bir sonraki konuda *while* döngülerini anlamaya çalışacağız.\n"
      ]
    },
    {
      "cell_type": "code",
      "execution_count": null,
      "metadata": {
        "collapsed": true,
        "id": "I9fH1em83LLF"
      },
      "outputs": [],
      "source": []
    }
  ],
  "metadata": {
    "kernelspec": {
      "display_name": "Python 3",
      "language": "python",
      "name": "python3"
    },
    "language_info": {
      "codemirror_mode": {
        "name": "ipython",
        "version": 3
      },
      "file_extension": ".py",
      "mimetype": "text/x-python",
      "name": "python",
      "nbconvert_exporter": "python",
      "pygments_lexer": "ipython3",
      "version": "3.6.1"
    },
    "colab": {
      "provenance": []
    }
  },
  "nbformat": 4,
  "nbformat_minor": 0
}