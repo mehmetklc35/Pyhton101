{
 "cells": [
  {
   "cell_type": "markdown",
   "metadata": {},
   "source": [
    "# Nesne Tabanlı Programlama -  Özel Metodlar"
   ]
  },
  {
   "cell_type": "markdown",
   "metadata": {},
   "source": [
    "Nesne tabanlı programlamada son olarak sınıfların özel metodlarını nasıl kendimiz yazarız öğrenmeye çalışalım. Özel metodlar, daha önceden de bahsettiğimiz gibi bizim özel olarak çağırmadığımız ancak her classa ait metodlardır. Bunların **çoğu** biz tanımlamasak bile Python tarafından varsayılan olarak tanımlanır. Ancak bu metodların bazılarını da **özel olarak bizim tanımlamamız** gerekmektedir. Daha önceden gördüğümüz __init__ metodu bu metodlara bir örnektir. Bu konuda bu metodlarını nasıl tanımlayacağımızı öğrenmeye çalışacağız. Şimdi örneklerimize geçelim."
   ]
  },
  {
   "cell_type": "code",
   "execution_count": 64,
   "metadata": {
    "collapsed": true
   },
   "outputs": [],
   "source": [
    "class Kitap():\n",
    "    pass"
   ]
  },
  {
   "cell_type": "code",
   "execution_count": 65,
   "metadata": {
    "collapsed": true
   },
   "outputs": [],
   "source": [
    "kitap1 = Kitap() # __init__ metodu çağrılıyor."
   ]
  },
  {
   "cell_type": "code",
   "execution_count": 66,
   "metadata": {},
   "outputs": [
    {
     "ename": "TypeError",
     "evalue": "object of type 'Kitap' has no len()",
     "output_type": "error",
     "traceback": [
      "\u001b[1;31m---------------------------------------------------------------------------\u001b[0m",
      "\u001b[1;31mTypeError\u001b[0m                                 Traceback (most recent call last)",
      "\u001b[1;32m<ipython-input-66-5f5391921a08>\u001b[0m in \u001b[0;36m<module>\u001b[1;34m()\u001b[0m\n\u001b[1;32m----> 1\u001b[1;33m \u001b[0mlen\u001b[0m\u001b[1;33m(\u001b[0m\u001b[0mkitap1\u001b[0m\u001b[1;33m)\u001b[0m \u001b[1;31m# __len__ metodu çağrılacak ancak tanımlı değil. Bunu özellikle bizim tanımlamamız gerekiyor.\u001b[0m\u001b[1;33m\u001b[0m\u001b[0m\n\u001b[0m",
      "\u001b[1;31mTypeError\u001b[0m: object of type 'Kitap' has no len()"
     ]
    }
   ],
   "source": [
    "len(kitap1) # __len__ metodu çağrılacak ancak tanımlı değil. Bunu özellikle bizim tanımlamamız gerekiyor."
   ]
  },
  {
   "cell_type": "code",
   "execution_count": 67,
   "metadata": {},
   "outputs": [
    {
     "name": "stdout",
     "output_type": "stream",
     "text": [
      "<__main__.Kitap object at 0x000000CEE4E93390>\n"
     ]
    }
   ],
   "source": [
    "print(kitap1) # __str__ metodu çağrılır."
   ]
  },
  {
   "cell_type": "code",
   "execution_count": 68,
   "metadata": {
    "collapsed": true
   },
   "outputs": [],
   "source": [
    "del kitap1 # del anahtar kelimesi bir objeyi siler ve __del__ metodu çağrılır. "
   ]
  },
  {
   "cell_type": "code",
   "execution_count": 69,
   "metadata": {},
   "outputs": [
    {
     "ename": "NameError",
     "evalue": "name 'kitap1' is not defined",
     "output_type": "error",
     "traceback": [
      "\u001b[1;31m---------------------------------------------------------------------------\u001b[0m",
      "\u001b[1;31mNameError\u001b[0m                                 Traceback (most recent call last)",
      "\u001b[1;32m<ipython-input-69-361ccf2f9d6d>\u001b[0m in \u001b[0;36m<module>\u001b[1;34m()\u001b[0m\n\u001b[1;32m----> 1\u001b[1;33m \u001b[0mkitap1\u001b[0m\u001b[1;33m\u001b[0m\u001b[0m\n\u001b[0m",
      "\u001b[1;31mNameError\u001b[0m: name 'kitap1' is not defined"
     ]
    }
   ],
   "source": [
    "kitap1"
   ]
  },
  {
   "cell_type": "markdown",
   "metadata": {},
   "source": [
    "Şimdi buradaki metodları kendimiz nasıl tanımlayacağız öğrenmeye çalışalım.\n",
    "\n",
    "###  init metodu\n",
    "\n",
    "init metodunu kendimiz tanımlarsak artık kendi init fonksiyonumuz çalışacaktır."
   ]
  },
  {
   "cell_type": "code",
   "execution_count": 71,
   "metadata": {
    "collapsed": true,
    "scrolled": true
   },
   "outputs": [],
   "source": [
    "class Kitap():\n",
    "    def __init__(self,isim,yazar,sayfa_sayısı,tür): \n",
    "        print(\"Kitap Objesi oluşuyor....\")\n",
    "        self.isim = isim\n",
    "        self.yazar = yazar\n",
    "        self.sayfa_sayısı = sayfa_sayısı\n",
    "        self.tür = tür"
   ]
  },
  {
   "cell_type": "code",
   "execution_count": 72,
   "metadata": {},
   "outputs": [
    {
     "name": "stdout",
     "output_type": "stream",
     "text": [
      "Kitap Objesi oluşuyor....\n"
     ]
    }
   ],
   "source": [
    "kitap1 = Kitap(\"İstanbul Hatırası\",\"Ahmet Ümit\",561,\"Polisiye\") # Kendi metodumuz "
   ]
  },
  {
   "cell_type": "markdown",
   "metadata": {},
   "source": [
    "### __str__ metodu\n",
    "\n",
    "Normalde **print(kitap1)** ifadesi ekrana şöyle bir yazı yazdırıyor."
   ]
  },
  {
   "cell_type": "code",
   "execution_count": 73,
   "metadata": {},
   "outputs": [
    {
     "name": "stdout",
     "output_type": "stream",
     "text": [
      "<__main__.Kitap object at 0x000000CEE886EAC8>\n"
     ]
    }
   ],
   "source": [
    "print(kitap1)"
   ]
  },
  {
   "cell_type": "markdown",
   "metadata": {},
   "source": [
    "Ancak eğer __str__ metodunu kendimiz tanımlarsak artık ekrana **kitap1** in içeriğini daha anlaşılır yazabileceğiz."
   ]
  },
  {
   "cell_type": "code",
   "execution_count": 74,
   "metadata": {
    "collapsed": true
   },
   "outputs": [],
   "source": [
    "class Kitap():\n",
    "    def __init__(self,isim,yazar,sayfa_sayısı,tür): \n",
    "        print(\"Kitap Objesi oluşuyor....\")\n",
    "        self.isim = isim\n",
    "        self.yazar = yazar\n",
    "        self.sayfa_sayısı = sayfa_sayısı\n",
    "        self.tür = tür\n",
    "    def __str__(self):\n",
    "        # Return kullanmamız gerekli\n",
    "        return \"İsim: {}\\nYazar: {}\\nSayfa Sayısı: {}\\nTür: {}\".format(self.isim,self.yazar,self.sayfa_sayısı,self.tür)"
   ]
  },
  {
   "cell_type": "code",
   "execution_count": 75,
   "metadata": {},
   "outputs": [
    {
     "name": "stdout",
     "output_type": "stream",
     "text": [
      "Kitap Objesi oluşuyor....\n"
     ]
    }
   ],
   "source": [
    "kitap1 = Kitap(\"İstanbul Hatırası\",\"Ahmet Ümit\",561,\"Polisiye\")"
   ]
  },
  {
   "cell_type": "code",
   "execution_count": 76,
   "metadata": {},
   "outputs": [
    {
     "name": "stdout",
     "output_type": "stream",
     "text": [
      "İsim: İstanbul Hatırası\n",
      "Yazar: Ahmet Ümit\n",
      "Sayfa Sayısı: 561\n",
      "Tür: Polisiye\n"
     ]
    }
   ],
   "source": [
    "print(kitap1)"
   ]
  },
  {
   "cell_type": "markdown",
   "metadata": {},
   "source": [
    "### len metodu\n",
    "\n",
    "len metodu normalde özel olarak biz tanımlamazsak tanımlanan bir metod değil. Onun için bu metodu kendimiz tanımlamamız gereklidir."
   ]
  },
  {
   "cell_type": "code",
   "execution_count": 77,
   "metadata": {},
   "outputs": [
    {
     "ename": "TypeError",
     "evalue": "object of type 'Kitap' has no len()",
     "output_type": "error",
     "traceback": [
      "\u001b[1;31m---------------------------------------------------------------------------\u001b[0m",
      "\u001b[1;31mTypeError\u001b[0m                                 Traceback (most recent call last)",
      "\u001b[1;32m<ipython-input-77-ab6b326ab715>\u001b[0m in \u001b[0;36m<module>\u001b[1;34m()\u001b[0m\n\u001b[1;32m----> 1\u001b[1;33m \u001b[0mlen\u001b[0m\u001b[1;33m(\u001b[0m\u001b[0mkitap1\u001b[0m\u001b[1;33m)\u001b[0m\u001b[1;33m\u001b[0m\u001b[0m\n\u001b[0m",
      "\u001b[1;31mTypeError\u001b[0m: object of type 'Kitap' has no len()"
     ]
    }
   ],
   "source": [
    "len(kitap1)"
   ]
  },
  {
   "cell_type": "code",
   "execution_count": 81,
   "metadata": {
    "collapsed": true
   },
   "outputs": [],
   "source": [
    "class Kitap():\n",
    "    def __init__(self,isim,yazar,sayfa_sayısı,tür): \n",
    "        print(\"Kitap Objesi oluşuyor....\")\n",
    "        self.isim = isim\n",
    "        self.yazar = yazar\n",
    "        self.sayfa_sayısı = sayfa_sayısı\n",
    "        self.tür = tür\n",
    "    def __str__(self):\n",
    "        # Return kullanmamız gerekli\n",
    "        return \"İsim: {}\\nYazar: {}\\nSayfa Sayısı: {}\\nTür: {}\".format(self.isim,self.yazar,self.sayfa_sayısı,self.tür)\n",
    "    def __len__(self):\n",
    "        return self.sayfa_sayısı"
   ]
  },
  {
   "cell_type": "code",
   "execution_count": 82,
   "metadata": {},
   "outputs": [
    {
     "name": "stdout",
     "output_type": "stream",
     "text": [
      "Kitap Objesi oluşuyor....\n"
     ]
    }
   ],
   "source": [
    "kitap1 = Kitap(\"İstanbul Hatırası\",\"Ahmet Ümit\",561,\"Polisiye\")"
   ]
  },
  {
   "cell_type": "code",
   "execution_count": 84,
   "metadata": {},
   "outputs": [
    {
     "data": {
      "text/plain": [
       "561"
      ]
     },
     "execution_count": 84,
     "metadata": {},
     "output_type": "execute_result"
    }
   ],
   "source": [
    "len(kitap1) # KEndi __len__ metodumuz çağrıldı."
   ]
  },
  {
   "cell_type": "markdown",
   "metadata": {},
   "source": [
    "### del metodu\n",
    "\n",
    "del metodu Pythonda bir objeyi **del** anahtar kelimesiyle sildiğimiz zaman çalıştırılan metoddur. Bu metodu kendimiz tanımlayarak ekstra özellikler ekleyebiliriz."
   ]
  },
  {
   "cell_type": "code",
   "execution_count": 85,
   "metadata": {},
   "outputs": [
    {
     "name": "stdout",
     "output_type": "stream",
     "text": [
      "Kitap Objesi oluşuyor....\n"
     ]
    }
   ],
   "source": [
    "kitap1 = Kitap(\"İstanbul Hatırası\",\"Ahmet Ümit\",561,\"Polisiye\")"
   ]
  },
  {
   "cell_type": "code",
   "execution_count": 86,
   "metadata": {
    "collapsed": true
   },
   "outputs": [],
   "source": [
    "del kitap1"
   ]
  },
  {
   "cell_type": "code",
   "execution_count": 87,
   "metadata": {},
   "outputs": [
    {
     "ename": "NameError",
     "evalue": "name 'kitap1' is not defined",
     "output_type": "error",
     "traceback": [
      "\u001b[1;31m---------------------------------------------------------------------------\u001b[0m",
      "\u001b[1;31mNameError\u001b[0m                                 Traceback (most recent call last)",
      "\u001b[1;32m<ipython-input-87-361ccf2f9d6d>\u001b[0m in \u001b[0;36m<module>\u001b[1;34m()\u001b[0m\n\u001b[1;32m----> 1\u001b[1;33m \u001b[0mkitap1\u001b[0m\u001b[1;33m\u001b[0m\u001b[0m\n\u001b[0m",
      "\u001b[1;31mNameError\u001b[0m: name 'kitap1' is not defined"
     ]
    }
   ],
   "source": [
    "kitap1"
   ]
  },
  {
   "cell_type": "code",
   "execution_count": 88,
   "metadata": {
    "collapsed": true
   },
   "outputs": [],
   "source": [
    "class Kitap():\n",
    "    def __init__(self,isim,yazar,sayfa_sayısı,tür): \n",
    "        print(\"Kitap Objesi oluşuyor....\")\n",
    "        self.isim = isim\n",
    "        self.yazar = yazar\n",
    "        self.sayfa_sayısı = sayfa_sayısı\n",
    "        self.tür = tür\n",
    "    def __str__(self):\n",
    "        # Return kullanmamız gerekli\n",
    "        return \"İsim: {}\\nYazar: {}\\nSayfa Sayısı: {}\\nTür: {}\".format(self.isim,self.yazar,self.sayfa_sayısı,self.tür)\n",
    "    def __len__(self):\n",
    "        return self.sayfa_sayısı\n",
    "    def __del__(self):\n",
    "        print(\"Kitap objesi siliniyor.......\")"
   ]
  },
  {
   "cell_type": "code",
   "execution_count": 94,
   "metadata": {},
   "outputs": [
    {
     "name": "stdout",
     "output_type": "stream",
     "text": [
      "Kitap Objesi oluşuyor....\n"
     ]
    }
   ],
   "source": [
    "kitap1 = Kitap(\"İstanbul Hatırası\",\"Ahmet Ümit\",561,\"Polisiye\")"
   ]
  },
  {
   "cell_type": "code",
   "execution_count": 95,
   "metadata": {},
   "outputs": [
    {
     "name": "stdout",
     "output_type": "stream",
     "text": [
      "Kitap objesi siliniyor.......\n"
     ]
    }
   ],
   "source": [
    "del kitap1  # Ekstra ekrana yazdırma özelliği ekledik."
   ]
  },
  {
   "cell_type": "code",
   "execution_count": 96,
   "metadata": {},
   "outputs": [
    {
     "ename": "NameError",
     "evalue": "name 'kitap1' is not defined",
     "output_type": "error",
     "traceback": [
      "\u001b[1;31m---------------------------------------------------------------------------\u001b[0m",
      "\u001b[1;31mNameError\u001b[0m                                 Traceback (most recent call last)",
      "\u001b[1;32m<ipython-input-96-361ccf2f9d6d>\u001b[0m in \u001b[0;36m<module>\u001b[1;34m()\u001b[0m\n\u001b[1;32m----> 1\u001b[1;33m \u001b[0mkitap1\u001b[0m\u001b[1;33m\u001b[0m\u001b[0m\n\u001b[0m",
      "\u001b[1;31mNameError\u001b[0m: name 'kitap1' is not defined"
     ]
    }
   ],
   "source": [
    "kitap1"
   ]
  },
  {
   "cell_type": "markdown",
   "metadata": {},
   "source": [
    "Siz de bunlar gibi çoğu özel metodu ihtiyacınız olduğu zaman kendiniz yazabilirsiniz. Özel metodlar için güzel bir ingilizce kaynak için şuradan faydalanabilirsiniz."
   ]
  },
  {
   "cell_type": "markdown",
   "metadata": {},
   "source": [
    "http://www.diveintopython3.net/special-method-names.html"
   ]
  }
 ],
 "metadata": {
  "kernelspec": {
   "display_name": "Python 3",
   "language": "python",
   "name": "python3"
  },
  "language_info": {
   "codemirror_mode": {
    "name": "ipython",
    "version": 3
   },
   "file_extension": ".py",
   "mimetype": "text/x-python",
   "name": "python",
   "nbconvert_exporter": "python",
   "pygments_lexer": "ipython3",
   "version": "3.6.1"
  }
 },
 "nbformat": 4,
 "nbformat_minor": 2
}
