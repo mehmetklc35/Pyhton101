{
  "cells": [
    {
      "cell_type": "markdown",
      "metadata": {
        "collapsed": true,
        "id": "5qni9IbmQnET"
      },
      "source": [
        "# Nesne Tabanlı Programlama - Sınıflar"
      ]
    },
    {
      "cell_type": "markdown",
      "metadata": {
        "id": "t6paHIJRQnEU"
      },
      "source": [
        "Bu konuda artık kendi veri tiplerimizi ve objelerimizi üretmeye başlayacağız."
      ]
    },
    {
      "cell_type": "markdown",
      "metadata": {
        "id": "rIrxW1cbQnEV"
      },
      "source": [
        "Kendi veri tiplerimizi oluşturmak ve bu veri tiplerinden objeler üretmemiz için öncelikle objeleri üreteceğimiz yapıyı tanımlamamız gerekiyor. Bunu tasarladığımız yapıya da **sınıf** veya ingilizce ismiyle **class diyoruz.** Şimdi class yapılarını öğrenerek konumuza başlayalım."
      ]
    },
    {
      "cell_type": "markdown",
      "metadata": {
        "id": "xrw0n71cQnEV"
      },
      "source": [
        "### Class Anahtar Kelimesi\n",
        "\n",
        "**Sınıflar veya Classlar** objelerimizi oluştururken objelerin özelliklerini ve metodlarını tanımladığımız bir yapıdır ve biz herbir objeyi bu yapıya göre üretiriz. İsterseniz bir Araba **classı** tanımlayarak yapımızı kurmaya başlayalım.\n",
        "\n"
      ]
    },
    {
      "cell_type": "code",
      "execution_count": 1,
      "metadata": {
        "collapsed": true,
        "id": "IalzMx4FQnEV"
      },
      "outputs": [],
      "source": [
        "#  Yeni bir Araba veri tipi oluşturuyoruz.\n",
        "class Araba():\n",
        "    model =  \"Renault Megane\"\n",
        "    renk = \"Gümüş\"            # Sınıfımızın özellikleri (attributes)\n",
        "    beygir_gücü = 110\n",
        "    silindir = 4\n",
        "\n",
        ""
      ]
    },
    {
      "cell_type": "markdown",
      "metadata": {
        "id": "R6J9OdiIQnEW"
      },
      "source": [
        "Sınıfımızı Pythonda tanımladık. Peki bu sınıftan obje nasıl oluşturacağız ? Bunu da şu şekilde yapabiliyoruz. instance oluşturma\n",
        "\n",
        "**----------------------------------------------------------------------------------------------------------------------------**\n",
        "\n",
        "         obje_ismi = Sınıf_İsmi(parametreler(opsiyonel))\n",
        "         \n",
        "**----------------------------------------------------------------------------------------------------------------------------**"
      ]
    },
    {
      "cell_type": "code",
      "execution_count": 2,
      "metadata": {
        "collapsed": true,
        "id": "kosfWhUqQnEX"
      },
      "outputs": [],
      "source": [
        "selcugun_araci =  Araba() # Araba veri tipinden bir \"araba1\" isminde bir obje oluşturduk."
      ]
    },
    {
      "cell_type": "code",
      "execution_count": 4,
      "metadata": {
        "id": "Uugg-VurQnEX",
        "outputId": "494e4d85-1e4a-4c20-9fb0-56b802f74ec1",
        "colab": {
          "base_uri": "https://localhost:8080/"
        }
      },
      "outputs": [
        {
          "output_type": "stream",
          "name": "stdout",
          "text": [
            "<__main__.Araba object at 0x7f46ee045ea0>\n"
          ]
        }
      ],
      "source": [
        "print(selcugun_araci) # Objemizin veri tipi Araba"
      ]
    },
    {
      "cell_type": "code",
      "execution_count": 6,
      "metadata": {
        "id": "ry70YTusQnEX",
        "outputId": "ffb4ce58-7d8c-4f72-b7db-87ee4a68021f",
        "colab": {
          "base_uri": "https://localhost:8080/"
        }
      },
      "outputs": [
        {
          "output_type": "execute_result",
          "data": {
            "text/plain": [
              "__main__.Araba"
            ]
          },
          "metadata": {},
          "execution_count": 6
        }
      ],
      "source": [
        "type(selcugun_araci)"
      ]
    },
    {
      "cell_type": "markdown",
      "metadata": {
        "id": "2b-3Gjf2QnEY"
      },
      "source": [
        "**selcugun_araci** objesi artık sınıfta tanımladığımız bütün özelliklere (attributes) sahip olmuş oldu. İşte sınıf ve obje üretmek bu şekilde olmaktadır. Peki bu araba objesinin özelliklerinin nasıl görebiliriz ?\n",
        "\n",
        "**--------------------------------------------------------------------------------------------------------------------------**\n",
        "\n",
        "            obje_ismi.özellik_ismi\n",
        "**--------------------------------------------------------------------------------------------------------------------------**"
      ]
    },
    {
      "cell_type": "code",
      "execution_count": 7,
      "metadata": {
        "id": "_Tbo9iz2QnEY",
        "outputId": "da0b6a85-0303-43fa-b9f9-632455fd1a87",
        "colab": {
          "base_uri": "https://localhost:8080/",
          "height": 36
        }
      },
      "outputs": [
        {
          "output_type": "execute_result",
          "data": {
            "text/plain": [
              "'Renault Megane'"
            ],
            "application/vnd.google.colaboratory.intrinsic+json": {
              "type": "string"
            }
          },
          "metadata": {},
          "execution_count": 7
        }
      ],
      "source": [
        "selcugun_araci.model"
      ]
    },
    {
      "cell_type": "code",
      "execution_count": 9,
      "metadata": {
        "id": "v82tJgkpQnEY",
        "outputId": "35907084-7733-4672-81a0-3108e5cd3cee",
        "colab": {
          "base_uri": "https://localhost:8080/"
        }
      },
      "outputs": [
        {
          "output_type": "stream",
          "name": "stdout",
          "text": [
            "Gümüş\n"
          ]
        }
      ],
      "source": [
        "print(selcugun_araci.renk)"
      ]
    },
    {
      "cell_type": "code",
      "execution_count": 10,
      "metadata": {
        "id": "FX7SzDlCQnEY",
        "outputId": "9de22f14-81af-4601-afaa-a77b5788dd67",
        "colab": {
          "base_uri": "https://localhost:8080/"
        }
      },
      "outputs": [
        {
          "output_type": "execute_result",
          "data": {
            "text/plain": [
              "110"
            ]
          },
          "metadata": {},
          "execution_count": 10
        }
      ],
      "source": [
        "selcugun_araci.beygir_gücü"
      ]
    },
    {
      "cell_type": "code",
      "execution_count": 11,
      "metadata": {
        "id": "BroeeiCdQnEY",
        "outputId": "c265b8cd-a399-412c-9d32-65d49307f33f",
        "colab": {
          "base_uri": "https://localhost:8080/"
        }
      },
      "outputs": [
        {
          "output_type": "execute_result",
          "data": {
            "text/plain": [
              "4"
            ]
          },
          "metadata": {},
          "execution_count": 11
        }
      ],
      "source": [
        "selcugun_araci.silindir"
      ]
    },
    {
      "cell_type": "markdown",
      "metadata": {
        "id": "XJwZg5GrQnEZ"
      },
      "source": [
        "Şimdi de başka bir **Araba** objesi oluşturalım."
      ]
    },
    {
      "cell_type": "code",
      "execution_count": 13,
      "metadata": {
        "collapsed": true,
        "id": "qnMyndpIQnEZ"
      },
      "outputs": [],
      "source": [
        "araba2 =  Araba()"
      ]
    },
    {
      "cell_type": "code",
      "execution_count": 14,
      "metadata": {
        "id": "LBQnQ5YvQnEZ",
        "outputId": "d0dca07f-330e-4abf-af5d-20fdc68979d1",
        "colab": {
          "base_uri": "https://localhost:8080/",
          "height": 36
        }
      },
      "outputs": [
        {
          "output_type": "execute_result",
          "data": {
            "text/plain": [
              "'Renault Megane'"
            ],
            "application/vnd.google.colaboratory.intrinsic+json": {
              "type": "string"
            }
          },
          "metadata": {},
          "execution_count": 14
        }
      ],
      "source": [
        "araba2.model"
      ]
    },
    {
      "cell_type": "code",
      "execution_count": 15,
      "metadata": {
        "id": "AolnCBq8QnEZ",
        "outputId": "a9bc908a-86f4-4f11-9bc6-db4989fd310b",
        "colab": {
          "base_uri": "https://localhost:8080/",
          "height": 36
        }
      },
      "outputs": [
        {
          "output_type": "execute_result",
          "data": {
            "text/plain": [
              "'Gümüş'"
            ],
            "application/vnd.google.colaboratory.intrinsic+json": {
              "type": "string"
            }
          },
          "metadata": {},
          "execution_count": 15
        }
      ],
      "source": [
        "araba2.renk"
      ]
    },
    {
      "cell_type": "code",
      "execution_count": 16,
      "metadata": {
        "id": "ao3PJuawQnEZ",
        "outputId": "f4776ec2-427b-4558-a18e-345b99cd96b6",
        "colab": {
          "base_uri": "https://localhost:8080/"
        }
      },
      "outputs": [
        {
          "output_type": "execute_result",
          "data": {
            "text/plain": [
              "110"
            ]
          },
          "metadata": {},
          "execution_count": 16
        }
      ],
      "source": [
        "araba2.beygir_gücü"
      ]
    },
    {
      "cell_type": "code",
      "execution_count": 17,
      "metadata": {
        "id": "vDsIDP9RQnEZ",
        "outputId": "62ccb598-5afb-4483-d05b-9624698a05df",
        "colab": {
          "base_uri": "https://localhost:8080/"
        }
      },
      "outputs": [
        {
          "output_type": "execute_result",
          "data": {
            "text/plain": [
              "4"
            ]
          },
          "metadata": {},
          "execution_count": 17
        }
      ],
      "source": [
        "araba2.silindir"
      ]
    },
    {
      "cell_type": "code",
      "source": [
        "id(selcugun_araci)"
      ],
      "metadata": {
        "id": "qUc1qIvQS3te",
        "outputId": "21c75d7b-9199-4fdf-d8d1-bff45768f7d6",
        "colab": {
          "base_uri": "https://localhost:8080/"
        }
      },
      "execution_count": 18,
      "outputs": [
        {
          "output_type": "execute_result",
          "data": {
            "text/plain": [
              "139942617702048"
            ]
          },
          "metadata": {},
          "execution_count": 18
        }
      ]
    },
    {
      "cell_type": "code",
      "source": [
        "id(araba2)"
      ],
      "metadata": {
        "id": "J5OUEXuqS9jE",
        "outputId": "a69a5a70-f1f9-45e3-cc40-dde131235636",
        "colab": {
          "base_uri": "https://localhost:8080/"
        }
      },
      "execution_count": 19,
      "outputs": [
        {
          "output_type": "execute_result",
          "data": {
            "text/plain": [
              "139942617705072"
            ]
          },
          "metadata": {},
          "execution_count": 19
        }
      ]
    },
    {
      "cell_type": "markdown",
      "metadata": {
        "id": "6eyiN9o1QnEa"
      },
      "source": [
        "Burda gördüğümüz gibi oluşturduğumuz **objelerin** buradaki model,renk vs. gibi özelliklerinin değeri  **aynıdır.** Çünkü aslında burada tanımladığımız **özellikler** birer sınıf **özelliğidir.** Yani biz bir obje oluşturduğumuzda bu özelliklerin değerleri varsayılan olarak gelir. Bu özelliklerin değerlerine , herhangi bir **obje oluşturmadan** da erişebiliriz. Bunu da şu şekilde yapabiliriz."
      ]
    },
    {
      "cell_type": "code",
      "execution_count": 20,
      "metadata": {
        "id": "d3N-wXg5QnEa",
        "outputId": "c48a3aab-5705-42d7-e5e6-4f5083c63e8d",
        "colab": {
          "base_uri": "https://localhost:8080/",
          "height": 36
        }
      },
      "outputs": [
        {
          "output_type": "execute_result",
          "data": {
            "text/plain": [
              "'Gümüş'"
            ],
            "application/vnd.google.colaboratory.intrinsic+json": {
              "type": "string"
            }
          },
          "metadata": {},
          "execution_count": 20
        }
      ],
      "source": [
        "Araba.renk # Class_İsmi.özellik_ismi"
      ]
    },
    {
      "cell_type": "code",
      "execution_count": 21,
      "metadata": {
        "id": "NbJ0tLl9QnEa",
        "outputId": "9768d398-d762-4268-cdb9-564afc258478",
        "colab": {
          "base_uri": "https://localhost:8080/"
        }
      },
      "outputs": [
        {
          "output_type": "execute_result",
          "data": {
            "text/plain": [
              "110"
            ]
          },
          "metadata": {},
          "execution_count": 21
        }
      ],
      "source": [
        "Araba.beygir_gücü"
      ]
    },
    {
      "cell_type": "markdown",
      "metadata": {
        "id": "fdQt0y-yQnEa"
      },
      "source": [
        "Bizim her bir objeyi başlangıçta farklı değerlerle oluşturmamız için her bir objeyi oluştururken objelerin değerlerini göndermemiz gerekiyor. Bunun için de özel bir metodu  kullanmamız gerekmektedir.\n",
        "**----------------------------------------------------------------------------------------------------------------------------**\n",
        "                    __init__()\n",
        "**----------------------------------------------------------------------------------------------------------------------------**                    \n",
        "\n",
        "Peki bu metod ne anlama geliyor ? İsterseniz ilk olarak ***dir()*** fonksiyonu yardımıyla **araba1** objemizde neler var bakalım."
      ]
    },
    {
      "cell_type": "code",
      "execution_count": 25,
      "metadata": {
        "id": "HyEU9AD1QnEa",
        "outputId": "048b2b77-8618-45e4-a49f-5edeb17105de",
        "colab": {
          "base_uri": "https://localhost:8080/"
        }
      },
      "outputs": [
        {
          "output_type": "execute_result",
          "data": {
            "text/plain": [
              "['__class__',\n",
              " '__delattr__',\n",
              " '__dict__',\n",
              " '__dir__',\n",
              " '__doc__',\n",
              " '__eq__',\n",
              " '__format__',\n",
              " '__ge__',\n",
              " '__getattribute__',\n",
              " '__gt__',\n",
              " '__hash__',\n",
              " '__init__',\n",
              " '__init_subclass__',\n",
              " '__le__',\n",
              " '__lt__',\n",
              " '__module__',\n",
              " '__ne__',\n",
              " '__new__',\n",
              " '__reduce__',\n",
              " '__reduce_ex__',\n",
              " '__repr__',\n",
              " '__setattr__',\n",
              " '__sizeof__',\n",
              " '__str__',\n",
              " '__subclasshook__',\n",
              " '__weakref__',\n",
              " 'beygir_gücü',\n",
              " 'model',\n",
              " 'renk',\n",
              " 'silindir']"
            ]
          },
          "metadata": {},
          "execution_count": 25
        }
      ],
      "source": [
        "dir(selcugun_araci)"
      ]
    },
    {
      "cell_type": "markdown",
      "metadata": {
        "id": "KS7OpqrbQnEa"
      },
      "source": [
        "Burada objemizin tüm özelliklerini ve metodlarını görüyoruz. Ancak biz herhangi bir metod tanımlamamıştır. Buradaki metodlar Python tarafından bir obje oluşturulduğunda özel olarak tanımlanan metodlardır ve biz eğer özel olarak bunları tanımlamazsak Python kendisi bunları varsayılan tanımlıyor. Burada aynı zamanda **init** metodunu da görüyoruz. Eğer biz bu metodu kendimiz tanımlarsak objelerimizi farklı değerlerle başlatabiliriz.\n",
        "\n",
        "\n",
        "Aslında **init** metodu Pythonda **yapıcı(constructor ) fonksiyon** olarak tanımlanmaktadır. Bu metod **objelerimiz oluşturulurken otomatik olarak ilk çağrılan fonksiyondur.** Bu metodu özel olarak tanımlayarak objelerimizi farklı değerlerle oluşturabiliriz.\n",
        "\n",
        "Peki bu metodu nasıl tanımlayacağız ? Direk örnek üzerinden görmeye çalışalım."
      ]
    },
    {
      "cell_type": "code",
      "execution_count": 26,
      "metadata": {
        "collapsed": true,
        "id": "TUpFEN-tQnEa"
      },
      "outputs": [],
      "source": [
        "# Araba Veri tipi\n",
        "\n",
        "class Araba():\n",
        "    # Şimdilik Class özelliklerine ihtiyacımız yok.\n",
        "\n",
        "    def __init__(self):\n",
        "        print(\"init fonksiyonu çağrıldı.\")\n",
        ""
      ]
    },
    {
      "cell_type": "code",
      "execution_count": 27,
      "metadata": {
        "id": "n-GwCPBCQnEa",
        "outputId": "05f25267-f07c-4b8d-bac7-05c36cd3cb65",
        "colab": {
          "base_uri": "https://localhost:8080/"
        }
      },
      "outputs": [
        {
          "output_type": "stream",
          "name": "stdout",
          "text": [
            "init fonksiyonu çağrıldı.\n"
          ]
        }
      ],
      "source": [
        "araba1 = Araba() # araba1 objesi oluşurken otomatik olarak __init__ metodumuz çağrılıyor."
      ]
    },
    {
      "cell_type": "markdown",
      "metadata": {
        "id": "J8mVpOVgQnEb"
      },
      "source": [
        "Peki burada **self** ne anlama geliyor ? **self** anahtar kelimesi objeyi oluşturduğumuz zaman o objeyi gösteren bir referanstır ve metodlarımızda en başta bulunması gereken bir parametredir. Yani biz bir objenin bütün özelliklerini ve metodlarını bu referans üzerinden kullanabiliriz.\n",
        "\n",
        "**Objeler oluşturulurken, Python bu referansı  metodlara otomatik olarak kendisi gönderir. Özel olarak self referansını göndermemize gerek yoktur.**\n",
        "\n",
        "\n",
        "**init metodunu ve self'i ** iyi anlamak için objelerimize özellikler ekleyelim."
      ]
    },
    {
      "cell_type": "code",
      "execution_count": 28,
      "metadata": {
        "collapsed": true,
        "id": "tfpungzcQnEb"
      },
      "outputs": [],
      "source": [
        "class Araba():\n",
        "\n",
        "    def __init__(self,model,renk,beygir_gücü,silindir): # Parametrelerimizin değerlerini objelerimizi oluştururken göndereceğiz.\n",
        "        self.model =  model # self.özellik_ismi = parametre değeri şeklinde objemizin model özelliğine değeri atıyoruz.\n",
        "        self.renk = renk # self.özellik_ismi = parametre değeri şeklinde objemizin renk özelliğine değeri atıyoruz.\n",
        "        self.beygir_gücü = beygir_gücü # self.özellik_ismi = parametre değeri şeklinde objemizin beygir_gücü özelliğine değeri atıyoruz.\n",
        "        self.silindir = silindir # self.özellik_ismi = parametre değeri şeklinde objemizin silndir özelliğine değeri atıyoruz."
      ]
    },
    {
      "cell_type": "code",
      "execution_count": 29,
      "metadata": {
        "collapsed": true,
        "id": "AEFHtwsgQnEb"
      },
      "outputs": [],
      "source": [
        "# araba1 objesini oluşturalım.\n",
        "# Artık değerlerimizi göndererek objelerimizin özelliklerini istediğimiz değerle başlatabiliriz.\n",
        "araba1 = Araba(\"Peugeot 301\",\"Beyaz\",90,4)"
      ]
    },
    {
      "cell_type": "code",
      "execution_count": 30,
      "metadata": {
        "collapsed": true,
        "id": "OCGeL-iNQnEb"
      },
      "outputs": [],
      "source": [
        "# araba2 objesini oluşturalım.\n",
        "araba2 = Araba(\"Renault Megane\",\"Gümüş\",110,4)"
      ]
    },
    {
      "cell_type": "code",
      "execution_count": 31,
      "metadata": {
        "id": "ESDPY1wlQnEb",
        "outputId": "85254042-a458-4cbb-a150-cf657ef3026a",
        "colab": {
          "base_uri": "https://localhost:8080/",
          "height": 36
        }
      },
      "outputs": [
        {
          "output_type": "execute_result",
          "data": {
            "text/plain": [
              "'Peugeot 301'"
            ],
            "application/vnd.google.colaboratory.intrinsic+json": {
              "type": "string"
            }
          },
          "metadata": {},
          "execution_count": 31
        }
      ],
      "source": [
        "araba1.model"
      ]
    },
    {
      "cell_type": "code",
      "execution_count": 34,
      "metadata": {
        "id": "AuoIyq5vQnEb",
        "outputId": "98f09308-73a4-446d-8c10-23c30dc3edb1",
        "colab": {
          "base_uri": "https://localhost:8080/",
          "height": 36
        }
      },
      "outputs": [
        {
          "output_type": "execute_result",
          "data": {
            "text/plain": [
              "'Beyaz'"
            ],
            "application/vnd.google.colaboratory.intrinsic+json": {
              "type": "string"
            }
          },
          "metadata": {},
          "execution_count": 34
        }
      ],
      "source": [
        "araba1.renk"
      ]
    },
    {
      "cell_type": "code",
      "execution_count": 33,
      "metadata": {
        "id": "Yu2Tuu9yQnEb",
        "outputId": "4e8e3244-b012-43ab-a251-efbb91cfed0d",
        "colab": {
          "base_uri": "https://localhost:8080/",
          "height": 36
        }
      },
      "outputs": [
        {
          "output_type": "execute_result",
          "data": {
            "text/plain": [
              "'Renault Megane'"
            ],
            "application/vnd.google.colaboratory.intrinsic+json": {
              "type": "string"
            }
          },
          "metadata": {},
          "execution_count": 33
        }
      ],
      "source": [
        "araba2.model"
      ]
    },
    {
      "cell_type": "code",
      "execution_count": 35,
      "metadata": {
        "id": "992noslIQnEb",
        "outputId": "d315742b-78ee-451e-b9ad-451b4f7fbe51",
        "colab": {
          "base_uri": "https://localhost:8080/",
          "height": 36
        }
      },
      "outputs": [
        {
          "output_type": "execute_result",
          "data": {
            "text/plain": [
              "'Gümüş'"
            ],
            "application/vnd.google.colaboratory.intrinsic+json": {
              "type": "string"
            }
          },
          "metadata": {},
          "execution_count": 35
        }
      ],
      "source": [
        "araba2.renk"
      ]
    },
    {
      "cell_type": "markdown",
      "metadata": {
        "id": "80JAdSM6QnEb"
      },
      "source": [
        "**İstersek init metodunu varsayılan değerlerle de yazabiliriz.**"
      ]
    },
    {
      "cell_type": "code",
      "execution_count": 43,
      "metadata": {
        "collapsed": true,
        "id": "WBAf04pqQnEc"
      },
      "outputs": [],
      "source": [
        "class Araba():\n",
        "\n",
        "    def __init__(self , model = \"Bilgi Yok\",renk = \"Bilgi Yok\",beygir_gücü = 75 ,silindir = 4):\n",
        "        self.model =  model\n",
        "        self.renk = renk\n",
        "        self.beygir_gücü = beygir_gücü\n",
        "        self.silindir = silindir"
      ]
    },
    {
      "cell_type": "code",
      "execution_count": 44,
      "metadata": {
        "collapsed": true,
        "id": "QzvVfse4QnEc"
      },
      "outputs": [],
      "source": [
        "araba1 = Araba(beygir_gücü = 85, renk = \"Siyah\")"
      ]
    },
    {
      "cell_type": "code",
      "execution_count": 45,
      "metadata": {
        "id": "gJIg55cxQnEg",
        "outputId": "6b20a83d-a1da-4e82-da05-2c70ea560a1b",
        "colab": {
          "base_uri": "https://localhost:8080/",
          "height": 36
        }
      },
      "outputs": [
        {
          "output_type": "execute_result",
          "data": {
            "text/plain": [
              "'Siyah'"
            ],
            "application/vnd.google.colaboratory.intrinsic+json": {
              "type": "string"
            }
          },
          "metadata": {},
          "execution_count": 45
        }
      ],
      "source": [
        "araba1.renk"
      ]
    },
    {
      "cell_type": "code",
      "execution_count": 46,
      "metadata": {
        "id": "c3I4bxlWQnEg",
        "outputId": "557c4346-5778-471f-a487-d1a158a40238",
        "colab": {
          "base_uri": "https://localhost:8080/",
          "height": 36
        }
      },
      "outputs": [
        {
          "output_type": "execute_result",
          "data": {
            "text/plain": [
              "'Bilgi Yok'"
            ],
            "application/vnd.google.colaboratory.intrinsic+json": {
              "type": "string"
            }
          },
          "metadata": {},
          "execution_count": 46
        }
      ],
      "source": [
        "araba1.model"
      ]
    },
    {
      "cell_type": "markdown",
      "metadata": {
        "id": "uXPhPeXrQnEh"
      },
      "source": [
        "İşte burada gördüğümüz gibi bir objeyi **init** metodunu kendimiz yazarak farklı değerlerle oluşturabiliyoruz. Bir sonraki derste objelere kendi metodlarımızı nasıl yazacağımızı öğrenmeye çalışacağız."
      ]
    },
    {
      "cell_type": "code",
      "execution_count": null,
      "metadata": {
        "collapsed": true,
        "id": "Ax1-HZksQnEh"
      },
      "outputs": [],
      "source": []
    }
  ],
  "metadata": {
    "kernelspec": {
      "display_name": "Python 3",
      "language": "python",
      "name": "python3"
    },
    "language_info": {
      "codemirror_mode": {
        "name": "ipython",
        "version": 3
      },
      "file_extension": ".py",
      "mimetype": "text/x-python",
      "name": "python",
      "nbconvert_exporter": "python",
      "pygments_lexer": "ipython3",
      "version": "3.6.1"
    },
    "colab": {
      "provenance": []
    }
  },
  "nbformat": 4,
  "nbformat_minor": 0
}