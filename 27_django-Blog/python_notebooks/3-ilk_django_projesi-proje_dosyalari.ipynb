{
 "cells": [
  {
   "cell_type": "markdown",
   "metadata": {},
   "source": [
    "# İlk django projesi\n",
    "\n",
    "\n",
    "### proje oluşturma kodu\n",
    "```django-admin startproject blog```\n",
    "\n",
    "manage.py: bizim django tarafında bir uygulama oluşturmak istediğimiz zaman veya herhangi bir komut çalıştırmak istediğimiz zaman kullanacağımız dosyamız. Ve biz bu manage.py dosyamıza şu an için dokunmayacağız. yani bu dosyada herhangi bir değişiklik yapmayacağız\n",
    "\n",
    "__init__.py blog klasörünün bir python dosyası olduğunu gösterir\n",
    "\n",
    "settings.py ayarlarımızı bulunduran dosya\n",
    "\n",
    "urls.py site yönlendirme (map ayarları) işlemleri yapılır.\n",
    "\n",
    "### Django projemizi local hostta çalıştırıyoruz\n",
    "```python3 manage.py runserver```\n",
    "bu kodla web sunucumuzu ayağa kaldırmış, yani web uygulamamızı çalıştırmış oluyoruz.\n",
    "\n",
    "settings'teki LANGUAGE_CODE değerini = \"tr\" ye çevirirsek site de türkçeye çevrilmiş olur.\n",
    "\n",
    "settings'teki TIME_ZONE değerini 'Europe/Istanbul' yaparsak bu sitemizin saatini istanbul saati olarak ayarlamış oluyoruz."
   ]
  }
 ],
 "metadata": {
  "kernelspec": {
   "display_name": "Python 3",
   "language": "python",
   "name": "python3"
  },
  "language_info": {
   "codemirror_mode": {
    "name": "ipython",
    "version": 3
   },
   "file_extension": ".py",
   "mimetype": "text/x-python",
   "name": "python",
   "nbconvert_exporter": "python",
   "pygments_lexer": "ipython3",
   "version": "3.12.1"
  }
 },
 "nbformat": 4,
 "nbformat_minor": 2
}
