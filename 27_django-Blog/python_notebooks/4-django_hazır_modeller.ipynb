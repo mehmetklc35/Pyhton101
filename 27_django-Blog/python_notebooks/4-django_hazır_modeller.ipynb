{
 "cells": [
  {
   "cell_type": "markdown",
   "metadata": {},
   "source": [
    "# Django'daki hazır modeli\n",
    "\n",
    "django projesi oluşturulduğu zaman ana urls.py dosyamızın içerisinde admin url'i tanımlı olarak geliyor. /admin yazarsak direk django'nun bize sunmuş olduğu hazır admin paneline ulaşmış oluyoruz. \n",
    "\n",
    "admin panele ulaşmaya çalıştığımız zaman bize veritabanını henüz oluşturmadığımız için hata veriyor.\n",
    "\n",
    "biz datagriple bu veritabanına bağlandığımız zaman içerisinin boş olduğunu görebiliyoruz.\n",
    "\n",
    "django güçlü bir web framework'ü olduğu için django içerisinde bize yardımcı olacak bir çok app yani uygulama geliyor. \n",
    "\n",
    "Bunlardan bir tanesi de admin app'imizdir.\n",
    "\n",
    "Biz INSTALLED_APPS'er giderek admin uygulamamızın aslında django projemize eklendiğini görebiliriz.\n",
    "\n",
    "Biz ilerde kendi uygulamalarımızı yandığımız aman INSTALLED_APPS'e bu uygulamamızı tanımamız gerekiyor.\n",
    "\n",
    "Bizim buraya tanımladığımız uygulamalarımız veritabanı tabloları varsa biz bu veritabanı tablolarını veritabanımızda oluşturmalıyız. Aksi takdirde uygulamalarımız çalışmaz.\n",
    "\n",
    "Bunun için aşağıdaki komutu çalıştırmalıyız.\n",
    "\n",
    "```python manage.py migrate```\n",
    "\n",
    "admin panelimizin login ekranına ulaşmış olduk. Bu panele girebilmek için bir süper user oluşturacağız. Bunun için aşağıdaki komutu çalıştırmamız gerekli.\n",
    "\n",
    "```python manage.py createsuperuser```\n",
    "\n",
    "Ben admin panelde sistemde bulunan tüm uygulamalarımın tablolarını yönetebilirim.\n",
    "\n",
    "Yetkisiz kullanıcı oluşturup kullanıcılara yetki oluşturabilmeyi anlatabiliriz.\n"
   ]
  }
 ],
 "metadata": {
  "kernelspec": {
   "display_name": "Python 3",
   "language": "python",
   "name": "python3"
  },
  "language_info": {
   "codemirror_mode": {
    "name": "ipython",
    "version": 3
   },
   "file_extension": ".py",
   "mimetype": "text/x-python",
   "name": "python",
   "nbconvert_exporter": "python",
   "pygments_lexer": "ipython3",
   "version": "3.12.1"
  }
 },
 "nbformat": 4,
 "nbformat_minor": 2
}
