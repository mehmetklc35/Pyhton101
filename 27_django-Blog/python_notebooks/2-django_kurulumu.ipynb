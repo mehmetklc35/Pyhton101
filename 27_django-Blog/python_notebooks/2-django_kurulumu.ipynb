{
 "cells": [
  {
   "cell_type": "markdown",
   "metadata": {},
   "source": [
    "# Django Documentation\n",
    "\n",
    "https://docs.djangoproject.com/en/5.0/ \n",
    "adresinden django'nun dökümantasyonuna ulaşabiliriz. Dökümanlara sadece yeri geldiğinde bakacağız. Sürekli dökümanlara bakarsak ilerleyişimiz yavaş olabilir.\n",
    "\n",
    "Arama kısmından \"Model\" diye bir arama yaparak django modellerle ilgili dökümantasyonlara ulaşabiliriz.\n",
    "\n",
    "Download kısmında djangoyu sistemimize nasıl kurabiliriz bunu gösteren komutlar var.\n",
    "\n",
    "Linux / macOS:\n",
    "\n",
    "python -m pip install Django==5.0.3\n",
    "\n",
    "Windows:\n",
    "\n",
    "py -m pip install Django==5.0.3\n",
    "\n",
    "                \n",
    "django'nun sürümünü öğrenebilmek için\n",
    "\n",
    "django-admin --version\n"
   ]
  }
 ],
 "metadata": {
  "kernelspec": {
   "display_name": "Python 3",
   "language": "python",
   "name": "python3"
  },
  "language_info": {
   "codemirror_mode": {
    "name": "ipython",
    "version": 3
   },
   "file_extension": ".py",
   "mimetype": "text/x-python",
   "name": "python",
   "nbconvert_exporter": "python",
   "pygments_lexer": "ipython3",
   "version": "3.12.1"
  }
 },
 "nbformat": 4,
 "nbformat_minor": 2
}
