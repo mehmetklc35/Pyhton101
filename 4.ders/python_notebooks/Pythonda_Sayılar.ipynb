{
  "cells": [
    {
      "cell_type": "markdown",
      "metadata": {
        "id": "2saSWug3X5TT"
      },
      "source": [
        "# Pythonda Sayılar\n",
        "\n",
        "Bu bölümle birlikte artık Python öğrenmeye başlıyoruz. Pythonda temeli sağlam atmamız için öncelikle veri tipleri ve veri yapılarını öğrenmeliyiz.İsterseniz sayıları öğrenerek maratonumuza başlayalım.\n",
        "\n",
        "Bu bölümde şunları öğreneceğiz.\n",
        "\n",
        "        1. Tamsayı(Integer) ve Ondalıklı Sayı(Float ) Veri tipleri\n",
        "        2. Basit Matematik İşlemleri\n",
        "        3. Değişken Tanımlama\n",
        "         \n",
        "\n",
        "\n",
        "### Tamsayılar (Integer)\n",
        "\n",
        "Matematikte gördüğümüz tüm sayılar (negatif,pozitif) aslında Python'da bir veri tipidir. Tamsayılar ise ingilizce olarak **Integer** olarak geçmektedir.\n",
        "\n",
        "Örnek olarak, -1000,34,2,0 gibi sayılar Python'da birer tamsayı(integer) değerleridir.\n",
        "\n",
        "### Ondalıklı Sayılar (Float)\n",
        "\n",
        "Tamsayılar gibi Ondalıklı sayılar da bizim matematikte gördüğümüz sayı çeşitlerinden bir tanesidir. Ondalıklı sayılar matematikte olduğu gibi, Pythonda da bir veri tipidir.Ondalıklı Sayılar veya diğer adıyla Kayan Sayılar İngilizce olarak **Float** olarak geçmektedir.\n",
        "\n",
        "Örnek olarak, 3.14, 3.554546, -13.54 gibi sayılar Python'da birer ondalıklı sayı(float) değerleridir.\n",
        "\n",
        "Şimdi de bu Pythondaki basit matematik işlemlerini öğrenelim.\n",
        "\n",
        "\n",
        "### Basit Matematik Operatörleri\n",
        "\n",
        "Basit 4 işlemi (Toplama,Çıkarma,Çarpma,Bölme) hepimiz matematikten biliriz. Şimdi bu işlemlerin Pythonda nasıl yapıldığını görmeye çalışalım.\n"
      ]
    },
    {
      "cell_type": "code",
      "execution_count": null,
      "metadata": {
        "collapsed": true,
        "id": "Vw7wwpGEX5TW"
      },
      "outputs": [],
      "source": [
        "# Toplama\n",
        "3 + 4"
      ]
    },
    {
      "cell_type": "code",
      "execution_count": null,
      "metadata": {
        "id": "yIhkBZvlX5TX",
        "outputId": "4065f527-f178-4440-aa36-24ac96fdd95a"
      },
      "outputs": [
        {
          "data": {
            "text/plain": [
              "-12"
            ]
          },
          "execution_count": 3,
          "metadata": {},
          "output_type": "execute_result"
        }
      ],
      "source": [
        "#Çıkarma\n",
        "5-17"
      ]
    },
    {
      "cell_type": "code",
      "execution_count": null,
      "metadata": {
        "id": "PNdV_w69X5TY",
        "outputId": "632280eb-41ab-4fd0-a7dc-1d0194dc625f"
      },
      "outputs": [
        {
          "data": {
            "text/plain": [
              "52"
            ]
          },
          "execution_count": 4,
          "metadata": {},
          "output_type": "execute_result"
        }
      ],
      "source": [
        "#Çarpma\n",
        "13 * 4"
      ]
    },
    {
      "cell_type": "code",
      "execution_count": null,
      "metadata": {
        "id": "Yj6j--tzX5TY",
        "outputId": "44f850e6-9dc9-4d03-ce83-0013f84858c2"
      },
      "outputs": [
        {
          "data": {
            "text/plain": [
              "2.0"
            ]
          },
          "execution_count": 6,
          "metadata": {},
          "output_type": "execute_result"
        }
      ],
      "source": [
        "#Bölme\n",
        "4/2"
      ]
    },
    {
      "cell_type": "markdown",
      "metadata": {
        "id": "2HMNCB3WX5TZ"
      },
      "source": [
        "Burada basit işlemlerimizi görmüş olduk. Ancak son işlem kafanızı karıştırmış olabilir. Sonuç neden **float** bir değer olarak karşımıza çıktı? Bunları **Matematik Operatörleri** bölümünde görmek daha doğru olur diye düşünüyorum.\n",
        "\n",
        "Bu basit işlemleri gördüğümüze göre, şimdi de Pythondaki değişken tanımlama işlemlerimizi öğrenmeye çalışalım.\n",
        "\n",
        "### Değişkenler ve Değişken Tanımlama\n",
        "\n",
        "Değişkenler bir programlama dilinde olmazsa olmaz bir kavramdır. Değişkenler aslında bir veri tipinden değer tutan birimlerdir.İsterseniz şimdi de Pythonda bir tane değişken oluşturalım.\n",
        "\n"
      ]
    },
    {
      "cell_type": "code",
      "execution_count": null,
      "metadata": {
        "collapsed": true,
        "id": "xvZhMUZUX5TZ"
      },
      "outputs": [],
      "source": [
        "# Değişken ismi ve Değişkenin değeri\n",
        "i =  10"
      ]
    },
    {
      "cell_type": "markdown",
      "metadata": {
        "id": "iw0QYnv6X5TZ"
      },
      "source": [
        "Güzel! Değişkenimizi oluşturduk. Şimdi değişkenin değerini ekrana bastıralım.\n"
      ]
    },
    {
      "cell_type": "code",
      "execution_count": null,
      "metadata": {
        "id": "_2Oi8W-0X5Ta",
        "outputId": "eae31690-fcaf-4567-976d-00fc0e98038b"
      },
      "outputs": [
        {
          "data": {
            "text/plain": [
              "10"
            ]
          },
          "execution_count": 9,
          "metadata": {},
          "output_type": "execute_result"
        }
      ],
      "source": [
        "i"
      ]
    },
    {
      "cell_type": "markdown",
      "metadata": {
        "id": "7FZh6bxsX5Ta"
      },
      "source": [
        "Ekrana bastırdığımızda değişkenimizin değeri **10** olarak karşımıza çıktı.Peki şu işlemi yaparsak ne olacak ?\n"
      ]
    },
    {
      "cell_type": "code",
      "execution_count": null,
      "metadata": {
        "id": "ImHnnRstX5Ta",
        "outputId": "0c0132fb-d250-47cd-f50b-518c14d5bbef"
      },
      "outputs": [
        {
          "data": {
            "text/plain": [
              "1000"
            ]
          },
          "execution_count": 11,
          "metadata": {},
          "output_type": "execute_result"
        }
      ],
      "source": [
        "i * i *i"
      ]
    },
    {
      "cell_type": "markdown",
      "metadata": {
        "id": "U20Z86_ZX5Ta"
      },
      "source": [
        "Sonuç, değişkenimizin değerinin 3.kuvveti şeklinde karşımıza çıkmış oldu. Şimdi de değişkenimizin değerini değiştirelim. Bunun için , yeni değerimizi **\"=\"** operatörüyle değişkenimize **atamamız** gerekiyor."
      ]
    },
    {
      "cell_type": "code",
      "execution_count": null,
      "metadata": {
        "id": "DjMoMKiuX5Ta",
        "outputId": "d72e902d-4abb-4f06-d807-645a8556f4be"
      },
      "outputs": [
        {
          "data": {
            "text/plain": [
              "15"
            ]
          },
          "execution_count": 12,
          "metadata": {},
          "output_type": "execute_result"
        }
      ],
      "source": [
        "i = 15\n",
        "i"
      ]
    },
    {
      "cell_type": "markdown",
      "metadata": {
        "id": "BhQgSuVtX5Tb"
      },
      "source": [
        "Şimdi de 3 tane farklı değişken oluşturmaya çalışalım.\n"
      ]
    },
    {
      "cell_type": "code",
      "execution_count": null,
      "metadata": {
        "collapsed": true,
        "id": "9catTaS8X5Tb"
      },
      "outputs": [],
      "source": [
        "a = 4\n",
        "b = 3\n",
        "c = a  + 2*b"
      ]
    },
    {
      "cell_type": "markdown",
      "metadata": {
        "id": "B88ld6rlX5Tb"
      },
      "source": [
        "Peki burada **\"c\"** değişkeninin değeri ne olacak ? Bu işlemde ilk olarak **=** operatörünün sağ taraftaki işlemi hesaplanıyor ve sonra **c** değişkenine hesaplanan değer atanıyor.\n"
      ]
    },
    {
      "cell_type": "code",
      "execution_count": null,
      "metadata": {
        "id": "Ih2e3PA7X5Tb",
        "outputId": "ddf7fb29-83bf-496a-a9fe-2ca07038fbf1"
      },
      "outputs": [
        {
          "data": {
            "text/plain": [
              "10"
            ]
          },
          "execution_count": 15,
          "metadata": {},
          "output_type": "execute_result"
        }
      ],
      "source": [
        "c"
      ]
    },
    {
      "cell_type": "markdown",
      "metadata": {
        "id": "TwJtxlplX5Tb"
      },
      "source": [
        "İşte bu kadar basit ! Son olarak değişkenlerimize isim verirken dikkat etmemiz gereken noktalardan bahsedelim.\n"
      ]
    },
    {
      "cell_type": "markdown",
      "metadata": {
        "id": "8B45gLrRX5Tb"
      },
      "source": [
        "            1. Değişken isimleri bir sayı ile başlayamaz.\n",
        "            2. Değişken ismi kelimelerden oluşuyorsa aralarında boşluk olamaz.\n",
        "            3. :'\",<>/?|\\()!@#$%^&*~-+ Buradaki semboller değişken ismi içinde kullanılamaz.(Sadece _ sembolü kullanılabilir)\n",
        "            4. Pythonda tanımlı anahtar kelimeler değişken ismi olarak kullanılamaz.(while, not vs. )"
      ]
    },
    {
      "cell_type": "code",
      "execution_count": null,
      "metadata": {
        "id": "411SegZmX5Tb",
        "outputId": "9cf0c340-73a7-4990-d324-c911e04b0a72"
      },
      "outputs": [
        {
          "ename": "SyntaxError",
          "evalue": "invalid syntax (<ipython-input-18-e17f88f28f58>, line 2)",
          "output_type": "error",
          "traceback": [
            "\u001b[1;36m  File \u001b[1;32m\"<ipython-input-18-e17f88f28f58>\"\u001b[1;36m, line \u001b[1;32m2\u001b[0m\n\u001b[1;33m    i? = 5\u001b[0m\n\u001b[1;37m     ^\u001b[0m\n\u001b[1;31mSyntaxError\u001b[0m\u001b[1;31m:\u001b[0m invalid syntax\n"
          ]
        }
      ],
      "source": [
        "#Hatalı\n",
        "i? = 5"
      ]
    },
    {
      "cell_type": "code",
      "execution_count": null,
      "metadata": {
        "collapsed": true,
        "id": "6uKrmv02X5Tb"
      },
      "outputs": [],
      "source": [
        "#Doğru\n",
        "_i = 5"
      ]
    },
    {
      "cell_type": "markdown",
      "metadata": {
        "id": "InhA1U8dX5Tc"
      },
      "source": [
        "Son olarak öğrendiklerimizle ilgili bir kaç işlem yapalım. Sonuçlara bakmadan işlemlerin sonucunu tahmin etmeye çalışın.\n"
      ]
    },
    {
      "cell_type": "code",
      "execution_count": null,
      "metadata": {
        "collapsed": true,
        "id": "_tkyNNzwX5Tc"
      },
      "outputs": [],
      "source": [
        "pi_sayısı = 3.14\n",
        "çap = 4\n",
        "çevre = pi_sayısı * çap"
      ]
    },
    {
      "cell_type": "code",
      "execution_count": null,
      "metadata": {
        "id": "dqpXv6hnX5Tc",
        "outputId": "47e6eb87-4fc2-4356-b14a-21714265c798"
      },
      "outputs": [
        {
          "data": {
            "text/plain": [
              "12.56"
            ]
          },
          "execution_count": 21,
          "metadata": {},
          "output_type": "execute_result"
        }
      ],
      "source": [
        "çevre"
      ]
    },
    {
      "cell_type": "markdown",
      "metadata": {
        "id": "llzu9v1BX5Tc"
      },
      "source": [
        "Python'da iki değişkenin değerini birbiriyle değiştirmek için pratik bir yöntem bulunmaktadır."
      ]
    },
    {
      "cell_type": "code",
      "execution_count": null,
      "metadata": {
        "collapsed": true,
        "id": "IkoCQfUMX5Tc"
      },
      "outputs": [],
      "source": [
        "a = 4\n",
        "b = 3"
      ]
    },
    {
      "cell_type": "code",
      "execution_count": null,
      "metadata": {
        "collapsed": true,
        "id": "IbGO2EOmX5Tc"
      },
      "outputs": [],
      "source": [
        "a,b = b,a"
      ]
    },
    {
      "cell_type": "code",
      "execution_count": null,
      "metadata": {
        "id": "EuXVvvXYX5Tc",
        "outputId": "1052dd0a-17e5-4ea9-9697-80803c3b66e4"
      },
      "outputs": [
        {
          "data": {
            "text/plain": [
              "3"
            ]
          },
          "execution_count": 5,
          "metadata": {},
          "output_type": "execute_result"
        }
      ],
      "source": [
        "a"
      ]
    },
    {
      "cell_type": "code",
      "execution_count": null,
      "metadata": {
        "id": "xY66EUJOX5Tc",
        "outputId": "fabed1d2-e5ac-4c57-ce48-460b405ae28e"
      },
      "outputs": [
        {
          "data": {
            "text/plain": [
              "4"
            ]
          },
          "execution_count": 6,
          "metadata": {},
          "output_type": "execute_result"
        }
      ],
      "source": [
        "b"
      ]
    },
    {
      "cell_type": "markdown",
      "metadata": {
        "collapsed": true,
        "id": "3qWSxy_XX5Tc"
      },
      "source": [
        "Son olarak bir değişkenin değerini artırma işlemlerinde Pythonda pratik bir yöntem bulunmaktadır. Aşağıdaki koda bakalım.\n",
        "\n"
      ]
    },
    {
      "cell_type": "code",
      "execution_count": null,
      "metadata": {
        "id": "8w_bk2N6X5Tc",
        "outputId": "c94533de-f491-453f-ef9e-5cce48a4cb27"
      },
      "outputs": [
        {
          "data": {
            "text/plain": [
              "6"
            ]
          },
          "execution_count": 1,
          "metadata": {},
          "output_type": "execute_result"
        }
      ],
      "source": [
        "a = 5\n",
        "a = a + 1\n",
        "a"
      ]
    },
    {
      "cell_type": "markdown",
      "metadata": {
        "id": "VA7wLX5fX5Tc"
      },
      "source": [
        "Buradaki **\"a = a + 1\"** işlemini Pythonda **\"a += 1\"** şeklinde yazabiliriz.\n"
      ]
    },
    {
      "cell_type": "code",
      "execution_count": null,
      "metadata": {
        "id": "DknlbaatX5Td",
        "outputId": "e803e5b8-1ccc-468b-9090-d9281d59a089"
      },
      "outputs": [
        {
          "data": {
            "text/plain": [
              "11"
            ]
          },
          "execution_count": 2,
          "metadata": {},
          "output_type": "execute_result"
        }
      ],
      "source": [
        "a = 10\n",
        "a += 1 # a = a + 1 ile aynı şey.\n",
        "a"
      ]
    },
    {
      "cell_type": "code",
      "execution_count": null,
      "metadata": {
        "id": "TK1QIOTNX5Td",
        "outputId": "e8dab103-e2f1-4864-9be1-3f0767e8680d"
      },
      "outputs": [
        {
          "data": {
            "text/plain": [
              "3"
            ]
          },
          "execution_count": 4,
          "metadata": {},
          "output_type": "execute_result"
        }
      ],
      "source": [
        "b = 4\n",
        "\n",
        "b -= 1 # b =  b -1\n",
        "b"
      ]
    },
    {
      "cell_type": "code",
      "execution_count": null,
      "metadata": {
        "collapsed": true,
        "id": "KT7v35YdX5Td"
      },
      "outputs": [],
      "source": [
        "b = 10\n",
        "b *= 3\n",
        "b"
      ]
    },
    {
      "cell_type": "markdown",
      "metadata": {
        "id": "dJ5DZtnvX5Td"
      },
      "source": [
        "### Yorum Satırları\n",
        "\n",
        "Yorum satırları programlarımıza açıklama olarak eklediğimiz satırlardır. Eğer bir programda yorum satırları kullanılmışsa bu satırlar Python tarafından görülmez ve çalıştırılmaz.\n",
        "\n"
      ]
    },
    {
      "cell_type": "code",
      "execution_count": null,
      "metadata": {
        "id": "O6_j88jMX5Td",
        "outputId": "1334ed97-8e4d-4d20-d8a7-4a62a3410909"
      },
      "outputs": [
        {
          "name": "stdout",
          "output_type": "stream",
          "text": [
            "Deneme\n"
          ]
        }
      ],
      "source": [
        "# Tekli Yorum Satırı\n",
        "print(\"Deneme\")"
      ]
    },
    {
      "cell_type": "code",
      "execution_count": null,
      "metadata": {
        "scrolled": true,
        "id": "BVEA5K7VX5Td",
        "outputId": "699915b7-e1da-49bc-b3c1-0cca3fdb2c92"
      },
      "outputs": [
        {
          "name": "stdout",
          "output_type": "stream",
          "text": [
            "Deneme\n"
          ]
        }
      ],
      "source": [
        "\"\"\"\n",
        "Çoklu Yorum Satırı\n",
        "\n",
        "\"\"\"\n",
        "print(\"Deneme\")"
      ]
    },
    {
      "cell_type": "markdown",
      "metadata": {
        "id": "k6nclfAcX5Td"
      },
      "source": [
        "İşte bu kadar! Bir sonraki dersimizde daha kapsamlı işlemler görmeye çalışacağız.\n"
      ]
    },
    {
      "cell_type": "code",
      "execution_count": null,
      "metadata": {
        "collapsed": true,
        "id": "KAenr-uIX5Th"
      },
      "outputs": [],
      "source": []
    }
  ],
  "metadata": {
    "kernelspec": {
      "display_name": "Python 3",
      "language": "python",
      "name": "python3"
    },
    "language_info": {
      "codemirror_mode": {
        "name": "ipython",
        "version": 3
      },
      "file_extension": ".py",
      "mimetype": "text/x-python",
      "name": "python",
      "nbconvert_exporter": "python",
      "pygments_lexer": "ipython3",
      "version": "3.6.1"
    },
    "colab": {
      "provenance": []
    }
  },
  "nbformat": 4,
  "nbformat_minor": 0
}