{
 "cells": [
  {
   "cell_type": "markdown",
   "metadata": {},
   "source": [
    "# Article modeli oluşturma\n",
    "\n",
    "class Article(models.Model):\n",
    "    #models.CASCADE bağlı olunan auth.User tablosundaki  #user'ımız silinirse o user'a ait article'larında silinmesini sağlar\n",
    "    author=models.ForeignKey(\"auth.User\",on_delete=models.CASCADE,verbose_name=\"yazar\")      \n",
    "    title=models.CharField(max_length=50)\n",
    "    content=models.TextField()\n",
    "    created_date=models.DateTimeField(auto_now_add=True)\n",
    "\n",
    "# Admin panele eklemek için\n",
    "from .models import Article\n",
    "admin.site.register(Article)\n",
    "\n",
    "son olarka INSTALLED_APPS'e uygulamamızı eklememiz gerek\n",
    "\n",
    "admin paneli şu anda kontrol edersek, article görünür.\n",
    "\n",
    "ama article içerisine gitmeye çalışırsak db de tablo olmadığı için hata verir.\n",
    "\n",
    "veritabanımızda tablomuzu oluşturmak için aşağıdaki iki komutu çalıştırmamız gerek.\n",
    "\n",
    "```python manage.py makemigrations```\n",
    "makemigrations komutu bizim tablomuzu db'de oluşturmak için bize içerisinde sql'e benzer komutlar tutan bir migrations dosyası oluşturur.\n",
    "bu işlemden sonra migrations dosyamızı inceleyebiliriz. Burada biz tablomuza bir pk belirlemezsek django bunu id olarak kendisi oluşturur.\n",
    "```python manage.py migrate```\n",
    "\n",
    "admin panelden article ekleyebilirz ve bu user'ı silebiliriz. models.CASCADE ile user silinince article'larında silindiğini gösterebiliriz."
   ]
  }
 ],
 "metadata": {
  "kernelspec": {
   "display_name": "Python 3",
   "language": "python",
   "name": "python3"
  },
  "language_info": {
   "codemirror_mode": {
    "name": "ipython",
    "version": 3
   },
   "file_extension": ".py",
   "mimetype": "text/x-python",
   "name": "python",
   "nbconvert_exporter": "python",
   "pygments_lexer": "ipython3",
   "version": "3.12.1"
  }
 },
 "nbformat": 4,
 "nbformat_minor": 2
}
