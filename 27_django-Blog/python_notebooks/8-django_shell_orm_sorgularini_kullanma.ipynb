{
 "cells": [
  {
   "cell_type": "markdown",
   "metadata": {},
   "source": [
    "# Django shell ve orm sorgularını kullanma\n",
    "\n",
    "Biz orm sorgularımızı kullanarak herhangi bir veritabanı sorgusu kullanmadan veritabanımızla doğrudan iletişime geçebiliyoruz.\n",
    "\n",
    "```python manage.py shell```\n",
    "\n",
    "ben öncelikle djangonun içerisinde hazır bulunan User modelini console'umuza import etmek istiyorum.\n",
    "\n",
    "```\n",
    "from django.contrib.auth.models import User\n",
    "from article.models import Article\n",
    "newUser = User(username=\"denemekullanici\",password=\"123\")\n",
    "newUser\n",
    "newUser.save()\n",
    "## password şifrelenemeden kaydoldu.\n",
    "newUser2 = User(username=\"denemekullanici2\")\n",
    "newUser2.set_password(\"123\")\n",
    "newUser2.save()\n",
    "newUser3 = User()\n",
    "newUser3.username = \"denemekullanici3\"\n",
    "newUser3.set_password(\"123\")\n",
    "newUser3.first_name = \"Selçuk\"\n",
    "newUser3.save()\n",
    "article = Article(title=\"Django Shell Deneme\",content=\"İçerik içerik\",author=newUser3)\n",
    "article.save()\n",
    "article2 = Article()\n",
    "article2.title = \"Deneme 15\"\n",
    "article2.author = newUser3\n",
    "article2.save()\n",
    "Article.objects.create(title=\"Deneme 21\",content=\"21\",author=newUser2)\n",
    "article = Article.objects.create(title=\"Deneme 30\",content=\"21\",author=newUser2)\n",
    "article.title=\"Deneme 30 değişti.\"\n",
    "article.save()\n",
    "# tüm article ları al\n",
    "Article.objects.all()\n",
    "# belli bir özelliğe göre article al\n",
    "Article.objects.get(title=\"Naber2\")\n",
    "article = Article.objects.get(title=\"Naber2\")\n",
    "article.title\n",
    "article.delete()\n",
    "Article.objects.all()\n",
    "Article.objects.get(id=1)\n",
    "article = Article.objects.get(id=12)\n",
    "article.delete()\n",
    "Article.objects.all()\n",
    "Article.objects.filter(title__contains = \"Den\")\n",
    "Article.objects.filter(title__contains = \"Sh\")\n",
    "```\n"
   ]
  }
 ],
 "metadata": {
  "kernelspec": {
   "display_name": "Python 3",
   "language": "python",
   "name": "python3"
  },
  "language_info": {
   "codemirror_mode": {
    "name": "ipython",
    "version": 3
   },
   "file_extension": ".py",
   "mimetype": "text/x-python",
   "name": "python",
   "nbconvert_exporter": "python",
   "pygments_lexer": "ipython3",
   "version": "3.12.1"
  }
 },
 "nbformat": 4,
 "nbformat_minor": 2
}
