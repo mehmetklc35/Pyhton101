{
  "cells": [
    {
      "cell_type": "markdown",
      "metadata": {
        "id": "CqVvESTfNnsc"
      },
      "source": [
        "# Matematik Operatörleri\n",
        "Tekrardan hoşgeldiniz.\n",
        "\n",
        "Python'da ve diğer programlama dillerinde matematik operatörleri oldukça önemlidir. Bu konumuzda, Pythondaki matematik operatörlerini öğreneceğiz.  \n",
        "\n",
        "### Toplama İşlemi (+)\n",
        "\n",
        "Python'da toplama işlemi şu şekilde yapılabilmektedir.\n"
      ]
    },
    {
      "cell_type": "code",
      "execution_count": null,
      "metadata": {
        "id": "kFOzLWb4Nnsg",
        "outputId": "2afdefc4-34c4-487a-8049-f8764b1d27d9"
      },
      "outputs": [
        {
          "data": {
            "text/plain": [
              "29"
            ]
          },
          "execution_count": 1,
          "metadata": {},
          "output_type": "execute_result"
        }
      ],
      "source": [
        "a = 14\n",
        "b = 15\n",
        "a + b"
      ]
    },
    {
      "cell_type": "code",
      "execution_count": null,
      "metadata": {
        "id": "gr9jBc_ONnsi",
        "outputId": "ed7b8cdd-8adc-4dbb-b7ff-15e526614d5d"
      },
      "outputs": [
        {
          "data": {
            "text/plain": [
              "7.9"
            ]
          },
          "execution_count": 4,
          "metadata": {},
          "output_type": "execute_result"
        }
      ],
      "source": [
        "i =  3.1\n",
        "j  = 4.8\n",
        "i+j"
      ]
    },
    {
      "cell_type": "markdown",
      "metadata": {
        "id": "MswLS4JUNnsi"
      },
      "source": [
        "### Çıkarma İşlemi (-)\n",
        "\n",
        "Python'da çıkarma işlemi şu şekilde yapılabilmektedir."
      ]
    },
    {
      "cell_type": "code",
      "execution_count": null,
      "metadata": {
        "id": "lmWxATFiNnsi",
        "outputId": "715058a6-8671-4647-c269-2c8ee3a77be5"
      },
      "outputs": [
        {
          "data": {
            "text/plain": [
              "-47"
            ]
          },
          "execution_count": 5,
          "metadata": {},
          "output_type": "execute_result"
        }
      ],
      "source": [
        "a =  28\n",
        "b = 35\n",
        "c = 40\n",
        "a-b-c"
      ]
    },
    {
      "cell_type": "code",
      "execution_count": null,
      "metadata": {
        "id": "_Oy6Q3bcNnsj",
        "outputId": "7291683a-4c27-4285-e73a-2596b8ec18d8"
      },
      "outputs": [
        {
          "data": {
            "text/plain": [
              "-6"
            ]
          },
          "execution_count": 6,
          "metadata": {},
          "output_type": "execute_result"
        }
      ],
      "source": [
        "t = -1\n",
        "y = 5\n",
        "t-y"
      ]
    },
    {
      "cell_type": "code",
      "execution_count": null,
      "metadata": {
        "id": "0Ni7me4TNnsj",
        "outputId": "0ed2dd32-01a7-4417-b596-b2b16a211dd4"
      },
      "outputs": [
        {
          "data": {
            "text/plain": [
              "-2.6999999999999997"
            ]
          },
          "execution_count": 7,
          "metadata": {},
          "output_type": "execute_result"
        }
      ],
      "source": [
        "k = 3.1\n",
        "l = 5.8\n",
        "k -l"
      ]
    },
    {
      "cell_type": "markdown",
      "metadata": {
        "id": "hEVilu-JNnsj"
      },
      "source": [
        "### Çarpma İşlemi (*)\n",
        "Python'da çarpma işlemi şu şekilde yapılabilmektedir.\n"
      ]
    },
    {
      "cell_type": "code",
      "execution_count": null,
      "metadata": {
        "id": "mkHWYbcMNnsk",
        "outputId": "052afc5f-48f3-4822-d32c-e9dbecce994f"
      },
      "outputs": [
        {
          "data": {
            "text/plain": [
              "20"
            ]
          },
          "execution_count": 8,
          "metadata": {},
          "output_type": "execute_result"
        }
      ],
      "source": [
        "a = 4\n",
        "b = 5\n",
        "a *b"
      ]
    },
    {
      "cell_type": "code",
      "execution_count": null,
      "metadata": {
        "id": "PXsIRPNjNnsk",
        "outputId": "88f37798-06cc-4cc1-b2bb-e748cba4f4a5"
      },
      "outputs": [
        {
          "data": {
            "text/plain": [
              "14.13"
            ]
          },
          "execution_count": 9,
          "metadata": {},
          "output_type": "execute_result"
        }
      ],
      "source": [
        "i = 3.14\n",
        "j = 4.5\n",
        "i *j"
      ]
    },
    {
      "cell_type": "code",
      "execution_count": null,
      "metadata": {
        "id": "0T2gVGzoNnsk",
        "outputId": "f0119ab0-d851-4142-943a-d1d64fa41acf"
      },
      "outputs": [
        {
          "data": {
            "text/plain": [
              "60"
            ]
          },
          "execution_count": 10,
          "metadata": {},
          "output_type": "execute_result"
        }
      ],
      "source": [
        "a = 3\n",
        "b = 4\n",
        "c = 5\n",
        "a *b *c"
      ]
    },
    {
      "cell_type": "code",
      "execution_count": null,
      "metadata": {
        "id": "3ZenMlnkNnsl",
        "outputId": "af08a236-7882-4939-eccb-e8772689c6dc"
      },
      "outputs": [
        {
          "data": {
            "text/plain": [
              "9.42"
            ]
          },
          "execution_count": 19,
          "metadata": {},
          "output_type": "execute_result"
        }
      ],
      "source": [
        "a = 3\n",
        "b = 3.14\n",
        "a *b"
      ]
    },
    {
      "cell_type": "markdown",
      "metadata": {
        "id": "BsDlVESiNnsl"
      },
      "source": [
        "### Bölme İşlemi (/)\n",
        "Python'da bölme işlemi şu şekilde yapılabilmektedir."
      ]
    },
    {
      "cell_type": "code",
      "execution_count": null,
      "metadata": {
        "id": "UFJMCBQ3Nnsl",
        "outputId": "85e0677d-7c22-4bcf-cfa0-ce69d1ff9252"
      },
      "outputs": [
        {
          "data": {
            "text/plain": [
              "2.0"
            ]
          },
          "execution_count": 11,
          "metadata": {},
          "output_type": "execute_result"
        }
      ],
      "source": [
        "4 / 2"
      ]
    },
    {
      "cell_type": "code",
      "execution_count": null,
      "metadata": {
        "id": "9YAYLnaiNnsl",
        "outputId": "5891db5a-2eb1-4f90-edd3-00ec35b471ea"
      },
      "outputs": [
        {
          "data": {
            "text/plain": [
              "3.3333333333333335"
            ]
          },
          "execution_count": 12,
          "metadata": {},
          "output_type": "execute_result"
        }
      ],
      "source": [
        "10 / 3"
      ]
    },
    {
      "cell_type": "code",
      "execution_count": null,
      "metadata": {
        "id": "Ex4y_6rgNnsl",
        "outputId": "a31d235a-c867-4ba1-99a8-14d2a6553aea"
      },
      "outputs": [
        {
          "data": {
            "text/plain": [
              "3.142857142857143"
            ]
          },
          "execution_count": 13,
          "metadata": {},
          "output_type": "execute_result"
        }
      ],
      "source": [
        "22 / 7"
      ]
    },
    {
      "cell_type": "markdown",
      "metadata": {
        "id": "dxBnf_-2Nnsl"
      },
      "source": [
        "Şimdi, burada matematikten farklı olarak bir şey gerçekleşti. **\"4 / 2\"** işleminin sonucunun **\"2\"** olarak çıkması gerekirken, sonuç **\"2.0\"** olarak, yani ondalıklı olarak(float) çıktı. Bu özellik, Python 3'e işlem sonucunun daha kesin bir şekilde sağlanması için konulmuş bir özellik. Bunları ilerde çok daha iyi bir şekilde anlayacağız.\n"
      ]
    },
    {
      "cell_type": "markdown",
      "metadata": {
        "id": "kL-f8GztNnsl"
      },
      "source": [
        "Peki bir sayının başka bir sayıya bölümünden çıkan bölüm sonucunu nasıl bulacağız ? Bunun için de Python3'te şu şekilde bir operatör mevcut.\n"
      ]
    },
    {
      "cell_type": "markdown",
      "metadata": {
        "id": "wmscUJfsNnsl"
      },
      "source": [
        "### Tamsayı Bölmesi (//)\n",
        "Bu operatör,  bir sayının başka bir sayıya bölümünden ortaya çıkan bölüm sonucunu vermektedir.Örneklerimize bakalım.\n"
      ]
    },
    {
      "cell_type": "code",
      "execution_count": null,
      "metadata": {
        "id": "Ap8IZ2CrNnsm",
        "outputId": "f260767e-7416-4056-c2f7-a40cdadcdf83"
      },
      "outputs": [
        {
          "data": {
            "text/plain": [
              "2"
            ]
          },
          "execution_count": 15,
          "metadata": {},
          "output_type": "execute_result"
        }
      ],
      "source": [
        "4 // 2"
      ]
    },
    {
      "cell_type": "code",
      "execution_count": null,
      "metadata": {
        "id": "1122rPUyNnsm",
        "outputId": "9b878c83-5f70-4c14-c0c4-37babc451005"
      },
      "outputs": [
        {
          "data": {
            "text/plain": [
              "3"
            ]
          },
          "execution_count": 16,
          "metadata": {},
          "output_type": "execute_result"
        }
      ],
      "source": [
        "# 13'ün 4 ile bölümünden kalan bölüm sonucu 3tür.\n",
        "13 // 4"
      ]
    },
    {
      "cell_type": "code",
      "execution_count": null,
      "metadata": {
        "id": "wgnWCQlANnsm",
        "outputId": "251e058f-d79e-4c91-bf4f-0be8196b3097"
      },
      "outputs": [
        {
          "data": {
            "text/plain": [
              "3"
            ]
          },
          "execution_count": 17,
          "metadata": {},
          "output_type": "execute_result"
        }
      ],
      "source": [
        "22 // 7"
      ]
    },
    {
      "cell_type": "code",
      "execution_count": null,
      "metadata": {
        "id": "gPcXZGRANnsm",
        "outputId": "3426576b-cf7a-4321-c84b-ea154fe425b8"
      },
      "outputs": [
        {
          "data": {
            "text/plain": [
              "5"
            ]
          },
          "execution_count": 18,
          "metadata": {},
          "output_type": "execute_result"
        }
      ],
      "source": [
        "40 // 7"
      ]
    },
    {
      "cell_type": "markdown",
      "metadata": {
        "id": "P_hvJO6WNnsm"
      },
      "source": [
        "### Kalanı Bulma (%)\n",
        "\n",
        "Bu operatör de , bir sayının başka bir sayıya bölümünden kalan sonucunu bulmamızı sağlar."
      ]
    },
    {
      "cell_type": "code",
      "execution_count": null,
      "metadata": {
        "id": "7IgFBXoWNnsm",
        "outputId": "7e2729bc-457a-4e97-daac-a8aabb288c62"
      },
      "outputs": [
        {
          "data": {
            "text/plain": [
              "1"
            ]
          },
          "execution_count": 22,
          "metadata": {},
          "output_type": "execute_result"
        }
      ],
      "source": [
        "# 13'ün 4 ile bölümünden kalan 1'dir.\n",
        "13 % 4"
      ]
    },
    {
      "cell_type": "code",
      "execution_count": null,
      "metadata": {
        "id": "vBgZae_8Nnsm",
        "outputId": "599b4dc4-4ee3-4acc-afb2-b0de30ad7f54"
      },
      "outputs": [
        {
          "data": {
            "text/plain": [
              "0"
            ]
          },
          "execution_count": 23,
          "metadata": {},
          "output_type": "execute_result"
        }
      ],
      "source": [
        "14 % 2"
      ]
    },
    {
      "cell_type": "code",
      "execution_count": null,
      "metadata": {
        "id": "m-dOrzUNNnsm",
        "outputId": "10282d83-43e8-4832-a554-afcc50ea5f8b"
      },
      "outputs": [
        {
          "data": {
            "text/plain": [
              "108"
            ]
          },
          "execution_count": 24,
          "metadata": {},
          "output_type": "execute_result"
        }
      ],
      "source": [
        "330 % 111"
      ]
    },
    {
      "cell_type": "markdown",
      "metadata": {
        "id": "dW1XuHE7Nnsm"
      },
      "source": [
        "### Üs bulma (**)\n",
        "\n",
        "Bu operatör bir sayının üssünü bulmamızı sağlar. Örnek olarak operatörün solundaki sayının sağdaki sayıya göre üssünü ekrana basar.\n"
      ]
    },
    {
      "cell_type": "code",
      "execution_count": null,
      "metadata": {
        "id": "iHzO23uiNnsm",
        "outputId": "2f8e4100-5f29-43b0-afdf-c62161b3266e"
      },
      "outputs": [
        {
          "data": {
            "text/plain": [
              "64"
            ]
          },
          "execution_count": 25,
          "metadata": {},
          "output_type": "execute_result"
        }
      ],
      "source": [
        "# 4^3\n",
        "4 ** 3"
      ]
    },
    {
      "cell_type": "code",
      "execution_count": null,
      "metadata": {
        "id": "xMUqr_dPNnsn",
        "outputId": "70a2755a-98a0-489c-997e-9cc01580684f"
      },
      "outputs": [
        {
          "data": {
            "text/plain": [
              "16"
            ]
          },
          "execution_count": 26,
          "metadata": {},
          "output_type": "execute_result"
        }
      ],
      "source": [
        "2 ** 4"
      ]
    },
    {
      "cell_type": "code",
      "execution_count": null,
      "metadata": {
        "id": "ZarfSQ1JNnsn",
        "outputId": "642a1c5e-d994-4971-e917-32f4a64fec61"
      },
      "outputs": [
        {
          "data": {
            "text/plain": [
              "30.959144000000002"
            ]
          },
          "execution_count": 27,
          "metadata": {},
          "output_type": "execute_result"
        }
      ],
      "source": [
        "3.14 ** 3"
      ]
    },
    {
      "cell_type": "markdown",
      "metadata": {
        "id": "k_WFv9GVNnsn"
      },
      "source": [
        "Peki bir sayının karekökünü nasıl bulacağız ?  Matematikten bildiğimiz gibi,  bir sayının karekökü , o sayının 1/2 (0.5). üssüdür. O zaman örneğimizle 64 sayısının karekökünü bulmaya çalışalım.\n"
      ]
    },
    {
      "cell_type": "code",
      "execution_count": null,
      "metadata": {
        "id": "C-N3EuqsNnsn",
        "outputId": "2ad22d29-3c36-495c-923b-9ae6af136794"
      },
      "outputs": [
        {
          "data": {
            "text/plain": [
              "8.0"
            ]
          },
          "execution_count": 28,
          "metadata": {},
          "output_type": "execute_result"
        }
      ],
      "source": [
        "# 64'ün karekökü\n",
        "64 ** 0.5"
      ]
    },
    {
      "cell_type": "markdown",
      "metadata": {
        "id": "xbMzKXBrNnsn"
      },
      "source": [
        "### İşaret değiştirme (-)\n",
        "Programlarımızda bazen bir sayının işaretini değiştirmek isteyebiliriz.Bunun için de bu operatör işimize yarayabilir.\n",
        "\n"
      ]
    },
    {
      "cell_type": "code",
      "execution_count": null,
      "metadata": {
        "id": "BAUBtFpGNnsn",
        "outputId": "25da2dfd-9755-451a-ddbb-835fa6959e21"
      },
      "outputs": [
        {
          "data": {
            "text/plain": [
              "-4"
            ]
          },
          "execution_count": 29,
          "metadata": {},
          "output_type": "execute_result"
        }
      ],
      "source": [
        "a = 4\n",
        "-a"
      ]
    },
    {
      "cell_type": "code",
      "execution_count": null,
      "metadata": {
        "id": "iHsCrtocNnsn",
        "outputId": "db2880c3-7376-4391-e0ac-bac79e6d71b1"
      },
      "outputs": [
        {
          "data": {
            "text/plain": [
              "13"
            ]
          },
          "execution_count": 31,
          "metadata": {},
          "output_type": "execute_result"
        }
      ],
      "source": [
        "b = -13\n",
        "-b"
      ]
    },
    {
      "cell_type": "markdown",
      "metadata": {
        "id": "7HQE6gCqNnso"
      },
      "source": [
        "## Operatörleri beraber kullanma ve İşlem sırası\n",
        "\n",
        "Bütün bu öğrendiğimiz şeyleri beraber nasıl kullanabiliriz? Bunun için matematikteki işlem sırasını biliyorsak çok rahat edeceğiz, çünkü Pythondaki işlem sırası matematiktekiyle birebir aynıdır. Nedir bu işlem sırası ? Kurallar şunlar ;\n",
        "\n",
        "    1. Parantez içi her zaman önce yapılır.\n",
        "    2. Çarpma ve Bölme her zaman Toplama ve Çıkarma işlemine göre önce yapılır.\n",
        "    3. İşlemler soldan sağa değerlendirilir.\n",
        "    \n",
        "Ancak, buradaki işlemleri ezberlememize hiç gerek yok. Kafamızın karıştığı yerler de işlemleri parantez içine almak, hayat kurtarır :) Şimdi örneklere bakalım."
      ]
    },
    {
      "cell_type": "code",
      "execution_count": null,
      "metadata": {
        "id": "-53k1uSfNnso",
        "outputId": "1fc758e6-4694-4f4a-d148-33253f301a00"
      },
      "outputs": [
        {
          "data": {
            "text/plain": [
              "-4.0"
            ]
          },
          "execution_count": 32,
          "metadata": {},
          "output_type": "execute_result"
        }
      ],
      "source": [
        "8 + 4 * 3 /2 - 18"
      ]
    },
    {
      "cell_type": "code",
      "execution_count": null,
      "metadata": {
        "id": "Kigxp59cNnso",
        "outputId": "b8804c1b-2a41-487f-b7f6-d66591a5582b"
      },
      "outputs": [
        {
          "data": {
            "text/plain": [
              "-4.0"
            ]
          },
          "execution_count": 33,
          "metadata": {},
          "output_type": "execute_result"
        }
      ],
      "source": [
        "#Kafamız karışıyorsa paranteze alalım.\n",
        "\n",
        "8 + ((4 * 3) /2) - 18"
      ]
    },
    {
      "cell_type": "markdown",
      "metadata": {
        "id": "PXk5fvKWNnss"
      },
      "source": [
        "İşte matematik operatörleri tamamıyla bu şekilde !\n"
      ]
    },
    {
      "cell_type": "markdown",
      "metadata": {
        "id": "PZwShNZBNnss"
      },
      "source": [
        "Şimdi de diğer bir veri tipimiz olan Karakter Dizilerini (**string**) öğrenelim."
      ]
    },
    {
      "cell_type": "code",
      "execution_count": null,
      "metadata": {
        "collapsed": true,
        "id": "rEv8BldRNnss"
      },
      "outputs": [],
      "source": []
    }
  ],
  "metadata": {
    "kernelspec": {
      "display_name": "Python 3",
      "language": "python",
      "name": "python3"
    },
    "language_info": {
      "codemirror_mode": {
        "name": "ipython",
        "version": 3
      },
      "file_extension": ".py",
      "mimetype": "text/x-python",
      "name": "python",
      "nbconvert_exporter": "python",
      "pygments_lexer": "ipython3",
      "version": "3.6.1"
    },
    "colab": {
      "provenance": []
    }
  },
  "nbformat": 4,
  "nbformat_minor": 0
}