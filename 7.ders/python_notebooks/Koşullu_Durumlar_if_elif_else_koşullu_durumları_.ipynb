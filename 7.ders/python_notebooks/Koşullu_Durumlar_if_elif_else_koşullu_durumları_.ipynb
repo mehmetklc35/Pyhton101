{
  "cells": [
    {
      "cell_type": "markdown",
      "metadata": {
        "id": "GHMNKAxl22DR"
      },
      "source": [
        "# Koşullu Durumlar - if - elif - else koşullu durumları"
      ]
    },
    {
      "cell_type": "markdown",
      "metadata": {
        "id": "5xR2TnCs22DS"
      },
      "source": [
        "Önceki konumuzda koşullu durumlardaki if-else kalıplarımızı öğrendik. Bu bölümde de if-elif-else kalıplarını öğrenmeye çalışacağız.\n"
      ]
    },
    {
      "cell_type": "markdown",
      "metadata": {
        "id": "vQlAUjzK22DT"
      },
      "source": [
        "### if-elif-else Blokları"
      ]
    },
    {
      "cell_type": "markdown",
      "metadata": {
        "id": "EQSF7J2D22DT"
      },
      "source": [
        "Önceki konumuzda koşullu durumlarımızla sadece tek bir koşulu kontrol edebiliyorduk. Ancak programlamada bir durum bir çok koşula bağlı olabilir. Örneğin bir hesap makinesi programı yazdığımızda kullanıcının girdiği işlemlere göre koşullarımızı belirleyebiliriz. Bu tür durumlar için if-elif-else kalıplarını kullanırız. Kullanımı şu şekildedir;\n",
        "\n",
        "               if koşul:\n",
        "                   Yapılacak İşlemler\n",
        "               elif başka bir koşul:\n",
        "                   Yapılacak İşlemler\n",
        "               elif başka bir koşul:\n",
        "                   Yapılacak İşlemler\n",
        "                   \n",
        "                    //\n",
        "                    //\n",
        "               else:\n",
        "                   Yapılacak İşlemler\n",
        "Programlarımızda, Kaç tane koşulumuz var ise o kadar elif bloğu oluşturabiliriz. Ayrıca **else** in yazılması zorunlu değildir. if - elif - else kalıplarında, hangi koşul sağlanırsa program o bloğu çalıştırır ve if-elif-blokları sona erer.\n",
        "Şimdi isterseniz kullanıcıya işlem seçtirdiğimiz bir programla , bu kalıbı öğrenmeye başlayalım.\n",
        "\n",
        "\n",
        "                   \n",
        "                  "
      ]
    },
    {
      "cell_type": "code",
      "execution_count": null,
      "metadata": {
        "id": "W3OpqVvE22DT",
        "outputId": "c8f26aaf-5faf-4e22-95e7-19290e807cf4"
      },
      "outputs": [
        {
          "name": "stdout",
          "output_type": "stream",
          "text": [
            "İşlem seçiniz:1\n",
            "1. işlem seçildi.\n"
          ]
        }
      ],
      "source": [
        "işlem =  int(input(\"İşlem seçiniz:\")) # 3 tane işlemimiz olsun.\n",
        "\n",
        "if işlem == 1:\n",
        "    print(\"1. işlem seçildi.\")\n",
        "elif işlem == 2:\n",
        "    print(\"2. işlem seçildi.\")\n",
        "elif işlem == 3:\n",
        "    print(\"3. işlem seçildi.\")\n",
        "else:\n",
        "    print(\"Geçersiz İşlem!\")\n"
      ]
    },
    {
      "cell_type": "code",
      "execution_count": null,
      "metadata": {
        "id": "7H23ChA222DU",
        "outputId": "456eedc3-67d8-41c7-edac-2cbb2f60e6d0"
      },
      "outputs": [
        {
          "name": "stdout",
          "output_type": "stream",
          "text": [
            "İşlem seçiniz:3\n",
            "3. işlem seçildi.\n"
          ]
        }
      ],
      "source": [
        "işlem =  int(input(\"İşlem seçiniz:\")) # 3 tane işlemimiz olsun.\n",
        "\n",
        "if işlem == 1:\n",
        "    print(\"1. işlem seçildi.\")\n",
        "elif işlem == 2:\n",
        "    print(\"2. işlem seçildi.\")\n",
        "elif işlem == 3:\n",
        "    print(\"3. işlem seçildi.\")\n",
        "else:\n",
        "    print(\"Geçersiz İşlem!\")"
      ]
    },
    {
      "cell_type": "code",
      "execution_count": null,
      "metadata": {
        "id": "lxszWWV622DU",
        "outputId": "322526c3-19a9-4dba-e1b5-3c8ce7e0f478"
      },
      "outputs": [
        {
          "name": "stdout",
          "output_type": "stream",
          "text": [
            "İşlem seçiniz:4\n",
            "Geçersiz İşlem!\n"
          ]
        }
      ],
      "source": [
        "işlem =  int(input(\"İşlem seçiniz:\")) # 3 tane işlemimiz olsun.\n",
        "\n",
        "if işlem == 1:\n",
        "    print(\"1. işlem seçildi.\")\n",
        "elif işlem == 2:\n",
        "    print(\"2. işlem seçildi.\")\n",
        "elif işlem == 3:\n",
        "    print(\"3. işlem seçildi.\")\n",
        "else:\n",
        "    print(\"Geçersiz İşlem!\")"
      ]
    },
    {
      "cell_type": "markdown",
      "metadata": {
        "id": "gPdnjolF22DU"
      },
      "source": [
        "Programlarda **else** kalıbının kullanılmasına gerek yoktur.Buradaki kodda biz diğer durumlar için sadece opsiyonel bir **else** bloğu koyduk. Kodumuz **else** bloğu olmadan da çalışabilecektir. Ancak bu durumda yanlış bir işlem girilirse ekrana herhangi bir şeyin yazılmadığını göreceğiz. Yani, **else** bloğu kullanmak tamamen size bağlı.\n"
      ]
    },
    {
      "cell_type": "code",
      "execution_count": null,
      "metadata": {
        "id": "ARjh5Hlq22DV",
        "outputId": "817d8a63-604b-4bf9-9607-b653492d882e"
      },
      "outputs": [
        {
          "name": "stdout",
          "output_type": "stream",
          "text": [
            "İşlem seçiniz:4\n"
          ]
        }
      ],
      "source": [
        "işlem =  int(input(\"İşlem seçiniz:\")) # 3 tane işlemimiz olsun.\n",
        "\n",
        "if işlem == 1:\n",
        "    print(\"1. işlem seçildi.\")\n",
        "elif işlem == 2:\n",
        "    print(\"2. işlem seçildi.\")\n",
        "elif işlem == 3:\n",
        "    print(\"3. işlem seçildi.\")"
      ]
    },
    {
      "cell_type": "markdown",
      "metadata": {
        "id": "oRnPzF-y22DV"
      },
      "source": [
        "**Peki , if koşulu olmadan elif bloklarını yazmak mümkün mü ? ** Pythonda böyle bir kullanım hataya yol açacaktır."
      ]
    },
    {
      "cell_type": "code",
      "execution_count": null,
      "metadata": {
        "id": "ffRDG_aO22DV",
        "outputId": "5bdb9793-bf4c-42bb-9b2e-9d71a3eb9557"
      },
      "outputs": [
        {
          "ename": "SyntaxError",
          "evalue": "invalid syntax (<ipython-input-5-a8d75ad60a73>, line 3)",
          "output_type": "error",
          "traceback": [
            "\u001b[1;36m  File \u001b[1;32m\"<ipython-input-5-a8d75ad60a73>\"\u001b[1;36m, line \u001b[1;32m3\u001b[0m\n\u001b[1;33m    elif işlem == 2:\u001b[0m\n\u001b[1;37m       ^\u001b[0m\n\u001b[1;31mSyntaxError\u001b[0m\u001b[1;31m:\u001b[0m invalid syntax\n"
          ]
        }
      ],
      "source": [
        "işlem =  int(input(\"İşlem seçiniz:\")) # 3 tane işlemimiz olsun.\n",
        "\n",
        "elif işlem == 2:\n",
        "    print(\"2. işlem seçildi.\")\n",
        "elif işlem == 3:\n",
        "    print(\"3. işlem seçildi.\")\n",
        "else:\n",
        "    print(\"Geçersiz İşlem!\")"
      ]
    },
    {
      "cell_type": "markdown",
      "metadata": {
        "collapsed": true,
        "id": "fto1qlOv22DV"
      },
      "source": [
        "### if-if-if  Blokları"
      ]
    },
    {
      "cell_type": "markdown",
      "metadata": {
        "id": "d1C0me1l22DV"
      },
      "source": [
        "Bu blokları öğrenmeden önce isterseniz öğrendiğimiz bilgilerle, bir harf notu hesaplama sistemi yapalım. Daha sonra bu kalıpları anlamaya çalışalım.\n"
      ]
    },
    {
      "cell_type": "code",
      "execution_count": null,
      "metadata": {
        "collapsed": true,
        "id": "Jd6OCyth22DV"
      },
      "outputs": [],
      "source": [
        "note = float(input(\"Notunuzu giriniz:\"))\n",
        "\n",
        "if note >= 90:\n",
        "    print(\"AA\")\n",
        "elif note >= 85:\n",
        "    print(\"BA\")\n",
        "elif note >= 90:\n",
        "    print(\"BA\")\n",
        "elif note >= 80:\n",
        "    print(\"BB\")\n",
        "elif note >= 75:\n",
        "    print(\"CB\")\n",
        "elif note >= 70:\n",
        "    print(\"CC\")\n",
        "elif note >= 65:\n",
        "    print(\"DC\")\n",
        "elif note >= 60:\n",
        "    print(\"DD\")\n",
        "else:\n",
        "    print(\"Dersten Kaldınız\")\n"
      ]
    },
    {
      "cell_type": "markdown",
      "metadata": {
        "id": "uY_3Z6oX22DW"
      },
      "source": [
        "Burada eğer herhangi bir bloğumuz koşulu sağlarsa **print** işlemi gerçekleşecek ve programımız sonlanacaktır. Ancak acaba **elif** bloklarını **if** bloklarına çevirirsek programımız nasıl çalışacak ? Hemen bakalım.\n"
      ]
    },
    {
      "cell_type": "code",
      "execution_count": null,
      "metadata": {
        "id": "OaYqB-Qj22DW",
        "outputId": "b23fc120-8899-4b1b-fab8-5c1dc7155c46"
      },
      "outputs": [
        {
          "name": "stdout",
          "output_type": "stream",
          "text": [
            "Notunuzu giriniz:93\n",
            "AA\n",
            "BA\n",
            "BA\n",
            "BB\n",
            "CB\n",
            "CC\n",
            "DC\n",
            "DD\n"
          ]
        }
      ],
      "source": [
        "note = float(input(\"Notunuzu giriniz:\"))\n",
        "\n",
        "if note >= 90:\n",
        "    print(\"AA\")\n",
        "if note >= 85:\n",
        "    print(\"BA\")\n",
        "if note >= 90:\n",
        "    print(\"BA\")\n",
        "if note >= 80:\n",
        "    print(\"BB\")\n",
        "if note >= 75:\n",
        "    print(\"CB\")\n",
        "if note >= 70:\n",
        "    print(\"CC\")\n",
        "if note >= 65:\n",
        "    print(\"DC\")\n",
        "if note >= 60:\n",
        "    print(\"DD\")\n",
        "else:\n",
        "    print(\"Dersten Kaldınız\")"
      ]
    },
    {
      "cell_type": "code",
      "execution_count": null,
      "metadata": {
        "id": "nRdidt0p22DW",
        "outputId": "b87459c4-014b-4d46-fbfc-34fd59c9e45c"
      },
      "outputs": [
        {
          "name": "stdout",
          "output_type": "stream",
          "text": [
            "Notunuzu giriniz:80\n",
            "BB\n",
            "CB\n",
            "CC\n",
            "DC\n",
            "DD\n"
          ]
        }
      ],
      "source": [
        "note = float(input(\"Notunuzu giriniz:\"))\n",
        "\n",
        "if note >= 90:\n",
        "    print(\"AA\")\n",
        "if note >= 85:\n",
        "    print(\"BA\")\n",
        "if note >= 90:\n",
        "    print(\"BA\")\n",
        "if note >= 80:\n",
        "    print(\"BB\")\n",
        "if note >= 75:\n",
        "    print(\"CB\")\n",
        "if note >= 70:\n",
        "    print(\"CC\")\n",
        "if note >= 65:\n",
        "    print(\"DC\")\n",
        "if note >= 60:\n",
        "    print(\"DD\")\n",
        "else:\n",
        "    print(\"Dersten Kaldınız\")"
      ]
    },
    {
      "cell_type": "markdown",
      "metadata": {
        "id": "SnWBBsg022DW"
      },
      "source": [
        "Burada gördüğümüz gibi programımız beklenmedik bir şekilde çalıştı. Çünkü Pythonda programlar **her zaman** bütün **if** bloklarını kontrol eder ve koşullar doğruysa bu blokları çalıştırır. İşte böyle not hesaplama gibi programlarda **elif** kullanmamızın sebebi budur.\n",
        "\n",
        "Koşullu durumlarımız şimdilik bu kadar ! Kurs boyunca programlarımızda birçok yerde koşullu durumları kullanacağız. Bu kısım sonundaki alıştırma videolarını izlerseniz ve ödevleri yaparsanız iyi yol kat etmiş olacaksınız."
      ]
    },
    {
      "cell_type": "code",
      "execution_count": null,
      "metadata": {
        "collapsed": true,
        "id": "Vd-TbdhK22DW"
      },
      "outputs": [],
      "source": []
    }
  ],
  "metadata": {
    "kernelspec": {
      "display_name": "Python 3",
      "language": "python",
      "name": "python3"
    },
    "language_info": {
      "codemirror_mode": {
        "name": "ipython",
        "version": 3
      },
      "file_extension": ".py",
      "mimetype": "text/x-python",
      "name": "python",
      "nbconvert_exporter": "python",
      "pygments_lexer": "ipython3",
      "version": "3.6.1"
    },
    "colab": {
      "provenance": []
    }
  },
  "nbformat": 4,
  "nbformat_minor": 0
}