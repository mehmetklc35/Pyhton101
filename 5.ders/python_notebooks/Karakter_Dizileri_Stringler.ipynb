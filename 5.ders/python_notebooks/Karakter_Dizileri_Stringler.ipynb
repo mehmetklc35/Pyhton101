{
  "cells": [
    {
      "cell_type": "markdown",
      "metadata": {
        "id": "ZgMgybJ49Vc_"
      },
      "source": [
        "# Karakter Dizileri (Stringler)\n",
        "Tekrardan Hoşgeldiniz ! Bu konuda stringleri öğrenmeye çalışacağız.Pythonda bir veri tipi olan Stringler veya Türkçe ismiyle karakter dizileri gerçek hayatta kullandığımız **yazıların**  aynısıdır.Bu veri tipi aslında her biri bir karakter olan bir dizidir. Örnek olarak,  \"ali\" stringi sırasıyla a,l,i harflerinden veya karakterlerden oluşmaktadır. Bu konuda stringleri ve stringlerin özelliklerini görmeye çalışacağız.\n",
        "\n",
        "### String Oluşturma\n",
        "Python'da string oluşturmanın birçok yolu bulunmaktadir.Bunların hangisini kullanacağınız tamamıyla size bağlıdır.İsterseniz string oluşturma işlemlerini görmeye çalışalım.\n"
      ]
    },
    {
      "cell_type": "code",
      "execution_count": null,
      "metadata": {
        "id": "LjG-rxkX9VdA",
        "outputId": "116e9e69-53bd-4a25-823b-a1e41ad4bc45"
      },
      "outputs": [
        {
          "data": {
            "text/plain": [
              "'Selçuk Deneme Akarın'"
            ]
          },
          "execution_count": 1,
          "metadata": {},
          "output_type": "execute_result"
        }
      ],
      "source": [
        "#Tek tırnak ile\n",
        "'Selçuk Deneme Akarın'"
      ]
    },
    {
      "cell_type": "code",
      "execution_count": null,
      "metadata": {
        "id": "ASbag5xz9VdC",
        "outputId": "eb33b4d1-d962-48ba-cc88-53f249437857"
      },
      "outputs": [
        {
          "data": {
            "text/plain": [
              "'Selçuk Deneme Akarın'"
            ]
          },
          "execution_count": 2,
          "metadata": {},
          "output_type": "execute_result"
        }
      ],
      "source": [
        "#Çift Tırnak ile\n",
        "\"Selçuk Deneme Akarın\""
      ]
    },
    {
      "cell_type": "code",
      "execution_count": null,
      "metadata": {
        "id": "Icr1gZ_T9VdC",
        "outputId": "cbe14c79-32f3-4b2c-bb43-9cf433502dba"
      },
      "outputs": [
        {
          "data": {
            "text/plain": [
              "'Selçuk Deneme Akarın'"
            ]
          },
          "execution_count": 3,
          "metadata": {},
          "output_type": "execute_result"
        }
      ],
      "source": [
        "# 3 tırnak ile\n",
        "\"\"\"Selçuk Deneme Akarın\"\"\""
      ]
    },
    {
      "cell_type": "markdown",
      "metadata": {
        "id": "tkxuS6Y99VdC"
      },
      "source": [
        "Burada dikkat etmemiz gereken nokta, eğer bir çift tırnak ile oluşturacaksak, stringin oluşturulması bitirmeyi yine çift tırnak ile yapmalıyız.\n"
      ]
    },
    {
      "cell_type": "code",
      "execution_count": null,
      "metadata": {
        "id": "rgzrTkTG9VdC",
        "outputId": "9793ae7b-97cc-47fd-f40f-457d689fd3ce"
      },
      "outputs": [
        {
          "ename": "SyntaxError",
          "evalue": "EOL while scanning string literal (<ipython-input-4-52c28270f133>, line 2)",
          "output_type": "error",
          "traceback": [
            "\u001b[1;36m  File \u001b[1;32m\"<ipython-input-4-52c28270f133>\"\u001b[1;36m, line \u001b[1;32m2\u001b[0m\n\u001b[1;33m    \"Merhaba'\u001b[0m\n\u001b[1;37m             ^\u001b[0m\n\u001b[1;31mSyntaxError\u001b[0m\u001b[1;31m:\u001b[0m EOL while scanning string literal\n"
          ]
        }
      ],
      "source": [
        "# Hatalı Kod\n",
        "\"Merhaba'"
      ]
    },
    {
      "cell_type": "code",
      "execution_count": null,
      "metadata": {
        "id": "Zi9nMjhA9VdC",
        "outputId": "fe87379e-b535-4230-bd30-d2a0ec281042"
      },
      "outputs": [
        {
          "ename": "SyntaxError",
          "evalue": "EOL while scanning string literal (<ipython-input-5-688eb17d1742>, line 2)",
          "output_type": "error",
          "traceback": [
            "\u001b[1;36m  File \u001b[1;32m\"<ipython-input-5-688eb17d1742>\"\u001b[1;36m, line \u001b[1;32m2\u001b[0m\n\u001b[1;33m    'Merhaba\"\u001b[0m\n\u001b[1;37m             ^\u001b[0m\n\u001b[1;31mSyntaxError\u001b[0m\u001b[1;31m:\u001b[0m EOL while scanning string literal\n"
          ]
        }
      ],
      "source": [
        "# Hatalı Kod\n",
        "'Merhaba\"\n"
      ]
    },
    {
      "cell_type": "markdown",
      "metadata": {
        "id": "hQQAmZw-9VdC"
      },
      "source": [
        "Peki şu şekilde bir stringi Pythonda nasıl tanımlarız: **Deneme'ın bugün dersi var.**"
      ]
    },
    {
      "cell_type": "code",
      "execution_count": null,
      "metadata": {
        "id": "eXmln8Jf9VdC",
        "outputId": "3020a969-d63a-4642-e71a-da05a16f8c3c"
      },
      "outputs": [
        {
          "ename": "SyntaxError",
          "evalue": "invalid syntax (<ipython-input-10-c94dae596bd7>, line 1)",
          "output_type": "error",
          "traceback": [
            "\u001b[1;36m  File \u001b[1;32m\"<ipython-input-10-c94dae596bd7>\"\u001b[1;36m, line \u001b[1;32m1\u001b[0m\n\u001b[1;33m    'Deneme'ın bugün dersi var.\u001b[0m\n\u001b[1;37m            ^\u001b[0m\n\u001b[1;31mSyntaxError\u001b[0m\u001b[1;31m:\u001b[0m invalid syntax\n"
          ]
        }
      ],
      "source": [
        "'Deneme'ın bugün dersi var."
      ]
    },
    {
      "cell_type": "markdown",
      "metadata": {
        "id": "saYqE2Hp9VdD"
      },
      "source": [
        "Gördüğümüz gibi kodumuz sıkıntı çıkarttı. Çünkü karşılaştığı ilk **'** işaretini bitirme işareti olarak algıladı. Ancak şöyle bir kullanım sıkıntı yaratmayacaktır."
      ]
    },
    {
      "cell_type": "code",
      "execution_count": null,
      "metadata": {
        "id": "mDr-TV609VdD",
        "outputId": "4e81519d-6486-41df-95d1-23b207276b58"
      },
      "outputs": [
        {
          "data": {
            "text/plain": [
              "\"Deneme'ın bugün dersi var\""
            ]
          },
          "execution_count": 11,
          "metadata": {},
          "output_type": "execute_result"
        }
      ],
      "source": [
        "\"Deneme'ın bugün dersi var\""
      ]
    },
    {
      "cell_type": "markdown",
      "metadata": {
        "id": "bFduaEeT9VdD"
      },
      "source": [
        "Şimdi de bir tane string veri tipinde değişken oluşturalım. Stringler de bir veri tipi oldukları için bunlardan değişken oluşturup kullanabiliriz."
      ]
    },
    {
      "cell_type": "code",
      "execution_count": null,
      "metadata": {
        "id": "lg2q9oDh9VdD",
        "outputId": "6e69d59d-0c29-4078-ea1c-58feb03447cc"
      },
      "outputs": [
        {
          "data": {
            "text/plain": [
              "'Merhaba'"
            ]
          },
          "execution_count": 9,
          "metadata": {},
          "output_type": "execute_result"
        }
      ],
      "source": [
        "a = \"Merhaba\"\n",
        "a"
      ]
    },
    {
      "cell_type": "code",
      "execution_count": null,
      "metadata": {
        "id": "aAhPcSGh9VdD",
        "outputId": "1062e0f7-8cee-4bf9-bc32-2d2e994dfe23"
      },
      "outputs": [
        {
          "data": {
            "text/plain": [
              "'Naber iyi misin ?'"
            ]
          },
          "execution_count": 13,
          "metadata": {},
          "output_type": "execute_result"
        }
      ],
      "source": [
        "naber = \"Naber iyi misin ?\"\n",
        "naber"
      ]
    },
    {
      "cell_type": "markdown",
      "metadata": {
        "id": "jRWqcdf_9VdD"
      },
      "source": [
        "### String Indeksleme ve Parçalama"
      ]
    },
    {
      "cell_type": "markdown",
      "metadata": {
        "id": "fSFXPMix9VdE"
      },
      "source": [
        "Stringler birer karakter dizileri oldukları için her bir karakterin aslında string içinde bir yeri vardır. Örnek olarak **\"ali\"** stringinde a,l ve i karakterlerinin yerleri **indeks** olarak adlandırılır.Pythonda ve genellikle çoğu programlama dilinde (Octave hariç) stringlerin indekslenmesi **\"0\"** dan başlamaktadır. Şimdi isterseniz bir string içindeki karakterlere **indeks** yoluyla nasıl ulaşacağımıza bakalım.\n"
      ]
    },
    {
      "cell_type": "code",
      "execution_count": null,
      "metadata": {
        "id": "c8hxe5FX9VdE",
        "outputId": "25dc4c11-442a-4cb5-dc8d-a0472b627bd7"
      },
      "outputs": [
        {
          "data": {
            "text/plain": [
              "'a'"
            ]
          },
          "execution_count": 14,
          "metadata": {},
          "output_type": "execute_result"
        }
      ],
      "source": [
        "# 0. elemana  ulaşalım . Bunun için [] operatörünü kullanacağız.\n",
        "a = \"ali\"\n",
        "a[0]"
      ]
    },
    {
      "cell_type": "code",
      "execution_count": null,
      "metadata": {
        "id": "znnCM7Nh9VdE",
        "outputId": "8ce89d3a-36e2-4e73-b82f-ea8cc4611d82"
      },
      "outputs": [
        {
          "data": {
            "text/plain": [
              "'l'"
            ]
          },
          "execution_count": 15,
          "metadata": {},
          "output_type": "execute_result"
        }
      ],
      "source": [
        "# 1.eleman\n",
        "a[1]"
      ]
    },
    {
      "cell_type": "code",
      "execution_count": null,
      "metadata": {
        "id": "crcV4_sV9VdE",
        "outputId": "b38f6042-abf0-4978-ef06-bd1ebc7fb4fb"
      },
      "outputs": [
        {
          "data": {
            "text/plain": [
              "'i'"
            ]
          },
          "execution_count": 16,
          "metadata": {},
          "output_type": "execute_result"
        }
      ],
      "source": [
        "a[2]"
      ]
    },
    {
      "cell_type": "markdown",
      "metadata": {
        "id": "XnY6es2O9VdE"
      },
      "source": [
        "Pythonda stringler baştan olduğu gibi sondan da indekslenebilirler. Sondan başlayarak -1,-2 ... şeklinde indekslenirler"
      ]
    },
    {
      "cell_type": "code",
      "execution_count": null,
      "metadata": {
        "id": "AFpIm_Em9VdE",
        "outputId": "a8cf0cf2-b7b3-48f9-fad8-d17c7e6ce209"
      },
      "outputs": [
        {
          "data": {
            "text/plain": [
              "'t'"
            ]
          },
          "execution_count": 18,
          "metadata": {},
          "output_type": "execute_result"
        }
      ],
      "source": [
        "# Sondaki eleman \"-1\" eleman\n",
        "a = \"Deneme\"\n",
        "a[-1]"
      ]
    },
    {
      "cell_type": "code",
      "execution_count": null,
      "metadata": {
        "id": "yjONutuC9VdE",
        "outputId": "fac8ad37-30fb-453e-b322-db1af159ecf0"
      },
      "outputs": [
        {
          "data": {
            "text/plain": [
              "'a'"
            ]
          },
          "execution_count": 19,
          "metadata": {},
          "output_type": "execute_result"
        }
      ],
      "source": [
        "a[-2]"
      ]
    },
    {
      "cell_type": "code",
      "execution_count": null,
      "metadata": {
        "id": "_rcaNtia9VdE",
        "outputId": "0c9fd59c-894d-45de-af65-f2fa244a8ed7"
      },
      "outputs": [
        {
          "data": {
            "text/plain": [
              "'r'"
            ]
          },
          "execution_count": 20,
          "metadata": {},
          "output_type": "execute_result"
        }
      ],
      "source": [
        "a[-3]"
      ]
    },
    {
      "cell_type": "code",
      "execution_count": null,
      "metadata": {
        "id": "1vtnVEYB9VdE",
        "outputId": "f4a71c53-a207-4aa2-af70-3e56a8444117"
      },
      "outputs": [
        {
          "data": {
            "text/plain": [
              "'u'"
            ]
          },
          "execution_count": 21,
          "metadata": {},
          "output_type": "execute_result"
        }
      ],
      "source": [
        "a[-4]"
      ]
    },
    {
      "cell_type": "code",
      "execution_count": null,
      "metadata": {
        "id": "Q_bd3t1J9VdE",
        "outputId": "88b2ef5e-c4b2-41d5-abb3-6de1539d0f19"
      },
      "outputs": [
        {
          "data": {
            "text/plain": [
              "'m'"
            ]
          },
          "execution_count": 22,
          "metadata": {},
          "output_type": "execute_result"
        }
      ],
      "source": [
        "a[-5]"
      ]
    },
    {
      "cell_type": "markdown",
      "metadata": {
        "id": "TLJGa2PM9VdF"
      },
      "source": [
        "Peki uzun bir string'in sadece belirli bir kısmını elde etmek için ne yapacağız ? Bunun için **indeksleri**, **:** ve **[]** işaretini kullanacağız. Formülümüz şu şekilde ;\n",
        "\n",
        "*[başlama indeksi : bitiş indeksi : atlama değeri]*\n",
        "\n",
        "İsterseniz örneklerimize bakalım."
      ]
    },
    {
      "cell_type": "code",
      "execution_count": null,
      "metadata": {
        "collapsed": true,
        "id": "NMEJvErL9VdF"
      },
      "outputs": [],
      "source": [
        "a = \"Python Programlama Dili\"\n"
      ]
    },
    {
      "cell_type": "code",
      "execution_count": null,
      "metadata": {
        "id": "XDbxHhgu9VdF",
        "outputId": "b5baa1fd-72b6-4e7b-b7e5-08f751e1ad5e"
      },
      "outputs": [
        {
          "data": {
            "text/plain": [
              "'on Pro'"
            ]
          },
          "execution_count": 25,
          "metadata": {},
          "output_type": "execute_result"
        }
      ],
      "source": [
        "# 4. indeksten başla 10.indekse kadar(dahil değil) al.\n",
        "a[4:10]"
      ]
    },
    {
      "cell_type": "code",
      "execution_count": null,
      "metadata": {
        "id": "qyPbl1R29VdF",
        "outputId": "d8aae57a-abb7-4e8a-93e7-a9816dc795c3"
      },
      "outputs": [
        {
          "data": {
            "text/plain": [
              "'Python Pro'"
            ]
          },
          "execution_count": 26,
          "metadata": {},
          "output_type": "execute_result"
        }
      ],
      "source": [
        "# Başlangıç değeri belirtilmemişse en baştan başlayarak alır.\n",
        "a[:10]"
      ]
    },
    {
      "cell_type": "code",
      "execution_count": null,
      "metadata": {
        "id": "ybOqlY9T9VdF",
        "outputId": "0d278d60-2eb2-4893-959b-05c984cb3e42"
      },
      "outputs": [
        {
          "data": {
            "text/plain": [
              "'on Programlama Dili'"
            ]
          },
          "execution_count": 28,
          "metadata": {},
          "output_type": "execute_result"
        }
      ],
      "source": [
        "# Bitiş değeri belirtilmemişse en sonuna kadar alır.\n",
        "a[4:]"
      ]
    },
    {
      "cell_type": "code",
      "execution_count": null,
      "metadata": {
        "id": "gHKuVJgm9VdF",
        "outputId": "ed6f75be-3a44-4784-cb09-c4c2294feef0"
      },
      "outputs": [
        {
          "data": {
            "text/plain": [
              "'Python Programlama Dili'"
            ]
          },
          "execution_count": 29,
          "metadata": {},
          "output_type": "execute_result"
        }
      ],
      "source": [
        "# İki değer de belirtilmemişse tüm stringi al.\n",
        "a[:]"
      ]
    },
    {
      "cell_type": "code",
      "execution_count": null,
      "metadata": {
        "id": "R7ygvis19VdF",
        "outputId": "b14702c0-8b0e-4cad-c1ba-34f50892b9eb"
      },
      "outputs": [
        {
          "data": {
            "text/plain": [
              "'Python Programlama Dil'"
            ]
          },
          "execution_count": 30,
          "metadata": {},
          "output_type": "execute_result"
        }
      ],
      "source": [
        "#Son karaktere kadar al.\n",
        "a[:-1]"
      ]
    },
    {
      "cell_type": "code",
      "execution_count": null,
      "metadata": {
        "id": "P2jGB0Yy9VdF",
        "outputId": "e1f7ac5d-3def-4d11-82f7-ecabc1904f67"
      },
      "outputs": [
        {
          "data": {
            "text/plain": [
              "'Pto rgalm ii'"
            ]
          },
          "execution_count": 32,
          "metadata": {},
          "output_type": "execute_result"
        }
      ],
      "source": [
        "# Baştan sona 2 değer atlaya atlaya stringi al.\n",
        "a[::2]"
      ]
    },
    {
      "cell_type": "code",
      "execution_count": null,
      "metadata": {
        "id": "0WQTJEGU9VdG",
        "outputId": "74f8d95d-a47f-4615-ddc6-7e18bb6f14fc"
      },
      "outputs": [
        {
          "data": {
            "text/plain": [
              "'oPg'"
            ]
          },
          "execution_count": 33,
          "metadata": {},
          "output_type": "execute_result"
        }
      ],
      "source": [
        "# 4.indeksten 12'nci indekse 3'er atlayarak stringi al.\n",
        "a[4:12:3]"
      ]
    },
    {
      "cell_type": "code",
      "execution_count": null,
      "metadata": {
        "id": "td76i1vc9VdG",
        "outputId": "3f65b466-8412-46b8-cda6-782c235aca04"
      },
      "outputs": [
        {
          "data": {
            "text/plain": [
              "'iliD amalmargorP nohtyP'"
            ]
          },
          "execution_count": 34,
          "metadata": {},
          "output_type": "execute_result"
        }
      ],
      "source": [
        "# Baştan sona -1 atlayarak stringi al. (String'i ters çevirme)\n",
        "a[::-1]"
      ]
    },
    {
      "cell_type": "markdown",
      "metadata": {
        "id": "Fq8RVBDS9VdG"
      },
      "source": [
        "### String Özellikleri"
      ]
    },
    {
      "cell_type": "markdown",
      "metadata": {
        "id": "EjSAiq5Q9VdG"
      },
      "source": [
        "Bir string'in uzunluğunu nasıl buluruz ? Bunun için Python'da *len()* fonksiyonu bulunmaktadır."
      ]
    },
    {
      "cell_type": "code",
      "execution_count": null,
      "metadata": {
        "id": "TuFZ6UlW9VdG",
        "outputId": "6974d0c3-133b-4e45-d79d-8629e8fbffd4"
      },
      "outputs": [
        {
          "data": {
            "text/plain": [
              "23"
            ]
          },
          "execution_count": 35,
          "metadata": {},
          "output_type": "execute_result"
        }
      ],
      "source": [
        "# len() fonksiyonunu kullanma.\n",
        "a = \"Python Programlama Dili\"\n",
        "len(a)"
      ]
    },
    {
      "cell_type": "markdown",
      "metadata": {
        "id": "J8a8J6hp9VdG"
      },
      "source": [
        "Peki sizce bir string'in belli bir karakterini direkt olarak değiştirebilir miyiz ? Hemen bir deneme yapalım.\n"
      ]
    },
    {
      "cell_type": "code",
      "execution_count": null,
      "metadata": {
        "collapsed": true,
        "id": "UC4anuMs9VdG"
      },
      "outputs": [],
      "source": [
        "a = \"Deneme\""
      ]
    },
    {
      "cell_type": "code",
      "execution_count": null,
      "metadata": {
        "id": "0crEl4Z99VdH",
        "outputId": "9373d049-ed84-4a5f-874e-de5bf126f9eb"
      },
      "outputs": [
        {
          "ename": "TypeError",
          "evalue": "'str' object does not support item assignment",
          "output_type": "error",
          "traceback": [
            "\u001b[1;31m---------------------------------------------------------------------------\u001b[0m",
            "\u001b[1;31mTypeError\u001b[0m                                 Traceback (most recent call last)",
            "\u001b[1;32m<ipython-input-38-87cff85377e0>\u001b[0m in \u001b[0;36m<module>\u001b[1;34m()\u001b[0m\n\u001b[0;32m      1\u001b[0m \u001b[1;31m# Biraz ilkokulluyum değil mi :) Ancak Python buna izin vermiyor Allahtan :)\u001b[0m\u001b[1;33m\u001b[0m\u001b[1;33m\u001b[0m\u001b[0m\n\u001b[1;32m----> 2\u001b[1;33m \u001b[0ma\u001b[0m\u001b[1;33m[\u001b[0m\u001b[1;36m0\u001b[0m\u001b[1;33m]\u001b[0m \u001b[1;33m=\u001b[0m \u001b[1;34m'T'\u001b[0m\u001b[1;33m\u001b[0m\u001b[0m\n\u001b[0m",
            "\u001b[1;31mTypeError\u001b[0m: 'str' object does not support item assignment"
          ]
        }
      ],
      "source": [
        "# Biraz ilkokulluyum değil mi :) Ancak Python buna izin vermiyor Allahtan :)\n",
        "a[0] = 'T'"
      ]
    },
    {
      "cell_type": "markdown",
      "metadata": {
        "id": "bb9QFdaW9VdH"
      },
      "source": [
        "Burada Python bu işleme izin vermedi. Gördüğümüz gibi, bir string'in karakterlerini **direkt** olarak değiştiremiyoruz.Çünkü stringler böyle bir işlemi desteklemiyor.\n"
      ]
    },
    {
      "cell_type": "markdown",
      "metadata": {
        "id": "nZ4rYaLV9VdH"
      },
      "source": [
        "Peki, Pythonda stringler toplanabiliyor mu ? Python'da bunu yapmak da mümkündür.\n"
      ]
    },
    {
      "cell_type": "code",
      "execution_count": null,
      "metadata": {
        "id": "TtAxeXsU9VdH",
        "outputId": "75a47179-500f-4d39-ec33-1af6e627347a"
      },
      "outputs": [
        {
          "data": {
            "text/plain": [
              "'Python Programlama Dili'"
            ]
          },
          "execution_count": 39,
          "metadata": {},
          "output_type": "execute_result"
        }
      ],
      "source": [
        "# Stringleri toplayalım yani birbirine ekleyelim.\n",
        "a = \"Python \"\n",
        "b = \"Programlama \"\n",
        "c = \"Dili\"\n",
        "a + b + c"
      ]
    },
    {
      "cell_type": "code",
      "execution_count": null,
      "metadata": {
        "id": "ecfK24IX9VdH",
        "outputId": "36865227-bd02-4c95-f25a-bfdfaefacf4b"
      },
      "outputs": [
        {
          "data": {
            "text/plain": [
              "'Selçuk Deneme Akarın'"
            ]
          },
          "execution_count": 3,
          "metadata": {},
          "output_type": "execute_result"
        }
      ],
      "source": [
        "a = \"Selçuk \"\n",
        "a = a + \"Deneme Akarın\" # Burada stringleri birleştirerek yine a değişkenine atıyoruz.\n",
        "a\n"
      ]
    },
    {
      "cell_type": "markdown",
      "metadata": {
        "id": "gZ4_XrcH9VdH"
      },
      "source": [
        "Bir string ile bir sayıyı da çarpabiliriz.\n"
      ]
    },
    {
      "cell_type": "code",
      "execution_count": null,
      "metadata": {
        "id": "G5s-y35H9VdH",
        "outputId": "18494118-9478-4a48-9197-4bec58ca339f"
      },
      "outputs": [
        {
          "data": {
            "text/plain": [
              "'PythonPythonPython'"
            ]
          },
          "execution_count": 41,
          "metadata": {},
          "output_type": "execute_result"
        }
      ],
      "source": [
        "# Python * 3 aslında Python + Python + Python işlemine eşdeğerdir.\n",
        "\"Python\" * 3"
      ]
    },
    {
      "cell_type": "markdown",
      "metadata": {
        "collapsed": true,
        "id": "SzSZgSIp9VdH"
      },
      "source": [
        "Stringler konusu şimdilik bu kadar ! İleriki konularımızda stringlerimize tekrardan döneceğiz ve güzel özelliklerine bakma imkanına sahip olacağız."
      ]
    },
    {
      "cell_type": "code",
      "execution_count": null,
      "metadata": {
        "collapsed": true,
        "id": "ruMUR_sD9VdH"
      },
      "outputs": [],
      "source": []
    }
  ],
  "metadata": {
    "kernelspec": {
      "display_name": "Python 3",
      "language": "python",
      "name": "python3"
    },
    "language_info": {
      "codemirror_mode": {
        "name": "ipython",
        "version": 3
      },
      "file_extension": ".py",
      "mimetype": "text/x-python",
      "name": "python",
      "nbconvert_exporter": "python",
      "pygments_lexer": "ipython3",
      "version": "3.6.1"
    },
    "colab": {
      "provenance": []
    }
  },
  "nbformat": 4,
  "nbformat_minor": 0
}