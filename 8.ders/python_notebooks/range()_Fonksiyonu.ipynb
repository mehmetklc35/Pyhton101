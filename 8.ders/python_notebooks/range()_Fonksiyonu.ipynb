{
  "cells": [
    {
      "cell_type": "markdown",
      "metadata": {
        "id": "LShrq58Qz8f8"
      },
      "source": [
        "# range() Fonksiyonu\n",
        "\n",
        "Pythondaki bu hazır fonksiyon bizim verdiğimiz değerlere göre *range* isimli bir yapı oluşturur ve bu yapı listelere oldukça benzer. Bu yapı başlangıç, bitiş ve opsiyonel olarak artırma değeri alarak listelere benzeyen bir sayı dizisi oluşturur. Kullanımlarını öğrenmeye başlayalım."
      ]
    },
    {
      "cell_type": "code",
      "execution_count": null,
      "metadata": {
        "id": "tsUCKX97z8f9",
        "outputId": "68d7c5f5-c5c5-4ef2-f912-7a1d0020bed4"
      },
      "outputs": [
        {
          "data": {
            "text/plain": [
              "range(0, 20)"
            ]
          },
          "execution_count": 11,
          "metadata": {},
          "output_type": "execute_result"
        }
      ],
      "source": [
        "range(0,20) # 0'dan 20' a kadar (dahil değil) sayı dizisi oluşturur."
      ]
    },
    {
      "cell_type": "code",
      "execution_count": null,
      "metadata": {
        "id": "71oyINfZz8f-",
        "outputId": "3f0bdeea-7b33-409a-86e3-df8a9b17b7ef"
      },
      "outputs": [
        {
          "name": "stdout",
          "output_type": "stream",
          "text": [
            "0 1 2 3 4 5 6 7 8 9 10 11 12 13 14 15 16 17 18 19\n"
          ]
        }
      ],
      "source": [
        "print(*range(0,20)) # Yazdırmak için başına \"*\" koymamız gerekiyor."
      ]
    },
    {
      "cell_type": "code",
      "execution_count": null,
      "metadata": {
        "id": "wuWINLyoz8f-"
      },
      "outputs": [],
      "source": [
        "liste = list(range(0,20)) # list fonksiyonuyla listeye dönüştürebilir."
      ]
    },
    {
      "cell_type": "code",
      "execution_count": null,
      "metadata": {
        "id": "FC8a_JFFz8f_",
        "outputId": "8efccc51-4987-49c2-8cb9-a473084387f0"
      },
      "outputs": [
        {
          "data": {
            "text/plain": [
              "[0, 1, 2, 3, 4, 5, 6, 7, 8, 9, 10, 11, 12, 13, 14, 15, 16, 17, 18, 19]"
            ]
          },
          "execution_count": 16,
          "metadata": {},
          "output_type": "execute_result"
        }
      ],
      "source": [
        "liste"
      ]
    },
    {
      "cell_type": "code",
      "execution_count": null,
      "metadata": {
        "id": "OZT3BJrgz8f_",
        "outputId": "088329a7-030a-4780-db21-ee3d305be958"
      },
      "outputs": [
        {
          "name": "stdout",
          "output_type": "stream",
          "text": [
            "5 6 7 8 9\n"
          ]
        }
      ],
      "source": [
        "print(*range(5,10))"
      ]
    },
    {
      "cell_type": "code",
      "execution_count": null,
      "metadata": {
        "id": "HjsGiDTdz8f_",
        "outputId": "2183c6ba-9fc6-47b1-e760-6393f2934a76"
      },
      "outputs": [
        {
          "name": "stdout",
          "output_type": "stream",
          "text": [
            "0 1 2 3 4 5 6 7 8 9 10 11 12 13 14\n"
          ]
        }
      ],
      "source": [
        "print(*range(15)) # Başlangıç değeri vermediğimiz 0'dan başlar"
      ]
    },
    {
      "cell_type": "code",
      "execution_count": null,
      "metadata": {
        "id": "5zGCUtuRz8f_",
        "outputId": "21956b5a-6032-40f9-8ec8-5d456aad4a2d"
      },
      "outputs": [
        {
          "name": "stdout",
          "output_type": "stream",
          "text": [
            "5 7 9 11 13 15 17 19\n"
          ]
        }
      ],
      "source": [
        "print(*range(5,20,2)) # 5'ten 20'ye kadar olan sayıları 2 atlayarak oluşturur."
      ]
    },
    {
      "cell_type": "code",
      "execution_count": null,
      "metadata": {
        "id": "03ohdOIRz8f_",
        "outputId": "595086f7-0342-43c5-b65d-ea45cd042c35"
      },
      "outputs": [
        {
          "name": "stdout",
          "output_type": "stream",
          "text": [
            "5 10 15 20 25 30 35 40 45 50 55 60 65 70 75 80 85 90 95\n"
          ]
        }
      ],
      "source": [
        "print(*range(5,100,5)) # 5'ten 100'e kadar olan ve 5 ile bölünebilen sayılar"
      ]
    },
    {
      "cell_type": "code",
      "execution_count": null,
      "metadata": {
        "id": "BYvhw3Bsz8f_",
        "outputId": "879a80f9-e1eb-4b64-cde4-f4c46e41426c"
      },
      "outputs": [
        {
          "name": "stdout",
          "output_type": "stream",
          "text": [
            "\n"
          ]
        }
      ],
      "source": [
        "print(*range(20,0)) # 20'den geri gelen sayıları oluşturmaz."
      ]
    },
    {
      "cell_type": "code",
      "execution_count": null,
      "metadata": {
        "id": "Bqewx9bKz8gA",
        "outputId": "7463f09f-69d3-4386-a47f-c840e76838fd"
      },
      "outputs": [
        {
          "name": "stdout",
          "output_type": "stream",
          "text": [
            "20 19 18 17 16 15 14 13 12 11 10 9 8 7 6 5 4 3 2 1\n"
          ]
        }
      ],
      "source": [
        "print(*range(20,0,-1)) # 20'den geri gelen sayıları oluşturur."
      ]
    },
    {
      "cell_type": "markdown",
      "metadata": {
        "id": "oqL1r4QBz8gA"
      },
      "source": [
        "Şimdi de, *range* fonksiyonu ile oluşturduğumuz yapının üzerinde for döngüsü ile gezinelim."
      ]
    },
    {
      "cell_type": "code",
      "execution_count": null,
      "metadata": {
        "id": "L5mPd9Odz8gA",
        "outputId": "c563eb8a-11d2-4150-a415-2a27e4ea46f4"
      },
      "outputs": [
        {
          "name": "stdout",
          "output_type": "stream",
          "text": [
            "0\n",
            "1\n",
            "2\n",
            "3\n",
            "4\n",
            "5\n",
            "6\n",
            "7\n",
            "8\n",
            "9\n"
          ]
        }
      ],
      "source": [
        "for sayı in range(0,10):\n",
        "    print(sayı)"
      ]
    },
    {
      "cell_type": "code",
      "execution_count": null,
      "metadata": {
        "id": "zatl5Q2dz8gA",
        "outputId": "124e9eee-cb4b-4d5c-ef2e-45de5307a417"
      },
      "outputs": [
        {
          "name": "stdout",
          "output_type": "stream",
          "text": [
            "* \n",
            "* * \n",
            "* * * \n",
            "* * * * \n",
            "* * * * * \n",
            "* * * * * * \n",
            "* * * * * * * \n",
            "* * * * * * * * \n",
            "* * * * * * * * * \n",
            "* * * * * * * * * * \n",
            "* * * * * * * * * * * \n",
            "* * * * * * * * * * * * \n",
            "* * * * * * * * * * * * * \n",
            "* * * * * * * * * * * * * * \n",
            "* * * * * * * * * * * * * * * \n",
            "* * * * * * * * * * * * * * * * \n",
            "* * * * * * * * * * * * * * * * * \n",
            "* * * * * * * * * * * * * * * * * * \n",
            "* * * * * * * * * * * * * * * * * * * \n"
          ]
        }
      ],
      "source": [
        "for sayı in range(1,20):\n",
        "    print(\"* \" * sayı)"
      ]
    },
    {
      "cell_type": "markdown",
      "metadata": {
        "id": "B-PTbdIVz8gB"
      },
      "source": [
        "Bir sonraki derste döngülerde kullanılabilen **break** ve **continue** ifadelerini göreceğiz."
      ]
    },
    {
      "cell_type": "code",
      "execution_count": null,
      "metadata": {
        "collapsed": true,
        "id": "ppDC1-3Xz8gB"
      },
      "outputs": [],
      "source": []
    }
  ],
  "metadata": {
    "kernelspec": {
      "display_name": "Python 3",
      "language": "python",
      "name": "python3"
    },
    "language_info": {
      "codemirror_mode": {
        "name": "ipython",
        "version": 3
      },
      "file_extension": ".py",
      "mimetype": "text/x-python",
      "name": "python",
      "nbconvert_exporter": "python",
      "pygments_lexer": "ipython3",
      "version": "3.6.1"
    },
    "colab": {
      "provenance": []
    }
  },
  "nbformat": 4,
  "nbformat_minor": 0
}