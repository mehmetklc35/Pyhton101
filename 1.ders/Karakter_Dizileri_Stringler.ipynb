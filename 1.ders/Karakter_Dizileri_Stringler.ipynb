{
  "cells": [
    {
      "cell_type": "markdown",
      "metadata": {
        "id": "wP94x3RFFFZf"
      },
      "source": [
        "# Karakter Dizileri (Stringler)\n",
        "Tekrardan Hoşgeldiniz ! Bu konuda stringleri öğrenmeye çalışacağız.Pythonda bir veri tipi olan Stringler veya Türkçe ismiyle karakter dizileri gerçek hayatta kullandığımız **yazıların**  aynısıdır.Bu veri tipi aslında her biri bir karakter olan bir dizidir. Örnek olarak,  \"ali\" stringi sırasıyla a,l,i harflerinden veya karakterlerden oluşmaktadır. Bu konuda stringleri ve stringlerin özelliklerini görmeye çalışacağız.\n",
        "\n",
        "### String Oluşturma\n",
        "Python'da string oluşturmanın birçok yolu bulunmaktadir.Bunların hangisini kullanacağınız tamamıyla size bağlıdır.İsterseniz string oluşturma işlemlerini görmeye çalışalım.\n"
      ]
    },
    {
      "cell_type": "code",
      "execution_count": 50,
      "metadata": {
        "id": "B0raXJ1nFFZi",
        "outputId": "4c0d62e2-feb3-4c21-9338-8ac5aacb2100",
        "colab": {
          "base_uri": "https://localhost:8080/",
          "height": 35
        }
      },
      "outputs": [
        {
          "output_type": "execute_result",
          "data": {
            "text/plain": [
              "'Selçuk Akarın'"
            ],
            "application/vnd.google.colaboratory.intrinsic+json": {
              "type": "string"
            }
          },
          "metadata": {},
          "execution_count": 50
        }
      ],
      "source": [
        "#Tek tırnak ile\n",
        "'Selçuk Akarın'"
      ]
    },
    {
      "cell_type": "code",
      "execution_count": 51,
      "metadata": {
        "id": "VslFQX8jFFZk",
        "outputId": "97b169e8-4d54-4836-df55-a8798deb8dcb",
        "colab": {
          "base_uri": "https://localhost:8080/",
          "height": 35
        }
      },
      "outputs": [
        {
          "output_type": "execute_result",
          "data": {
            "text/plain": [
              "'Selçuk Akarın'"
            ],
            "application/vnd.google.colaboratory.intrinsic+json": {
              "type": "string"
            }
          },
          "metadata": {},
          "execution_count": 51
        }
      ],
      "source": [
        "#Çift Tırnak ile\n",
        "\"Selçuk Akarın\""
      ]
    },
    {
      "cell_type": "code",
      "execution_count": 52,
      "metadata": {
        "id": "uafNxWohFFZl",
        "outputId": "93e0409d-1f01-4562-a0ac-b8aa378a9410",
        "colab": {
          "base_uri": "https://localhost:8080/",
          "height": 35
        }
      },
      "outputs": [
        {
          "output_type": "execute_result",
          "data": {
            "text/plain": [
              "'Selçuk Akarın'"
            ],
            "application/vnd.google.colaboratory.intrinsic+json": {
              "type": "string"
            }
          },
          "metadata": {},
          "execution_count": 52
        }
      ],
      "source": [
        "# 3 tırnak ile\n",
        "\"\"\"Selçuk Akarın\"\"\""
      ]
    },
    {
      "cell_type": "markdown",
      "metadata": {
        "id": "6gd9gAe7FFZl"
      },
      "source": [
        "Burada dikkat etmemiz gereken nokta, eğer bir çift tırnak ile oluşturacaksak, stringin oluşturulması bitirmeyi yine çift tırnak ile yapmalıyız.\n"
      ]
    },
    {
      "cell_type": "code",
      "execution_count": 2,
      "metadata": {
        "id": "vX26m8R0FFZl",
        "outputId": "fe5aff85-9228-4840-ba34-42f5027d699f",
        "colab": {
          "base_uri": "https://localhost:8080/",
          "height": 35
        }
      },
      "outputs": [
        {
          "output_type": "execute_result",
          "data": {
            "text/plain": [
              "'Merhaba'"
            ],
            "application/vnd.google.colaboratory.intrinsic+json": {
              "type": "string"
            }
          },
          "metadata": {},
          "execution_count": 2
        }
      ],
      "source": [
        "# Hatalı Kod\n",
        "\"Merhaba\""
      ]
    },
    {
      "cell_type": "code",
      "execution_count": null,
      "metadata": {
        "id": "KgGVIDKJFFZm",
        "outputId": "f8b7115e-73c9-4b0f-952d-3ae1c9ecaeab"
      },
      "outputs": [
        {
          "ename": "SyntaxError",
          "evalue": "EOL while scanning string literal (<ipython-input-5-688eb17d1742>, line 2)",
          "output_type": "error",
          "traceback": [
            "\u001b[1;36m  File \u001b[1;32m\"<ipython-input-5-688eb17d1742>\"\u001b[1;36m, line \u001b[1;32m2\u001b[0m\n\u001b[1;33m    'Merhaba\"\u001b[0m\n\u001b[1;37m             ^\u001b[0m\n\u001b[1;31mSyntaxError\u001b[0m\u001b[1;31m:\u001b[0m EOL while scanning string literal\n"
          ]
        }
      ],
      "source": [
        "# Hatalı Kod\n",
        "'Merhaba\"\n"
      ]
    },
    {
      "cell_type": "markdown",
      "metadata": {
        "id": "wxynfB2pFFZm"
      },
      "source": [
        "Peki şu şekilde bir stringi Pythonda nasıl tanımlarız: **Selçuk'ın bugün dersi var.**"
      ]
    },
    {
      "cell_type": "code",
      "execution_count": 53,
      "metadata": {
        "id": "Oa2x-ltfFFZm",
        "outputId": "166e5c02-6f77-4669-fe11-7df2dc6ef14d",
        "colab": {
          "base_uri": "https://localhost:8080/",
          "height": 35
        }
      },
      "outputs": [
        {
          "output_type": "execute_result",
          "data": {
            "text/plain": [
              "\"Selçuk'ın bugün dersi var.\""
            ],
            "application/vnd.google.colaboratory.intrinsic+json": {
              "type": "string"
            }
          },
          "metadata": {},
          "execution_count": 53
        }
      ],
      "source": [
        "'Selçuk\\'ın bugün dersi var.'"
      ]
    },
    {
      "cell_type": "markdown",
      "metadata": {
        "id": "yHviI1NoFFZn"
      },
      "source": [
        "Gördüğümüz gibi kodumuz sıkıntı çıkarttı. Çünkü karşılaştığı ilk **'** işaretini bitirme işareti olarak algıladı. Ancak şöyle bir kullanım sıkıntı yaratmayacaktır."
      ]
    },
    {
      "cell_type": "code",
      "execution_count": 54,
      "metadata": {
        "id": "kmiDHVNAFFZn",
        "outputId": "14066222-07e6-43db-ba7c-d0e89232f492",
        "colab": {
          "base_uri": "https://localhost:8080/",
          "height": 35
        }
      },
      "outputs": [
        {
          "output_type": "execute_result",
          "data": {
            "text/plain": [
              "\"Selçuk'ın bugün' dersi var\""
            ],
            "application/vnd.google.colaboratory.intrinsic+json": {
              "type": "string"
            }
          },
          "metadata": {},
          "execution_count": 54
        }
      ],
      "source": [
        "\"Selçuk'ın bugün' dersi var\""
      ]
    },
    {
      "cell_type": "markdown",
      "metadata": {
        "id": "t6ZRcCYSFFZn"
      },
      "source": [
        "Şimdi de bir tane string veri tipinde değişken oluşturalım. Stringler de bir veri tipi oldukları için bunlardan değişken oluşturup kullanabiliriz."
      ]
    },
    {
      "cell_type": "code",
      "execution_count": 8,
      "metadata": {
        "id": "G-TE3-r9FFZn",
        "outputId": "5e34974e-a767-4baf-fa97-5f0dadab0241",
        "colab": {
          "base_uri": "https://localhost:8080/"
        }
      },
      "outputs": [
        {
          "output_type": "stream",
          "name": "stdout",
          "text": [
            "Merhaba0\n",
            "Merhaba1\n",
            "Merhaba2\n"
          ]
        }
      ],
      "source": [
        "a = \"Merhaba\"\n",
        "a\n",
        "print(\"Merhaba0\")\n",
        "print(\"Merhaba1\")\n",
        "print(\"Merhaba2\")"
      ]
    },
    {
      "cell_type": "code",
      "execution_count": 15,
      "metadata": {
        "id": "cV_gHcERFFZo",
        "outputId": "73d6ebcf-bb2b-4b6c-d9f2-abde6ea265af",
        "colab": {
          "base_uri": "https://localhost:8080/",
          "height": 35
        }
      },
      "outputs": [
        {
          "output_type": "execute_result",
          "data": {
            "text/plain": [
              "'Naber iyi misin ?'"
            ],
            "application/vnd.google.colaboratory.intrinsic+json": {
              "type": "string"
            }
          },
          "metadata": {},
          "execution_count": 15
        }
      ],
      "source": [
        "naber = \"Naber iyi misin ?\"\n",
        "naber"
      ]
    },
    {
      "cell_type": "markdown",
      "metadata": {
        "id": "IWsD5o7UFFZo"
      },
      "source": [
        "### String Indeksleme ve Parçalama"
      ]
    },
    {
      "cell_type": "markdown",
      "metadata": {
        "id": "erkPVBzTFFZo"
      },
      "source": [
        "Stringler birer karakter dizileri oldukları için her bir karakterin aslında string içinde bir yeri vardır. Örnek olarak **\"ali\"** stringinde a,l ve i karakterlerinin yerleri **indeks** olarak adlandırılır.Pythonda ve genellikle çoğu programlama dilinde (Octave hariç) stringlerin indekslenmesi **\"0\"** dan başlamaktadır. Şimdi isterseniz bir string içindeki karakterlere **indeks** yoluyla nasıl ulaşacağımıza bakalım.\n"
      ]
    },
    {
      "cell_type": "code",
      "execution_count": 19,
      "metadata": {
        "id": "0OAu3kvbFFZo",
        "outputId": "35d4171d-0351-454e-cfb5-5b77b43bdca4",
        "colab": {
          "base_uri": "https://localhost:8080/",
          "height": 210
        }
      },
      "outputs": [
        {
          "output_type": "error",
          "ename": "IndexError",
          "evalue": "ignored",
          "traceback": [
            "\u001b[0;31m---------------------------------------------------------------------------\u001b[0m",
            "\u001b[0;31mIndexError\u001b[0m                                Traceback (most recent call last)",
            "\u001b[0;32m<ipython-input-19-8b2477d56ecc>\u001b[0m in \u001b[0;36m<cell line: 3>\u001b[0;34m()\u001b[0m\n\u001b[1;32m      1\u001b[0m \u001b[0;31m# 0. elemana  ulaşalım . Bunun için [] operatörünü kullanacağız.\u001b[0m\u001b[0;34m\u001b[0m\u001b[0;34m\u001b[0m\u001b[0m\n\u001b[1;32m      2\u001b[0m \u001b[0ma\u001b[0m \u001b[0;34m=\u001b[0m \u001b[0;34m\"ali\"\u001b[0m\u001b[0;34m\u001b[0m\u001b[0;34m\u001b[0m\u001b[0m\n\u001b[0;32m----> 3\u001b[0;31m \u001b[0ma\u001b[0m\u001b[0;34m[\u001b[0m\u001b[0;36m3\u001b[0m\u001b[0;34m]\u001b[0m\u001b[0;34m\u001b[0m\u001b[0;34m\u001b[0m\u001b[0m\n\u001b[0m",
            "\u001b[0;31mIndexError\u001b[0m: string index out of range"
          ]
        }
      ],
      "source": [
        "# 0. elemana  ulaşalım . Bunun için [] operatörünü kullanacağız.\n",
        "a = \"ali\"\n",
        "a[3]"
      ]
    },
    {
      "cell_type": "code",
      "execution_count": null,
      "metadata": {
        "id": "mpsTksugFFZo",
        "outputId": "8a2b096c-4403-4600-e313-8a4ea4585b11"
      },
      "outputs": [
        {
          "data": {
            "text/plain": [
              "'l'"
            ]
          },
          "execution_count": 15,
          "metadata": {},
          "output_type": "execute_result"
        }
      ],
      "source": [
        "# 1.eleman\n",
        "a[1]"
      ]
    },
    {
      "cell_type": "code",
      "execution_count": null,
      "metadata": {
        "id": "amc2Zk7WFFZo",
        "outputId": "5b9bb41c-a272-4667-80db-1eed882c7258"
      },
      "outputs": [
        {
          "data": {
            "text/plain": [
              "'i'"
            ]
          },
          "execution_count": 16,
          "metadata": {},
          "output_type": "execute_result"
        }
      ],
      "source": [
        "a[2]"
      ]
    },
    {
      "cell_type": "markdown",
      "metadata": {
        "id": "MTzbAgRKFFZo"
      },
      "source": [
        "Pythonda stringler baştan olduğu gibi sondan da indekslenebilirler. Sondan başlayarak -1,-2 ... şeklinde indekslenirler"
      ]
    },
    {
      "cell_type": "code",
      "source": [
        "a"
      ],
      "metadata": {
        "id": "HtzV9oVkHGGM",
        "outputId": "da459a51-a08d-4e44-995a-b55643cd3aa4",
        "colab": {
          "base_uri": "https://localhost:8080/",
          "height": 35
        }
      },
      "execution_count": 21,
      "outputs": [
        {
          "output_type": "execute_result",
          "data": {
            "text/plain": [
              "'Deneme'"
            ],
            "application/vnd.google.colaboratory.intrinsic+json": {
              "type": "string"
            }
          },
          "metadata": {},
          "execution_count": 21
        }
      ]
    },
    {
      "cell_type": "code",
      "execution_count": 23,
      "metadata": {
        "id": "L4tMdns3FFZo",
        "outputId": "3ffeba07-8f7a-426d-da45-cf3f3d65e063",
        "colab": {
          "base_uri": "https://localhost:8080/",
          "height": 35
        }
      },
      "outputs": [
        {
          "output_type": "execute_result",
          "data": {
            "text/plain": [
              "'t'"
            ],
            "application/vnd.google.colaboratory.intrinsic+json": {
              "type": "string"
            }
          },
          "metadata": {},
          "execution_count": 23
        }
      ],
      "source": [
        "# Sondaki eleman \"-1\" eleman\n",
        "a = \"selçuk\"\n",
        "a[-1]"
      ]
    },
    {
      "cell_type": "code",
      "execution_count": 24,
      "metadata": {
        "id": "i_MnO5XDFFZp",
        "outputId": "8234a050-86ea-4941-f67a-3350482bcc43",
        "colab": {
          "base_uri": "https://localhost:8080/",
          "height": 35
        }
      },
      "outputs": [
        {
          "output_type": "execute_result",
          "data": {
            "text/plain": [
              "'a'"
            ],
            "application/vnd.google.colaboratory.intrinsic+json": {
              "type": "string"
            }
          },
          "metadata": {},
          "execution_count": 24
        }
      ],
      "source": [
        "a[-2]"
      ]
    },
    {
      "cell_type": "code",
      "execution_count": 25,
      "metadata": {
        "id": "VSqp83j3FFZp",
        "outputId": "a7f03eeb-215b-4b8a-af51-ea2e7cab2af7",
        "colab": {
          "base_uri": "https://localhost:8080/",
          "height": 35
        }
      },
      "outputs": [
        {
          "output_type": "execute_result",
          "data": {
            "text/plain": [
              "'r'"
            ],
            "application/vnd.google.colaboratory.intrinsic+json": {
              "type": "string"
            }
          },
          "metadata": {},
          "execution_count": 25
        }
      ],
      "source": [
        "a[-3]"
      ]
    },
    {
      "cell_type": "code",
      "execution_count": 26,
      "metadata": {
        "id": "eSyL23DcFFZp",
        "outputId": "e45459e1-d132-40e7-e74a-10782ed16172",
        "colab": {
          "base_uri": "https://localhost:8080/",
          "height": 35
        }
      },
      "outputs": [
        {
          "output_type": "execute_result",
          "data": {
            "text/plain": [
              "'u'"
            ],
            "application/vnd.google.colaboratory.intrinsic+json": {
              "type": "string"
            }
          },
          "metadata": {},
          "execution_count": 26
        }
      ],
      "source": [
        "a[-4]"
      ]
    },
    {
      "cell_type": "code",
      "execution_count": 27,
      "metadata": {
        "id": "flIsaQZzFFZp",
        "outputId": "5d745c51-244a-48a6-d830-943c6f0f8e00",
        "colab": {
          "base_uri": "https://localhost:8080/",
          "height": 35
        }
      },
      "outputs": [
        {
          "output_type": "execute_result",
          "data": {
            "text/plain": [
              "'m'"
            ],
            "application/vnd.google.colaboratory.intrinsic+json": {
              "type": "string"
            }
          },
          "metadata": {},
          "execution_count": 27
        }
      ],
      "source": [
        "a[-5]"
      ]
    },
    {
      "cell_type": "markdown",
      "metadata": {
        "id": "0amqj_r1FFZp"
      },
      "source": [
        "Peki uzun bir string'in sadece belirli bir kısmını elde etmek için ne yapacağız ? Bunun için **indeksleri**, **:** ve **[]** işaretini kullanacağız. Formülümüz şu şekilde ;\n",
        "\n",
        "*[başlama indeksi : bitiş indeksi : atlama değeri]*\n",
        "\n",
        "İsterseniz örneklerimize bakalım."
      ]
    },
    {
      "cell_type": "code",
      "execution_count": 46,
      "metadata": {
        "collapsed": true,
        "id": "lXhnjg-HFFZp"
      },
      "outputs": [],
      "source": [
        "a = \"Python Programlama Dili\"\n"
      ]
    },
    {
      "cell_type": "code",
      "execution_count": 33,
      "metadata": {
        "id": "GxnR84PmFFZp",
        "outputId": "5f6d17c2-6f39-47a6-b89a-e5d89c734345",
        "colab": {
          "base_uri": "https://localhost:8080/",
          "height": 35
        }
      },
      "outputs": [
        {
          "output_type": "execute_result",
          "data": {
            "text/plain": [
              "'oP'"
            ],
            "application/vnd.google.colaboratory.intrinsic+json": {
              "type": "string"
            }
          },
          "metadata": {},
          "execution_count": 33
        }
      ],
      "source": [
        "# 4. indeksten başla 10.indekse kadar(dahil değil) al.\n",
        "a[4:10:3]"
      ]
    },
    {
      "cell_type": "code",
      "execution_count": 34,
      "metadata": {
        "id": "DFcpDVVlFFZp",
        "outputId": "275ae865-ec1f-4a50-c32f-10b55cde0a85",
        "colab": {
          "base_uri": "https://localhost:8080/",
          "height": 35
        }
      },
      "outputs": [
        {
          "output_type": "execute_result",
          "data": {
            "text/plain": [
              "'Python Pro'"
            ],
            "application/vnd.google.colaboratory.intrinsic+json": {
              "type": "string"
            }
          },
          "metadata": {},
          "execution_count": 34
        }
      ],
      "source": [
        "# Başlangıç değeri belirtilmemişse en baştan başlayarak alır.\n",
        "a[:10]"
      ]
    },
    {
      "cell_type": "code",
      "execution_count": 35,
      "metadata": {
        "id": "wECTArTSFFZp",
        "outputId": "591743fd-ecff-43b3-c71d-40133315ee8e",
        "colab": {
          "base_uri": "https://localhost:8080/",
          "height": 35
        }
      },
      "outputs": [
        {
          "output_type": "execute_result",
          "data": {
            "text/plain": [
              "'on Programlama Dili'"
            ],
            "application/vnd.google.colaboratory.intrinsic+json": {
              "type": "string"
            }
          },
          "metadata": {},
          "execution_count": 35
        }
      ],
      "source": [
        "# Bitiş değeri belirtilmemişse en sonuna kadar alır.\n",
        "a[4:]"
      ]
    },
    {
      "cell_type": "code",
      "execution_count": 39,
      "metadata": {
        "id": "wEOsmxUYFFZp",
        "outputId": "8575abe9-f718-4968-91fe-ac1f95674e95",
        "colab": {
          "base_uri": "https://localhost:8080/",
          "height": 35
        }
      },
      "outputs": [
        {
          "output_type": "execute_result",
          "data": {
            "text/plain": [
              "'Python Programlama Dili'"
            ],
            "application/vnd.google.colaboratory.intrinsic+json": {
              "type": "string"
            }
          },
          "metadata": {},
          "execution_count": 39
        }
      ],
      "source": [
        "# İki değer de belirtilmemişse tüm stringi al.\n",
        "a[:]"
      ]
    },
    {
      "cell_type": "code",
      "execution_count": 40,
      "metadata": {
        "id": "fFgH0c7iFFZq",
        "outputId": "62670ea7-ff38-4423-8568-8a38d869c90b",
        "colab": {
          "base_uri": "https://localhost:8080/",
          "height": 35
        }
      },
      "outputs": [
        {
          "output_type": "execute_result",
          "data": {
            "text/plain": [
              "'Python Programlama Dil'"
            ],
            "application/vnd.google.colaboratory.intrinsic+json": {
              "type": "string"
            }
          },
          "metadata": {},
          "execution_count": 40
        }
      ],
      "source": [
        "#Son karaktere kadar al.\n",
        "a[:-1]"
      ]
    },
    {
      "cell_type": "code",
      "execution_count": 43,
      "metadata": {
        "id": "0KuAuqQVFFZq",
        "outputId": "9c549967-b751-4968-e619-81f75700bda8",
        "colab": {
          "base_uri": "https://localhost:8080/",
          "height": 35
        }
      },
      "outputs": [
        {
          "output_type": "execute_result",
          "data": {
            "text/plain": [
              "'22222galm ii'"
            ],
            "application/vnd.google.colaboratory.intrinsic+json": {
              "type": "string"
            }
          },
          "metadata": {},
          "execution_count": 43
        }
      ],
      "source": [
        "# Baştan sona 2 değer atlaya atlaya stringi al.\n",
        "a[::2]"
      ]
    },
    {
      "cell_type": "code",
      "execution_count": 44,
      "metadata": {
        "id": "rG8exOvHFFZq",
        "outputId": "ea5b634b-9ada-4efe-af11-ab923321a05b",
        "colab": {
          "base_uri": "https://localhost:8080/",
          "height": 35
        }
      },
      "outputs": [
        {
          "output_type": "execute_result",
          "data": {
            "text/plain": [
              "'2Pg'"
            ],
            "application/vnd.google.colaboratory.intrinsic+json": {
              "type": "string"
            }
          },
          "metadata": {},
          "execution_count": 44
        }
      ],
      "source": [
        "# 4.indeksten 12'nci indekse 3'er atlayarak stringi al.\n",
        "a[4:12:3]"
      ]
    },
    {
      "cell_type": "code",
      "execution_count": 47,
      "metadata": {
        "id": "wTLqxkHkFFZq",
        "outputId": "ce5f61c1-c8ac-4917-a93f-6581e970949c",
        "colab": {
          "base_uri": "https://localhost:8080/",
          "height": 35
        }
      },
      "outputs": [
        {
          "output_type": "execute_result",
          "data": {
            "text/plain": [
              "'iliD amalmargorP nohtyP'"
            ],
            "application/vnd.google.colaboratory.intrinsic+json": {
              "type": "string"
            }
          },
          "metadata": {},
          "execution_count": 47
        }
      ],
      "source": [
        "# Baştan sona -1 atlayarak stringi al. (String'i ters çevirme)\n",
        "a[::-1]"
      ]
    },
    {
      "cell_type": "markdown",
      "metadata": {
        "id": "ihZf4n5MFFZq"
      },
      "source": [
        "### String Özellikleri"
      ]
    },
    {
      "cell_type": "markdown",
      "metadata": {
        "id": "UlvgTg7GFFZq"
      },
      "source": [
        "Bir string'in uzunluğunu nasıl buluruz ? Bunun için Python'da *len()* fonksiyonu bulunmaktadır."
      ]
    },
    {
      "cell_type": "code",
      "execution_count": null,
      "metadata": {
        "id": "T-eN6UT2FFZq",
        "outputId": "cca32db5-d8e0-4421-a089-1b1130c93237"
      },
      "outputs": [
        {
          "data": {
            "text/plain": [
              "23"
            ]
          },
          "execution_count": 35,
          "metadata": {},
          "output_type": "execute_result"
        }
      ],
      "source": [
        "# len() fonksiyonunu kullanma.\n",
        "a = \"Python Programlama Dili\"\n",
        "len(a)"
      ]
    },
    {
      "cell_type": "markdown",
      "metadata": {
        "id": "nQRYIZrdFFZq"
      },
      "source": [
        "Peki sizce bir string'in belli bir karakterini direkt olarak değiştirebilir miyiz ? Hemen bir deneme yapalım.\n"
      ]
    },
    {
      "cell_type": "code",
      "execution_count": 48,
      "metadata": {
        "collapsed": true,
        "id": "uR3ZrkdjFFZu"
      },
      "outputs": [],
      "source": [
        "a = \"Selçuk\""
      ]
    },
    {
      "cell_type": "code",
      "execution_count": null,
      "metadata": {
        "id": "w3Rz0TM7FFZu",
        "outputId": "bc124af5-ae36-4451-8b2e-d3a02778458f"
      },
      "outputs": [
        {
          "ename": "TypeError",
          "evalue": "'str' object does not support item assignment",
          "output_type": "error",
          "traceback": [
            "\u001b[1;31m---------------------------------------------------------------------------\u001b[0m",
            "\u001b[1;31mTypeError\u001b[0m                                 Traceback (most recent call last)",
            "\u001b[1;32m<ipython-input-38-87cff85377e0>\u001b[0m in \u001b[0;36m<module>\u001b[1;34m()\u001b[0m\n\u001b[0;32m      1\u001b[0m \u001b[1;31m# Biraz ilkokulluyum değil mi :) Ancak Python buna izin vermiyor Allahtan :)\u001b[0m\u001b[1;33m\u001b[0m\u001b[1;33m\u001b[0m\u001b[0m\n\u001b[1;32m----> 2\u001b[1;33m \u001b[0ma\u001b[0m\u001b[1;33m[\u001b[0m\u001b[1;36m0\u001b[0m\u001b[1;33m]\u001b[0m \u001b[1;33m=\u001b[0m \u001b[1;34m'T'\u001b[0m\u001b[1;33m\u001b[0m\u001b[0m\n\u001b[0m",
            "\u001b[1;31mTypeError\u001b[0m: 'str' object does not support item assignment"
          ]
        }
      ],
      "source": [
        "# Biraz ilkokulluyum değil mi :) Ancak Python buna izin vermiyor Allahtan :)\n",
        "a[0] = 'T'"
      ]
    },
    {
      "cell_type": "markdown",
      "metadata": {
        "id": "YPYHoCaTFFZu"
      },
      "source": [
        "Burada Python bu işleme izin vermedi. Gördüğümüz gibi, bir string'in karakterlerini **direkt** olarak değiştiremiyoruz.Çünkü stringler böyle bir işlemi desteklemiyor.\n"
      ]
    },
    {
      "cell_type": "markdown",
      "metadata": {
        "id": "vV36Kh2sFFZu"
      },
      "source": [
        "Peki, Pythonda stringler toplanabiliyor mu ? Python'da bunu yapmak da mümkündür.\n"
      ]
    },
    {
      "cell_type": "code",
      "execution_count": null,
      "metadata": {
        "id": "c9oAIVXsFFZv",
        "outputId": "fb8883cb-c02d-4ac3-e1dc-735bba9996ca"
      },
      "outputs": [
        {
          "data": {
            "text/plain": [
              "'Python Programlama Dili'"
            ]
          },
          "execution_count": 39,
          "metadata": {},
          "output_type": "execute_result"
        }
      ],
      "source": [
        "# Stringleri toplayalım yani birbirine ekleyelim.\n",
        "a = \"Python \"\n",
        "b = \"Programlama \"\n",
        "c = \"Dili\"\n",
        "a + b + c"
      ]
    },
    {
      "cell_type": "code",
      "execution_count": 49,
      "metadata": {
        "id": "dmA1IHeUFFZv",
        "outputId": "0dc045a8-80be-4a2b-9ff2-dfdf9e071e76",
        "colab": {
          "base_uri": "https://localhost:8080/",
          "height": 35
        }
      },
      "outputs": [
        {
          "output_type": "execute_result",
          "data": {
            "text/plain": [
              "'Selçuk Akarın'"
            ],
            "application/vnd.google.colaboratory.intrinsic+json": {
              "type": "string"
            }
          },
          "metadata": {},
          "execution_count": 49
        }
      ],
      "source": [
        "a = \"Selçuk \"\n",
        "a = a + \"Akarın\" # Burada stringleri birleştirerek yine a değişkenine atıyoruz.\n",
        "a\n"
      ]
    },
    {
      "cell_type": "markdown",
      "metadata": {
        "id": "ybf1U6ZnFFZv"
      },
      "source": [
        "Bir string ile bir sayıyı da çarpabiliriz.\n"
      ]
    },
    {
      "cell_type": "code",
      "execution_count": null,
      "metadata": {
        "id": "EVBPF6WdFFZv",
        "outputId": "3780b5ec-02d3-4f79-b612-e74417e3dfc5"
      },
      "outputs": [
        {
          "data": {
            "text/plain": [
              "'PythonPythonPython'"
            ]
          },
          "execution_count": 41,
          "metadata": {},
          "output_type": "execute_result"
        }
      ],
      "source": [
        "# Python * 3 aslında Python + Python + Python işlemine eşdeğerdir.\n",
        "\"Python\" * 3"
      ]
    },
    {
      "cell_type": "markdown",
      "metadata": {
        "collapsed": true,
        "id": "wVJS79drFFZv"
      },
      "source": [
        "Stringler konusu şimdilik bu kadar ! İleriki konularımızda stringlerimize tekrardan döneceğiz ve güzel özelliklerine bakma imkanına sahip olacağız."
      ]
    },
    {
      "cell_type": "code",
      "execution_count": null,
      "metadata": {
        "collapsed": true,
        "id": "K-QXq3fpFFZv"
      },
      "outputs": [],
      "source": []
    },
    {
      "cell_type": "code",
      "source": [
        "a"
      ],
      "metadata": {
        "id": "xMAsHjOiHJTR",
        "outputId": "9e08ec0c-6aa6-4056-a723-09f6a3e0dcac",
        "colab": {
          "base_uri": "https://localhost:8080/",
          "height": 35
        }
      },
      "execution_count": 22,
      "outputs": [
        {
          "output_type": "execute_result",
          "data": {
            "text/plain": [
              "'Deneme'"
            ],
            "application/vnd.google.colaboratory.intrinsic+json": {
              "type": "string"
            }
          },
          "metadata": {},
          "execution_count": 22
        }
      ]
    }
  ],
  "metadata": {
    "kernelspec": {
      "display_name": "Python 3",
      "language": "python",
      "name": "python3"
    },
    "language_info": {
      "codemirror_mode": {
        "name": "ipython",
        "version": 3
      },
      "file_extension": ".py",
      "mimetype": "text/x-python",
      "name": "python",
      "nbconvert_exporter": "python",
      "pygments_lexer": "ipython3",
      "version": "3.6.1"
    },
    "colab": {
      "provenance": []
    }
  },
  "nbformat": 4,
  "nbformat_minor": 0
}