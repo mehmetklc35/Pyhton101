{
 "cells": [
  {
   "cell_type": "markdown",
   "metadata": {},
   "source": [
    "# Uygulama Kavramı\n",
    "\n",
    "Uygulama kavramı aslında djangoya özgü bir kavram gibi görünse de tüm büyük projelerde bu kavrama karşılık gelen yapılar bulunur.\n",
    "Uygulama projemizi kaç parçaya ayırmak istediğimizle ilgili bir kavramdır.\n",
    "\n",
    "Eğer biz projemizi küçük parçalara ayırmazsak projemizin ilerleyen aşamalarında projemizi yönetmemiz ve projemizin kararlılığını sağlamamız oldukça zor olacaktır.\n",
    "\n",
    "aynı zamanda biz bir django projesinde yazdığımız bir django uygulamamızı da bir başka bir django projesine direkt olarak dahil edebiliriz.\n",
    "bu şekilde de biz djangonun tekrar kullanılabilirlik özelliğini sağlamış oluyoruz.\n",
    "\n",
    "biz setting dosyamızda INSTALLED_APPS tanımlamamızda django ile hazır gelen uygulamalarımızı görmüştük.\n",
    "Buradaki admin uygulamamız adminlerle ilgili işlemleri yapabilmemizi sağlayan uygulamamızdır.\n",
    "ya da session uygulamamız session'larla ilgili işlemleri yapabilmemizi sağlayan uygulamamız.\n",
    "\n",
    "örneğin bizim projemin içerisinde bir forum kısmımız olacaksa biz bu forum kısmını ayrı bir proje olarak yazabiliriz ve bu şekilde projemizi daha kararlı bir hale getirmiş oluruz.\n",
    "\n",
    "kendi uygulamamızı oluşturmak için aşağıdaki kod kullanılır\n",
    "```python manage.py startapp article```\n",
    "\n",
    "bu şekilde bir komut çalıştırdığımız zaman bizim uygulama dosyalarımız oluşturulmuş oluyor.\n",
    "\n",
    "migration dosyası bizim uygulamamız içerisinde oluşturduğumuz modellerimizi veritabanına kayıt etmek için sql sorgularımızı gerçekleştiren, sql sorgularına yakın komutlar bulunduran dosyalarımızdır.\n",
    "\n",
    "models.py bizim uygulamamızda kullanılacak veritabanı tablolarımızı python classları şeklinde tasarladığımız kodlarımızı tutan dosyadır.\n",
    "biz bu modellerimizi admin panelimizde göstermek istersek de admin.py dosyamızdan bu modelleri kayıt etmemiz gerekiyor.\n",
    "apps.py bizim uygulamamızın ismini gösteren kodlarımızı tutan dosyadır.\n",
    "tests.py dosyası bizim testlerimizi yazabildiğimiz dosyamızdır.\n",
    "views.py ise bizim belli bir url map'ine göre çalışacak fonksiyonlarımızı tuttuğumuz dosyadır.\n",
    "\n",
    "Uygulama kavramı genel olarak bu şekildedir.\n"
   ]
  },
  {
   "cell_type": "markdown",
   "metadata": {},
   "source": [
    "6-Article_modeli_olusturma_admin_arayuzune_ekleme"
   ]
  }
 ],
 "metadata": {
  "kernelspec": {
   "display_name": "Python 3",
   "language": "python",
   "name": "python3"
  },
  "language_info": {
   "codemirror_mode": {
    "name": "ipython",
    "version": 3
   },
   "file_extension": ".py",
   "mimetype": "text/x-python",
   "name": "python",
   "nbconvert_exporter": "python",
   "pygments_lexer": "ipython3",
   "version": "3.12.1"
  }
 },
 "nbformat": 4,
 "nbformat_minor": 2
}
