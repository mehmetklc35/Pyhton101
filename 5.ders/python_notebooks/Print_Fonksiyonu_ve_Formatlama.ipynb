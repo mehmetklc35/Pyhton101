{
  "cells": [
    {
      "cell_type": "markdown",
      "metadata": {
        "id": "Nc1Pg-wr9YZy"
      },
      "source": [
        "# Print Fonksiyonu ve Formatlama\n",
        "\n",
        "Bu bölümde ekrana veri tiplerini yazdırmak için kullandığımız *print()* fonksiyonunu ve formatlama yöntemlerini öğreneceğiz.\n",
        "\n",
        "### Print() Fonksiyonu\n",
        "\n",
        "Kodlarımızı dosyalara yazdığımızda, eğer ekrana bir değer bastırmak istersek *print* fonksiyonunu kullanırız. Kullanımı oldukça basittir ve değişik özelliklere sahiptir. Örneklerimize bakalım.\n"
      ]
    },
    {
      "cell_type": "code",
      "execution_count": null,
      "metadata": {
        "id": "-PnjKYeT9YZz",
        "outputId": "099239cb-7eee-464b-bfd0-2965908158f1"
      },
      "outputs": [
        {
          "name": "stdout",
          "output_type": "stream",
          "text": [
            "35\n"
          ]
        }
      ],
      "source": [
        "print(35)"
      ]
    },
    {
      "cell_type": "code",
      "execution_count": null,
      "metadata": {
        "id": "u4DNIsXR9YZ0",
        "outputId": "254b31b3-da9b-4c6e-c059-481e97366f86"
      },
      "outputs": [
        {
          "name": "stdout",
          "output_type": "stream",
          "text": [
            "3.14\n"
          ]
        }
      ],
      "source": [
        "print(3.14)"
      ]
    },
    {
      "cell_type": "code",
      "execution_count": null,
      "metadata": {
        "id": "2ZD-dsCb9YZ0",
        "outputId": "f1c246be-04e8-41ba-dd6a-3ac606f326f6"
      },
      "outputs": [
        {
          "name": "stdout",
          "output_type": "stream",
          "text": [
            "19\n"
          ]
        }
      ],
      "source": [
        "a = 4\n",
        "b = 15\n",
        "print(a+b)"
      ]
    },
    {
      "cell_type": "code",
      "execution_count": null,
      "metadata": {
        "id": "AkykapNZ9YZ0",
        "outputId": "bd7b2838-0209-4ad2-a7eb-2a0b3b96a79f"
      },
      "outputs": [
        {
          "name": "stdout",
          "output_type": "stream",
          "text": [
            "Selçuk Deneme Akarın\n"
          ]
        }
      ],
      "source": [
        "print(\"Selçuk Deneme Akarın\")"
      ]
    },
    {
      "cell_type": "code",
      "execution_count": null,
      "metadata": {
        "id": "_m0pZ_Zf9YZ0",
        "outputId": "3271e6db-bcfd-4dfe-9239-0a7ea934db56"
      },
      "outputs": [
        {
          "name": "stdout",
          "output_type": "stream",
          "text": [
            "Deneme'ın bugün dersi var.\n"
          ]
        }
      ],
      "source": [
        "print(\"Deneme'ın bugün dersi var.\")"
      ]
    },
    {
      "cell_type": "markdown",
      "metadata": {
        "id": "gi7cun3J9YZ0"
      },
      "source": [
        "Buradaki işlemlerde gördüğümüz gibi biz print fonksiyonunun içine bastırmak istediğimiz değeri veriyoruz ve bu fonksiyon da ekrana değerimizi bastırıyor. Peki aynı satırda birkaç değer bastırmak istersek ne yapıyoruz? Bunun için değerlerimizin arasına **,** karakterini atıyoruz.\n"
      ]
    },
    {
      "cell_type": "code",
      "execution_count": null,
      "metadata": {
        "id": "VxOTwCXW9YZ0",
        "outputId": "8d41b15c-22e5-4308-d04a-d6ba949a3334"
      },
      "outputs": [
        {
          "name": "stdout",
          "output_type": "stream",
          "text": [
            "Deneme 12 545 66767 3.56\n"
          ]
        }
      ],
      "source": [
        "print(\"Deneme\",12,545,66767,3.56)"
      ]
    },
    {
      "cell_type": "code",
      "execution_count": null,
      "metadata": {
        "id": "upygjioN9YZ1",
        "outputId": "43ef7df0-9f0d-43d7-f536-54c960799a49"
      },
      "outputs": [
        {
          "name": "stdout",
          "output_type": "stream",
          "text": [
            "Selçuk Deneme Akarın\n"
          ]
        }
      ],
      "source": [
        "print(\"Selçuk\",\"Deneme\",\"Akarın\")"
      ]
    },
    {
      "cell_type": "markdown",
      "metadata": {
        "id": "tQPhxZmO9YZ1"
      },
      "source": [
        "### Stringlerdeki Özel Karakterler\n",
        "Pythonda stringlerde kullanılan özel karakterler mevcuttur ve kullanıldıkları yerler de işlerimizi kolaylaştırır. En çok kullanılan 2 tanesi şunlardır;\n",
        "\n",
        "##### \\n karakteri\n",
        "\n",
        "Eğer *print()* fonksiyonu stringlerde böyle bir karakterle karşılaşırsa alt satırdan ekrana yazdırma işlemine devam eder. Hemen örneklerimize bakalım.\n"
      ]
    },
    {
      "cell_type": "code",
      "execution_count": null,
      "metadata": {
        "id": "pZtWEqF09YZ1",
        "outputId": "750d4d74-84dd-453b-c1c8-fc0c711022db"
      },
      "outputs": [
        {
          "name": "stdout",
          "output_type": "stream",
          "text": [
            "Merhaba\n",
            "Nasılsın\n",
            "İyi misin\n"
          ]
        }
      ],
      "source": [
        "print(\"Merhaba\\nNasılsın\\nİyi misin\")"
      ]
    },
    {
      "cell_type": "code",
      "execution_count": null,
      "metadata": {
        "id": "RAU9-WH69YZ1",
        "outputId": "5a79a9e3-cb0e-4062-e7e2-a554d00ba510"
      },
      "outputs": [
        {
          "name": "stdout",
          "output_type": "stream",
          "text": [
            "Selam\n",
            "Gençler\n"
          ]
        }
      ],
      "source": [
        "print(\"Selam\\nGençler\")"
      ]
    },
    {
      "cell_type": "markdown",
      "metadata": {
        "id": "8xF4mm8I9YZ1"
      },
      "source": [
        "#### \\t karakteri\n",
        "\n",
        "Eğer *print()* fonksiyonu stringlerde böyle bir karakterle karşılaşırsa bir tab boşluk bırakarak ekrana yazdırma işlemine devam eder. Hemen örneklerimize bakalım."
      ]
    },
    {
      "cell_type": "code",
      "execution_count": null,
      "metadata": {
        "id": "haQISqgJ9YZ1",
        "outputId": "666c9e39-3431-40dd-ea11-51918f0fad17"
      },
      "outputs": [
        {
          "name": "stdout",
          "output_type": "stream",
          "text": [
            "Ocak\tMart\tŞubat\n"
          ]
        }
      ],
      "source": [
        "print(\"Ocak\\tMart\\tŞubat\")"
      ]
    },
    {
      "cell_type": "code",
      "execution_count": null,
      "metadata": {
        "id": "qTz-wxY79YZ2",
        "outputId": "75d93b89-f709-4275-e6a4-6c7e5ab26c27"
      },
      "outputs": [
        {
          "name": "stdout",
          "output_type": "stream",
          "text": [
            "a\t\t\t\t\tb\n"
          ]
        }
      ],
      "source": [
        "print(\"a\\t\\t\\t\\t\\tb\")"
      ]
    },
    {
      "cell_type": "markdown",
      "metadata": {
        "id": "ijyn2Bdh9YZ2"
      },
      "source": [
        "### type() fonksiyonu\n",
        "\n",
        "*print()* fonksiyonundan bahsetmişken *type()* fonksiyonunu öğrenmekte fayda var. *type()* fonksiyonu içine gönderilen değerin hangi veri tipinden olduğunu söyler.\n"
      ]
    },
    {
      "cell_type": "code",
      "execution_count": null,
      "metadata": {
        "id": "-BGE-Vkg9YZ2",
        "outputId": "6ffa0115-6314-472e-c017-706aea76c6e3"
      },
      "outputs": [
        {
          "name": "stdout",
          "output_type": "stream",
          "text": [
            "<class 'int'>\n"
          ]
        }
      ],
      "source": [
        "# Integer (Tamsayı) türü\n",
        "a = 65\n",
        "print(type(a))"
      ]
    },
    {
      "cell_type": "code",
      "execution_count": null,
      "metadata": {
        "id": "13mHhr0p9YZ2",
        "outputId": "5372188b-464a-4955-ed8b-874ba55347ff"
      },
      "outputs": [
        {
          "name": "stdout",
          "output_type": "stream",
          "text": [
            "<class 'float'>\n"
          ]
        }
      ],
      "source": [
        "# Float (Ondalıklı Sayı) türü\n",
        "a = 5.87\n",
        "print(type(a))"
      ]
    },
    {
      "cell_type": "code",
      "execution_count": null,
      "metadata": {
        "id": "NpnS8f3t9YZ2",
        "outputId": "9fab20de-40e9-4b8b-8d6e-bd64e9454fa3"
      },
      "outputs": [
        {
          "name": "stdout",
          "output_type": "stream",
          "text": [
            "<class 'str'>\n"
          ]
        }
      ],
      "source": [
        "# String (Karakter Dizisi) türü\n",
        "a = \"Deneme\"\n",
        "print(type(a))"
      ]
    },
    {
      "cell_type": "markdown",
      "metadata": {
        "id": "HwJbrSZn9YZ2"
      },
      "source": [
        "### Print() Fonksiyonunun Özellikleri\n",
        "\n",
        "Ekrana yazdırma işlemlerimiz sırasında *print()* fonksiyonunun faydalı özelliklerini kullanırsak yazdığımız kodu daha verimli kılabiliriz. Bunun için burada 2 tane özellikten bahsedeceğiz.\n",
        "\n",
        "#### sep parametresi\n",
        "\n",
        "*print()* fonksiyonunda kullanılabilen sep parametresi yazdırdığımız değerlerin arasına istediğimiz karakterlerin yerleştirilmesini sağlar. Eğer bu parametreyi kullanmazsak değerlerin arasına varsayılan olarak boşluk yerleştirildiğini biliyoruz.Örneklere bakalım.\n"
      ]
    },
    {
      "cell_type": "code",
      "execution_count": null,
      "metadata": {
        "id": "pvhUrXaG9YZ2",
        "outputId": "4dde3ef6-d318-4859-9445-3502c5520588"
      },
      "outputs": [
        {
          "name": "stdout",
          "output_type": "stream",
          "text": [
            "3 4 5 6 7 8 9\n"
          ]
        }
      ],
      "source": [
        "print(3,4,5,6,7,8,9)"
      ]
    },
    {
      "cell_type": "code",
      "execution_count": null,
      "metadata": {
        "id": "990pvY1p9YZ2",
        "outputId": "f4115aa7-9489-4468-b92a-9e8e0d486186"
      },
      "outputs": [
        {
          "name": "stdout",
          "output_type": "stream",
          "text": [
            "3.4.5.6.7.8.9\n"
          ]
        }
      ],
      "source": [
        "# sep parametresi sayesinde değerlerin arasına nokta konuyor.\n",
        "print(3,4,5,6,7,8,9,sep = \".\")"
      ]
    },
    {
      "cell_type": "code",
      "execution_count": null,
      "metadata": {
        "id": "yAZxi0tf9YZ5",
        "outputId": "36425e0d-91b1-4178-f45f-093738376476"
      },
      "outputs": [
        {
          "name": "stdout",
          "output_type": "stream",
          "text": [
            "06/04/2015\n"
          ]
        }
      ],
      "source": [
        "# Değerlerin arasında \"/\" sembolü yerleştiriliyor.\n",
        "print(\"06\",\"04\",\"2015\",sep = \"/\")"
      ]
    },
    {
      "cell_type": "code",
      "execution_count": null,
      "metadata": {
        "id": "9K5zXUV09YZ6",
        "outputId": "320ff557-012f-4245-a453-4f963a60841e"
      },
      "outputs": [
        {
          "name": "stdout",
          "output_type": "stream",
          "text": [
            "Selçuk\n",
            "Deneme\n",
            "Akarın\n"
          ]
        }
      ],
      "source": [
        "print(\"Selçuk\",\"Deneme\",\"Akarın\",sep = \"\\n\")"
      ]
    },
    {
      "cell_type": "markdown",
      "metadata": {
        "id": "t3YvD5J59YZ6"
      },
      "source": [
        "#### Yıldızlı Parametreler\n",
        "Eğer bir stringin başına * işareti koyup, print fonksiyonuna gönderirsek bu string karakterlerine ayrılacak ve her bir karakter ayrı birer string olarak davranılarak ekrana basılacaktır."
      ]
    },
    {
      "cell_type": "code",
      "execution_count": null,
      "metadata": {
        "id": "-_VoCxF49YZ6",
        "outputId": "51586dd1-76c5-4515-c977-90d4d22836e0"
      },
      "outputs": [
        {
          "name": "stdout",
          "output_type": "stream",
          "text": [
            "P y t h o n\n"
          ]
        }
      ],
      "source": [
        "# Varsayılan olarak karakterlerin arasına boşluk konuluyor.\n",
        "print(*\"Python\")"
      ]
    },
    {
      "cell_type": "code",
      "execution_count": null,
      "metadata": {
        "id": "wZfWYxj39YZ6",
        "outputId": "325a5672-734e-4ed1-cef9-ee19b955a53c"
      },
      "outputs": [
        {
          "name": "stdout",
          "output_type": "stream",
          "text": [
            "P\n",
            "y\n",
            "t\n",
            "h\n",
            "o\n",
            "n\n"
          ]
        }
      ],
      "source": [
        "print(*\"Python\",sep = \"\\n\")"
      ]
    },
    {
      "cell_type": "code",
      "execution_count": null,
      "metadata": {
        "id": "Trxu8BOV9YZ6",
        "outputId": "7e991842-0280-4036-dd22-61c75bab148d"
      },
      "outputs": [
        {
          "name": "stdout",
          "output_type": "stream",
          "text": [
            "T.B.M.M\n"
          ]
        }
      ],
      "source": [
        "print(*\"TBMM\",sep =\".\")"
      ]
    },
    {
      "cell_type": "markdown",
      "metadata": {
        "id": "ZeW5b5R39YZ6"
      },
      "source": [
        "# Formatlama\n",
        "\n",
        "Programlama yaparken bazı yerlerde bir stringin içinde daha önceden tanımlı string,float, int vs. değerleri yerleştirmek isteyebiliriz. Böyle durumlar için Pythonda *format()* fonksiyonu bulunmaktadır. Örneğin, programımızda 3 tane tamsayı değerimiz var ve biz bunları bir string içinde ekrana basmak istiyoruz. Bunun için *format()* fonksiyonunu kullanabiliriz. *format()* fonksiyonunun çok fazla özelliği olduğu için, ben burada sadece en çok kullandığımız özelliğini göstereceğim."
      ]
    },
    {
      "cell_type": "code",
      "execution_count": null,
      "metadata": {
        "id": "nDEUIxWn9YZ6",
        "outputId": "17ea109e-feb7-41d3-9fee-b0d8b9764910"
      },
      "outputs": [
        {
          "data": {
            "text/plain": [
              "'3.1423 5.324 7.324324'"
            ]
          },
          "execution_count": 41,
          "metadata": {},
          "output_type": "execute_result"
        }
      ],
      "source": [
        "# Burada 3 tane süslü parantezimiz ({}) var ve bunların yerine sırasıyla format fonksiyonun içindeki değerler geçiyor.\n",
        "\"{} {} {}\".format(3.1423,5.324,7.324324)"
      ]
    },
    {
      "cell_type": "code",
      "execution_count": null,
      "metadata": {
        "scrolled": true,
        "id": "NJtLtE159YZ6",
        "outputId": "1ab548f6-f1f9-4369-963b-274cc2d6587b"
      },
      "outputs": [
        {
          "name": "stdout",
          "output_type": "stream",
          "text": [
            "3 + 4 'nin toplamı 7 'dır\n"
          ]
        }
      ],
      "source": [
        "a = 3\n",
        "b = 4\n",
        "print(\"{} + {} 'nin toplamı {} 'dır\".format(a,b,a+b))"
      ]
    },
    {
      "cell_type": "code",
      "execution_count": null,
      "metadata": {
        "id": "gkp7ze0t9YZ6",
        "outputId": "3c522884-137f-4848-92c0-29a1b4fd7d19"
      },
      "outputs": [
        {
          "data": {
            "text/plain": [
              "'Deneme 43 54'"
            ]
          },
          "execution_count": 47,
          "metadata": {},
          "output_type": "execute_result"
        }
      ],
      "source": [
        "# Süslü parantezlerin içindeki sayılar format fonksiyonun içinden hangi sıradaki değerin geleceğini söylüyor.\n",
        "\"{1} {0} {2}\".format(43,\"Deneme\",54)"
      ]
    },
    {
      "cell_type": "code",
      "execution_count": null,
      "metadata": {
        "id": "m9Qw0n4b9YZ7",
        "outputId": "a786cc9b-879c-43a1-f8ef-44ef40738da4"
      },
      "outputs": [
        {
          "data": {
            "text/plain": [
              "'3.15 5.32 7.324'"
            ]
          },
          "execution_count": 49,
          "metadata": {},
          "output_type": "execute_result"
        }
      ],
      "source": [
        "# Süslü parantezlerin içindeki kullanım ondalıklı kısmın sadece 2 basamağına kadar almak istediğimiz söylüyor.\n",
        "\"{:.2f} {:.2f} {:.3f}\".format(3.1463,5.324,7.324324)"
      ]
    },
    {
      "cell_type": "markdown",
      "metadata": {
        "id": "nkJA9DuQ9YZ7"
      },
      "source": [
        "Format fonksiyonu ile ilgili kullanımları ihtiyacınız olduğu zaman şu web sitesinden yararlanarak uygulayabilirsiniz;\n",
        "https://pyformat.info/"
      ]
    },
    {
      "cell_type": "markdown",
      "metadata": {
        "id": "qZvXResN9YZ7"
      },
      "source": [
        "print() fonksiyonu ve formatlama konumuz şimdilik bu kadar ! İsterseniz listeler konumuza geçelim."
      ]
    },
    {
      "cell_type": "code",
      "execution_count": null,
      "metadata": {
        "collapsed": true,
        "id": "jTZ-LKQS9YZ7"
      },
      "outputs": [],
      "source": []
    }
  ],
  "metadata": {
    "kernelspec": {
      "display_name": "Python 3",
      "language": "python",
      "name": "python3"
    },
    "language_info": {
      "codemirror_mode": {
        "name": "ipython",
        "version": 3
      },
      "file_extension": ".py",
      "mimetype": "text/x-python",
      "name": "python",
      "nbconvert_exporter": "python",
      "pygments_lexer": "ipython3",
      "version": "3.6.1"
    },
    "colab": {
      "provenance": []
    }
  },
  "nbformat": 4,
  "nbformat_minor": 0
}