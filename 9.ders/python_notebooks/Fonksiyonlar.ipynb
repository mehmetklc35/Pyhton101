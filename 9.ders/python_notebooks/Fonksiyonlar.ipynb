{
  "cells": [
    {
      "cell_type": "markdown",
      "metadata": {
        "id": "NQUPiRsh7ZUd"
      },
      "source": [
        "# Fonksiyonlar\n",
        "\n",
        "Bu derste fonksiyonların ne olduğunu , bir fonksiyonun nasıl tanımlanacağını ve nasıl kullanılacağını öğrenmeye çalışacağız."
      ]
    },
    {
      "cell_type": "markdown",
      "metadata": {
        "id": "4E11MqPG7ZUe"
      },
      "source": [
        "Fonksiyonlar programlamada belli işlevleri olan ve tekrar tekrar kullandığımız yapılardır. Örneğin kursumuzun başlarından beri kullandığımız **print()** fonksiyonunun görevi **içine gönderdiğimiz değerleri** ekrana yazdırdırmaktır. Bu fonksiyon Python geliştiricileri tarafından bir defa yazılmış ve biz de bu fonksiyonu programlarımızın değişik yerlerinde tekrar tekrar kullanıyoruz. İşte fonksiyonların kullanım amacı tam olarak budur. Fonksiyonlar bir defa tanımlanır ve programlarda ihtiyacımız olduğu zaman kullanırız. Ayrıca fonksiyonlar kod tekrarını engeller ve kodlarımız daha derli toplu durur.\n",
        "\n",
        "İsterseniz şimdi de  fonksiyonların ne olduğunu gerçek hayattan benzetme yaparak anlamaya çalışalım. Örneğin evimize bir adet **katı meyve sıkacağı** alıyoruz ve canımız ne zaman meyve suyu isterse bu aleti kullanıyoruz. Yani aslında bu aletin görevi ve fonksiyonu **meyve suyu** hazırlamaktır.\n",
        "\n",
        "Python geliştiricilerin yazdığı fonksiyonlara yani bizim hazır kullandığımız fonksiyonlara(print(),type() vs.) gömülü fonksiyonlar(built-in function) denilmektedir.Ancak bunlardan hariç olarak biz kendi özel fonksiyonlarımızı(user-defined functions) da tanımlayabiliriz.\n",
        "\n",
        "Peki biz kendi fonksiyonlarımızı nasıl tanımlayacağız ? İsterseniz şimdi yavaştan fonksiyonların nasıl tanımlanacağını öğrenelim.\n"
      ]
    },
    {
      "cell_type": "markdown",
      "metadata": {
        "id": "v1zJu8R87ZUf"
      },
      "source": [
        "### Fonksiyonların Tanımlanması\n",
        "\n",
        "Fonksiyon tanımlamanın yapısı şu şekildedir;\n",
        "\n",
        "            def fonksiyon_adı(parametre1,parametre2..... (opsiyonel)):\n",
        "                # Fonksiyon bloğu\n",
        "                Yapılacak işlemler\n",
        "                # dönüş değeri - Opsiyonel\n",
        "                \n",
        "İsterseniz şimdi bir tane \"selamla\" isimli bir fonksiyon tanımlayalım.\n"
      ]
    },
    {
      "cell_type": "code",
      "execution_count": null,
      "metadata": {
        "id": "4HiigSk57ZUg",
        "outputId": "03fefad1-612f-4ee1-c022-8f8665cbb7d5"
      },
      "outputs": [
        {
          "ename": "NameError",
          "evalue": "name 'selamla' is not defined",
          "output_type": "error",
          "traceback": [
            "\u001b[1;31m---------------------------------------------------------------------------\u001b[0m",
            "\u001b[1;31mNameError\u001b[0m                                 Traceback (most recent call last)",
            "\u001b[1;32m<ipython-input-2-02f6a6f95c12>\u001b[0m in \u001b[0;36m<module>\u001b[1;34m()\u001b[0m\n\u001b[1;32m----> 1\u001b[1;33m \u001b[0mtype\u001b[0m\u001b[1;33m(\u001b[0m\u001b[0mselamla\u001b[0m\u001b[1;33m)\u001b[0m\u001b[1;33m\u001b[0m\u001b[0m\n\u001b[0m",
            "\u001b[1;31mNameError\u001b[0m: name 'selamla' is not defined"
          ]
        }
      ],
      "source": [
        "type(selamla) # Henüz tanımlamadık."
      ]
    },
    {
      "cell_type": "code",
      "execution_count": null,
      "metadata": {
        "collapsed": true,
        "id": "g_tbg61Q7ZUg"
      },
      "outputs": [],
      "source": [
        "def selamla():\n",
        "    print(\"Selam arkadaşlar...\")\n",
        "    print(\"Nasılsınız?\")"
      ]
    },
    {
      "cell_type": "code",
      "execution_count": null,
      "metadata": {
        "id": "-tBNQN8R7ZUh",
        "outputId": "268c2622-359d-4b0d-c42d-77b5431f49d8"
      },
      "outputs": [
        {
          "data": {
            "text/plain": [
              "function"
            ]
          },
          "execution_count": 4,
          "metadata": {},
          "output_type": "execute_result"
        }
      ],
      "source": [
        "type(selamla) # Fonksiyonumuz tanımlandı."
      ]
    },
    {
      "cell_type": "markdown",
      "metadata": {
        "id": "ok6PB_tz7ZUh"
      },
      "source": [
        "Fonksiyonumuzu tanımladık ve Python bunu bir fonksiyon olarak algıladı ? Ancak tıpkı katı meyve sıkacağını alıp kullanmazsak hiçbir işe yaramadığı için , bu fonksiyonu da tanımlayıp kullanmazsak hiçbir işe yaramayacaktır. O halde şimdi de fonksiyonların kullanılmasını öğrenelim."
      ]
    },
    {
      "cell_type": "markdown",
      "metadata": {
        "id": "bCorLxqO7ZUh"
      },
      "source": [
        "### Fonksiyonların Kullanılması veya Çağrılması (Function Call)\n",
        "\n"
      ]
    },
    {
      "cell_type": "markdown",
      "metadata": {
        "id": "JvD0ePEx7ZUh"
      },
      "source": [
        "Tanımlanan bir fonksiyonun kullanılmasına programlama dillerinde *Fonksiyon Çağrısı* denmektedir. O halde **selamla** fonksiyonumuzu nasıl çağıracağımızı öğrenelim. Fonksiyon çağrısı şu şekilde yapılabilmektedir;\n",
        "\n",
        "            fonksiyon_adı(Argüman1,Argüman2....)\n",
        "İsterseniz şimdi **selamla** fonksiyonumuzu çağıralım."
      ]
    },
    {
      "cell_type": "code",
      "execution_count": null,
      "metadata": {
        "id": "-QSm14lJ7ZUh",
        "outputId": "377cc374-b435-4a15-ee94-09107474955d"
      },
      "outputs": [
        {
          "data": {
            "text/plain": [
              "function"
            ]
          },
          "execution_count": 6,
          "metadata": {},
          "output_type": "execute_result"
        }
      ],
      "source": [
        "type(selamla) # Tanımlı"
      ]
    },
    {
      "cell_type": "code",
      "execution_count": null,
      "metadata": {
        "id": "S2NowVYk7ZUi",
        "outputId": "9707b924-3f6c-4773-a821-a3bc1b0395a6"
      },
      "outputs": [
        {
          "name": "stdout",
          "output_type": "stream",
          "text": [
            "Selam arkadaşlar...\n",
            "Nasılsınız?\n"
          ]
        }
      ],
      "source": [
        "selamla() # Fonksiyon parametre almadığında içine argümanlarımızı göndermiyoruz."
      ]
    },
    {
      "cell_type": "markdown",
      "metadata": {
        "id": "YqBASzFm7ZUi"
      },
      "source": [
        "Burada gördüğünüz gibi, fonksiyonumuz çağrıldığı zaman, kendi bloğundaki işleri yaptı ve ekrana 2 tane değer yazdırdı. Bu fonksiyonu istediğimiz yerde tekrar tekrar çağırabiliriz."
      ]
    },
    {
      "cell_type": "code",
      "execution_count": null,
      "metadata": {
        "id": "r4ZQpaB77ZUi",
        "outputId": "60962994-f432-4ddc-8278-5fba9fb85b2c"
      },
      "outputs": [
        {
          "name": "stdout",
          "output_type": "stream",
          "text": [
            "Selam arkadaşlar...\n",
            "Nasılsınız?\n",
            "Selam arkadaşlar...\n",
            "Nasılsınız?\n",
            "Selam arkadaşlar...\n",
            "Nasılsınız?\n",
            "Selam arkadaşlar...\n",
            "Nasılsınız?\n"
          ]
        }
      ],
      "source": [
        "selamla()\n",
        "selamla()\n",
        "selamla()\n",
        "selamla()"
      ]
    },
    {
      "cell_type": "markdown",
      "metadata": {
        "id": "9MJuFrMb7ZUi"
      },
      "source": [
        "**selamla** fonksiyonumuzu 4 defa çağırdık ve fonksiyonumuz işlevini 4 defa yerine getirdi. Peki fonksiyonumuzun içine bir tane değer verseydik ne olurdu ?\n"
      ]
    },
    {
      "cell_type": "code",
      "execution_count": null,
      "metadata": {
        "id": "IV2pU8qy7ZUi",
        "outputId": "d8980216-67a7-4440-d9ed-913b5670f148"
      },
      "outputs": [
        {
          "ename": "TypeError",
          "evalue": "selamla() takes 0 positional arguments but 1 was given",
          "output_type": "error",
          "traceback": [
            "\u001b[1;31m---------------------------------------------------------------------------\u001b[0m",
            "\u001b[1;31mTypeError\u001b[0m                                 Traceback (most recent call last)",
            "\u001b[1;32m<ipython-input-10-97be52311f74>\u001b[0m in \u001b[0;36m<module>\u001b[1;34m()\u001b[0m\n\u001b[1;32m----> 1\u001b[1;33m \u001b[0mselamla\u001b[0m\u001b[1;33m(\u001b[0m\u001b[1;34m\"python\"\u001b[0m\u001b[1;33m)\u001b[0m \u001b[1;31m# Hata verdi çünkü fonksiyonumuz hiçbir değer almıyor.\u001b[0m\u001b[1;33m\u001b[0m\u001b[0m\n\u001b[0m",
            "\u001b[1;31mTypeError\u001b[0m: selamla() takes 0 positional arguments but 1 was given"
          ]
        }
      ],
      "source": [
        "selamla(\"python\") # Hata verdi çünkü fonksiyonumuz hiçbir değer almıyor."
      ]
    },
    {
      "cell_type": "markdown",
      "metadata": {
        "id": "DEf21R0y7ZUj"
      },
      "source": [
        "### Parametreler ve Argümanlar"
      ]
    },
    {
      "cell_type": "markdown",
      "metadata": {
        "id": "DDh3Pu9T7ZUj"
      },
      "source": [
        "Biliyorsunuz biz selamla fonksiyonunun içine herhangi bir değer göndermiyorduk ve fonksiyonumuz hep aynı işi yapıyordu. Ancak çoğu zaman fonksiyonlarımız içine gönderdiğimiz değerlerle farklı işlemler yaparlar. Örneğin **katı meyve sıkacağına** eğer \"Elma\" verirsek elma suyu,  \"Nar\" verirsek nar suyu hazırlayacaktır. Fonksiyonlarda da **Parametreleri** bu şekilde düşünebilirsiniz. İsterseniz şimdi **selamlama** fonksiyonumuzu bir tane parametre alacak şekilde tanımlayalım."
      ]
    },
    {
      "cell_type": "code",
      "execution_count": null,
      "metadata": {
        "collapsed": true,
        "id": "Ayid1UZn7ZUj"
      },
      "outputs": [],
      "source": [
        "def selamla(isim): # isim değişkenimiz burada parametre olmaktadır\n",
        "    print(\"Merhaba:\",isim)\n"
      ]
    },
    {
      "cell_type": "code",
      "execution_count": null,
      "metadata": {
        "id": "I5Jup4y77ZUj",
        "outputId": "572db7ea-59b3-46d3-f3e4-2eb92bd72c99"
      },
      "outputs": [
        {
          "name": "stdout",
          "output_type": "stream",
          "text": [
            "Merhaba: Kemal\n"
          ]
        }
      ],
      "source": [
        "selamla(\"Kemal\") # \"Kemal\" değeri burada  argüman olmaktadır."
      ]
    },
    {
      "cell_type": "code",
      "execution_count": null,
      "metadata": {
        "id": "vSmS65un7ZUj",
        "outputId": "263a5d3f-9c56-45a8-c8f6-2da5437578e7"
      },
      "outputs": [
        {
          "name": "stdout",
          "output_type": "stream",
          "text": [
            "Merhaba: Ayşe\n"
          ]
        }
      ],
      "source": [
        "selamla(\"Ayşe\") # \"Ayşe\" değeri burada  argüman olmaktadır."
      ]
    },
    {
      "cell_type": "markdown",
      "metadata": {
        "id": "WiHYTLQb7ZUj"
      },
      "source": [
        "Bizim *fonksiyon tanımlarken* tanımladığımız herbir değişken birer **Parametre** , *fonksiyon çağrısı* yaptığımız zaman içine gönderdiğimiz değerler ise **Argüman** olmaktadır. Burada fonksiyonu çağırırken gönderdiğimiz \"Kemal\" değeri \"isim\" isimli parametreye eşit oluyor ve fonksiyonumuz bu değere göre işlem yapıyor. \"Ayşe\" değerini gönderdiğimizde ise fonksiyonumuz bu değere göre işlem yaparak ekrana farklı bir değer yazdırıyor. Şimdi isterseniz farklı bir fonksiyon tanımlayalım ve 3 tane parametre alsın."
      ]
    },
    {
      "cell_type": "code",
      "execution_count": null,
      "metadata": {
        "collapsed": true,
        "id": "RCJHtJ3s7ZUj"
      },
      "outputs": [],
      "source": [
        "# Toplama fonksiyonu\n",
        "def toplama(a,b,c):\n",
        "    print(\"Toplamları:\",a+b+c)\n"
      ]
    },
    {
      "cell_type": "code",
      "execution_count": null,
      "metadata": {
        "id": "0i91K0rx7ZUj",
        "outputId": "31d8fa6d-e178-4e9d-cff9-3bd36b231a83"
      },
      "outputs": [
        {
          "name": "stdout",
          "output_type": "stream",
          "text": [
            "Toplamları: 12\n"
          ]
        }
      ],
      "source": [
        "toplama(3,4,5)"
      ]
    },
    {
      "cell_type": "code",
      "execution_count": null,
      "metadata": {
        "id": "HqhH3mND7ZUk",
        "outputId": "1a5ac38a-bd29-41b2-e0af-a27a37dea338"
      },
      "outputs": [
        {
          "name": "stdout",
          "output_type": "stream",
          "text": [
            "Toplamları: 50\n"
          ]
        }
      ],
      "source": [
        "toplama(10,11,29)"
      ]
    },
    {
      "cell_type": "code",
      "execution_count": null,
      "metadata": {
        "id": "s0XNsyGK7ZUk",
        "outputId": "fc961848-1f78-4a9d-d75c-fdf276aa3f25"
      },
      "outputs": [
        {
          "name": "stdout",
          "output_type": "stream",
          "text": [
            "Toplamları: 53\n"
          ]
        }
      ],
      "source": [
        "toplama(4,9,40)"
      ]
    },
    {
      "cell_type": "markdown",
      "metadata": {
        "id": "oT-LKLF97ZUk"
      },
      "source": [
        "Şimdi de örnek olması açısından bir sayının faktoriyelini hesaplayan bir fonksiyon yazalım.\n",
        "\n",
        "**Eğer sayımız \"5\" ise faktoriyel 5 x 4 x 3 x 2 x 1 = 120 olacaktır**"
      ]
    },
    {
      "cell_type": "code",
      "execution_count": null,
      "metadata": {
        "collapsed": true,
        "id": "0990_ypM7ZUk"
      },
      "outputs": [],
      "source": [
        "def faktoriyel(sayı):\n",
        "    faktoriyel = 1\n",
        "    if (sayı == 0 or sayı == 1):\n",
        "        print(\"Faktoriyel\",faktoriyel)\n",
        "    else:\n",
        "        while (sayı >= 1):\n",
        "            faktoriyel *= sayı\n",
        "            sayı -=1\n",
        "        print(\"Faktoriyel\", faktoriyel)\n",
        "\n",
        ""
      ]
    },
    {
      "cell_type": "code",
      "execution_count": null,
      "metadata": {
        "id": "Oe0ErjXq7ZUk",
        "outputId": "ce2df15e-931b-492b-9e64-6d13a6354987"
      },
      "outputs": [
        {
          "name": "stdout",
          "output_type": "stream",
          "text": [
            "Faktoriyel 120\n"
          ]
        }
      ],
      "source": [
        "faktoriyel(5)"
      ]
    },
    {
      "cell_type": "code",
      "execution_count": null,
      "metadata": {
        "id": "g_i9wcfd7ZUk",
        "outputId": "d271fd70-76bb-4684-a6bd-72d99a8eb9fc"
      },
      "outputs": [
        {
          "name": "stdout",
          "output_type": "stream",
          "text": [
            "Faktoriyel 720\n"
          ]
        }
      ],
      "source": [
        "faktoriyel(6)"
      ]
    },
    {
      "cell_type": "code",
      "execution_count": null,
      "metadata": {
        "id": "SsvQm_W57ZUk",
        "outputId": "accf7081-3959-4a4e-dae9-453f95948fd2"
      },
      "outputs": [
        {
          "name": "stdout",
          "output_type": "stream",
          "text": [
            "Faktoriyel 1\n"
          ]
        }
      ],
      "source": [
        "faktoriyel(1)"
      ]
    },
    {
      "cell_type": "code",
      "execution_count": null,
      "metadata": {
        "id": "LFIXBSZy7ZUk",
        "outputId": "ed537694-cd49-4ec9-e7df-fc2a2a50547f"
      },
      "outputs": [
        {
          "name": "stdout",
          "output_type": "stream",
          "text": [
            "Faktoriyel 1\n"
          ]
        }
      ],
      "source": [
        "faktoriyel(0)"
      ]
    },
    {
      "cell_type": "markdown",
      "metadata": {
        "id": "6mBJbBSu7ZUk"
      },
      "source": [
        "İşte bu kadar ! Bir sonraki dersimizde **fonksiyonlarda return ** konusunu işleyeceğiz."
      ]
    },
    {
      "cell_type": "code",
      "execution_count": null,
      "metadata": {
        "collapsed": true,
        "id": "qbYhzzHf7ZUl"
      },
      "outputs": [],
      "source": []
    }
  ],
  "metadata": {
    "kernelspec": {
      "display_name": "Python 3",
      "language": "python",
      "name": "python3"
    },
    "language_info": {
      "codemirror_mode": {
        "name": "ipython",
        "version": 3
      },
      "file_extension": ".py",
      "mimetype": "text/x-python",
      "name": "python",
      "nbconvert_exporter": "python",
      "pygments_lexer": "ipython3",
      "version": "3.6.1"
    },
    "colab": {
      "provenance": []
    }
  },
  "nbformat": 4,
  "nbformat_minor": 0
}