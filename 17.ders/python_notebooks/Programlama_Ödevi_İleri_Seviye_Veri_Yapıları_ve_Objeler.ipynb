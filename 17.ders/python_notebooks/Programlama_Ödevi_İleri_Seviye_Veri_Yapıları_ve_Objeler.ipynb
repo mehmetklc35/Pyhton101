{
  "cells": [
    {
      "cell_type": "markdown",
      "metadata": {
        "id": "JhV_by5LeFPQ"
      },
      "source": [
        "## İleri Seviye Veri Yapıları ve Objeler\n",
        "\n",
        "### Problem 1\n",
        "\n",
        "Elinizde uzunca bir string olsun.\n",
        "\n",
        "                \"ProgramlamaÖdeviİleriSeviyeVeriYapılarıveObjeleripynb\"\n",
        "                \n",
        "                \n",
        "Bu string içindeki harflerin frekansını (bir harfin kaç defa geçtiği) bulmaya çalışın.\n",
        "\n",
        "\n",
        "\n"
      ]
    },
    {
      "cell_type": "markdown",
      "metadata": {
        "id": "HndrYYiTeFPR"
      },
      "source": [
        "### Problem 2\n",
        "\n",
        "\"şiir.txt\" şeklinde bir dosya oluşturun ve içinde şu satırlar yer alsın.\n",
        "\n",
        "                        Memlekete sis çökmüş bir gece\n",
        "                        Usulca yanağıma sen düşüyorsun\n",
        "                        Sabah saat dokuzu beş geçe\n",
        "                        Terk edip bizleri gidiyorsun\n",
        "                        Ayrılık bu kadar yakmamıştı içimizi\n",
        "                        Farkında mısın bilmiyorum\n",
        "                        Aldın beraberinde cumhuriyetimizi\n",
        "                        Korkunç bir veda, sararmıştı her yer\n",
        "                        Ellerini uzat tutmak istiyoruz\n",
        "                        Masmavi gözleri kaybetmiş çocuk\n",
        "                        Aldı bir sabah ruhumuzu\n",
        "                        Lakin nasıl bölmesin yokluğun uykumuzu\n",
        "\n",
        "Bu dosyanın herbir satırını okuyun. Satırların baş harflerini birbirine ekleyerek bir string oluşturun ve bu string'i ekrana yazdırın."
      ]
    },
    {
      "cell_type": "markdown",
      "metadata": {
        "id": "y5WHyZexeFPR"
      },
      "source": [
        "### Problem 3\n",
        "\n",
        "Elinizde \"mailler.txt\" adında , maillerin ve bazı yazıların bulunduğu bir dosya olsun. Bu dosyanın her bir satırını okuyun ve sadece mail formatına uygun olanları ekrana yazdırın.\n",
        "\n",
        "                        coskun.m.Deneme@gmail.com\n",
        "                        example@xyz.com\n",
        "                        Selçuk.com\n",
        "                        Selçuk@gmail\n",
        "                        kerim@yahoo.com\n",
        "                        \n",
        "                               //\n",
        "                               //\n",
        "                               //\n",
        "                               \n",
        "                        \n",
        "***İpucu: Stringlerde bulunan endswith ve find metodlarını kullanabilirsiniz.***                        "
      ]
    },
    {
      "cell_type": "markdown",
      "metadata": {
        "id": "KguzSooReFPR"
      },
      "source": [
        "### Problem 4\n",
        "\n",
        "Elinizde 2 tane liste bulunsun. Bu listelerden isim ve soyisimleri birleştirerek , ekrana isim ve soyisimleri ***isimlere*** göre sıralı bir şekilde yazdırmaya çalışın.\n",
        "\n",
        "            isim -----> [\"Kerim\",\"Tarık\",\"Ezgi\",\"Kemal\",\"İlkay\",\"Şükran\",\"Merve\"]\n",
        "\n",
        "            soyisim ------> [\"Yılmaz\",\"Öztürk\",\"Dağdeviren\",\"Atatürk\",\"Dikmen\",\"Kaya\",\"Polat\"]\n",
        "            "
      ]
    },
    {
      "cell_type": "code",
      "execution_count": null,
      "metadata": {
        "collapsed": true,
        "id": "imU6zFUReFPS"
      },
      "outputs": [],
      "source": []
    }
  ],
  "metadata": {
    "kernelspec": {
      "display_name": "Python 3",
      "language": "python",
      "name": "python3"
    },
    "language_info": {
      "codemirror_mode": {
        "name": "ipython",
        "version": 3
      },
      "file_extension": ".py",
      "mimetype": "text/x-python",
      "name": "python",
      "nbconvert_exporter": "python",
      "pygments_lexer": "ipython3",
      "version": "3.6.1"
    },
    "colab": {
      "provenance": []
    }
  },
  "nbformat": 4,
  "nbformat_minor": 0
}