{
  "cells": [
    {
      "cell_type": "markdown",
      "metadata": {
        "collapsed": true,
        "id": "Ev-LWwqz0BW0"
      },
      "source": [
        "# List Comprehension\n",
        "\n",
        "Bu konuda listeleri üretmek ve oluşturmak Pythonda çok pratik bir yöntem olan \"List Comprehension\" konusunu öğreneceğiz. Biliyorsunuz Pythonda birçok işimizi çok kısa kodlar halledebiliyoruz. Ancak kodları daha da kısaltmak ve pratik yöntemler kullanmak her zaman isteriz. Şimdi örneklerimizle list comprehension'ı anlamaya çalışalım."
      ]
    },
    {
      "cell_type": "code",
      "execution_count": null,
      "metadata": {
        "collapsed": true,
        "id": "giN-jZGJ0BW2"
      },
      "outputs": [],
      "source": [
        "# Listelerdeki append metodunu hatırlayalım.\n",
        "liste = [1,2,3,4]\n",
        "liste.append(5)"
      ]
    },
    {
      "cell_type": "code",
      "execution_count": null,
      "metadata": {
        "id": "OBeEvleD0BW3",
        "outputId": "774d1cad-ac0a-436a-8783-2785ae95275b"
      },
      "outputs": [
        {
          "data": {
            "text/plain": [
              "[1, 2, 3, 4, 5]"
            ]
          },
          "execution_count": 2,
          "metadata": {},
          "output_type": "execute_result"
        }
      ],
      "source": [
        "liste"
      ]
    },
    {
      "cell_type": "code",
      "execution_count": null,
      "metadata": {
        "id": "yCBbQK5-0BW4",
        "outputId": "06109e50-812f-4dc0-bec3-4abf522930d7"
      },
      "outputs": [
        {
          "name": "stdout",
          "output_type": "stream",
          "text": [
            "[1, 2, 3, 4, 5]\n"
          ]
        }
      ],
      "source": [
        "# liste1'den liste2'yi oluşturalım.\n",
        "\n",
        "liste1 = [1,2,3,4,5]\n",
        "\n",
        "liste2 = list() # veya liste2 = [] ikisi de boş liste oluşturur.\n",
        "\n",
        "\n",
        "for i in liste1:\n",
        "    liste2.append(i) # liste2 'ye liste1 in elemanları for döngüsü yardımıyla atıyoruz.\n",
        "\n",
        "print(liste2)"
      ]
    },
    {
      "cell_type": "markdown",
      "metadata": {
        "id": "xbTE1gLO0BW4"
      },
      "source": [
        "Acaba bu kodumuzu list comprehension ile daha kısa yazabilir miyiz ?"
      ]
    },
    {
      "cell_type": "code",
      "execution_count": null,
      "metadata": {
        "id": "pdEUBVJI0BW4",
        "outputId": "db2e5565-fee1-46a1-ee54-1123391e5e12"
      },
      "outputs": [
        {
          "name": "stdout",
          "output_type": "stream",
          "text": [
            "[1, 2, 3, 4, 5]\n"
          ]
        }
      ],
      "source": [
        "liste1 = [1,2,3,4,5] # Örnek 1\n",
        "\n",
        "liste2 = [i for i in liste1] # List Comprehension\n",
        "\n",
        "print(liste2)"
      ]
    },
    {
      "cell_type": "code",
      "execution_count": null,
      "metadata": {
        "id": "Z4EravC70BW4",
        "outputId": "da54fdb0-80eb-46ca-8352-7be7d73ace36"
      },
      "outputs": [
        {
          "name": "stdout",
          "output_type": "stream",
          "text": [
            "[2, 4, 6, 8, 10]\n"
          ]
        }
      ],
      "source": [
        "liste1 = [1,2,3,4,5] # Örnek 2\n",
        "\n",
        "liste2 = [i*2 for i in liste1] # List Comprehension\n",
        "\n",
        "print(liste2)"
      ]
    },
    {
      "cell_type": "code",
      "execution_count": null,
      "metadata": {
        "id": "TO0owS3N0BW4",
        "outputId": "cb72d48e-c66c-4ee9-d0ee-4c35dc92f1e9"
      },
      "outputs": [
        {
          "name": "stdout",
          "output_type": "stream",
          "text": [
            "[2, 12, 30]\n"
          ]
        }
      ],
      "source": [
        "liste1 = [(1,2),(3,4),(5,6)] # Örnek 3\n",
        "\n",
        "liste2 = [i*j for (i,j) in liste1] # List Comprehension\n",
        "\n",
        "print(liste2)"
      ]
    },
    {
      "cell_type": "code",
      "execution_count": null,
      "metadata": {
        "id": "6F1Lvjws0BW5",
        "outputId": "c878d747-0cc3-46aa-84eb-42c3e255bef1"
      },
      "outputs": [
        {
          "name": "stdout",
          "output_type": "stream",
          "text": [
            "[1, 2, 3, 5, 6, 7, 8, 10]\n"
          ]
        }
      ],
      "source": [
        "liste1 = [1,2,3,4,5,6,7,8,9,10] # Örnek 4\n",
        "\n",
        "liste2 = [i for i in liste1 if not (i == 4 or i == 9)] # List Comprehension\n",
        "\n",
        "print(liste2)"
      ]
    },
    {
      "cell_type": "code",
      "execution_count": null,
      "metadata": {
        "id": "hXGXE7Fh0BW5",
        "outputId": "81988d1b-a2cd-4925-87b8-308d8409cd61"
      },
      "outputs": [
        {
          "name": "stdout",
          "output_type": "stream",
          "text": [
            "['PPP', 'yyy', 'ttt', 'hhh', 'ooo', 'nnn']\n"
          ]
        }
      ],
      "source": [
        "s = \"Python\"  # Örnek 5\n",
        "\n",
        "liste = [i * 3 for i in s] # List Comprehension\n",
        "\n",
        "print(liste)"
      ]
    },
    {
      "cell_type": "markdown",
      "metadata": {
        "id": "1j7XHErK0BW5"
      },
      "source": [
        "Peki iç içe listeleri tek bir liste haline list comprehension ile nasıl getirebiliriz ? İlk önce normal yolumuzu görelim.\n",
        "\n"
      ]
    },
    {
      "cell_type": "code",
      "execution_count": null,
      "metadata": {
        "collapsed": true,
        "id": "tQ_sRWr10BW5"
      },
      "outputs": [],
      "source": [
        "liste = [[1,2,3],[4,5,6,7,8],[9,10,11,12,13,14,15]]\n",
        "\n",
        "# yeni_liste = [1,2,3,4,5,6,7,8,9,10,11,12,13,14,15]"
      ]
    },
    {
      "cell_type": "code",
      "execution_count": null,
      "metadata": {
        "id": "69v-UQkA0BW5",
        "outputId": "eaf47a7c-a25a-4257-9ef7-71869b9f035c"
      },
      "outputs": [
        {
          "name": "stdout",
          "output_type": "stream",
          "text": [
            "[1, 2, 3]\n",
            "[4, 5, 6, 7, 8]\n",
            "[9, 10, 11, 12, 13, 14, 15]\n"
          ]
        }
      ],
      "source": [
        "liste = [[1,2,3],[4,5,6,7,8],[9,10,11,12,13,14,15]]\n",
        "liste2 = list()\n",
        "for i in liste:\n",
        "    print(i) ## Buradaki i değeri de aslında bir liste."
      ]
    },
    {
      "cell_type": "code",
      "execution_count": null,
      "metadata": {
        "id": "Q0PqxXDK0BW6",
        "outputId": "9548a6c6-00cf-4dab-a924-71b9056cbb1b"
      },
      "outputs": [
        {
          "name": "stdout",
          "output_type": "stream",
          "text": [
            "x: 1\n",
            "x: 2\n",
            "x: 3\n",
            "x: 4\n",
            "x: 5\n",
            "x: 6\n",
            "x: 7\n",
            "x: 8\n",
            "x: 9\n",
            "x: 10\n",
            "x: 11\n",
            "x: 12\n",
            "x: 13\n",
            "x: 14\n",
            "x: 15\n",
            "[1, 2, 3, 4, 5, 6, 7, 8, 9, 10, 11, 12, 13, 14, 15]\n"
          ]
        }
      ],
      "source": [
        "liste = [[1,2,3],[4,5,6,7,8],[9,10,11,12,13,14,15]]\n",
        "liste2 = list()\n",
        "for i in liste:\n",
        "    for x in i:\n",
        "        print(\"x:\",x)\n",
        "        liste2.append(x)\n",
        "print(liste2)\n",
        ""
      ]
    },
    {
      "cell_type": "code",
      "execution_count": null,
      "metadata": {
        "id": "9mlriPjM0BW6",
        "outputId": "232a080b-0e4a-48f7-a106-d22ac0d114d3"
      },
      "outputs": [
        {
          "name": "stdout",
          "output_type": "stream",
          "text": [
            "[1, 2, 3, 4, 5, 6, 7, 8, 9, 10, 11, 12, 13, 14, 15]\n"
          ]
        }
      ],
      "source": [
        "# List Comprehension\n",
        "\n",
        "liste = [[1,2,3],[4,5,6,7,8],[9,10,11,12,13,14,15]]\n",
        "liste2 = [x for i in liste for x in i] # Biraz karmaşık\n",
        "print(liste2)"
      ]
    },
    {
      "cell_type": "markdown",
      "metadata": {
        "id": "XyNxIy5S0BW6"
      },
      "source": [
        "İşte bu kadar ! Eğer \"List comprehension\" kullanmak istemezseniz, normal bir şekilde de listeleri oluşturabilirsiniz. Tamamen size kalmış."
      ]
    },
    {
      "cell_type": "code",
      "execution_count": null,
      "metadata": {
        "collapsed": true,
        "id": "uWPKjtjt0BW6"
      },
      "outputs": [],
      "source": []
    }
  ],
  "metadata": {
    "kernelspec": {
      "display_name": "Python 3",
      "language": "python",
      "name": "python3"
    },
    "language_info": {
      "codemirror_mode": {
        "name": "ipython",
        "version": 3
      },
      "file_extension": ".py",
      "mimetype": "text/x-python",
      "name": "python",
      "nbconvert_exporter": "python",
      "pygments_lexer": "ipython3",
      "version": "3.6.1"
    },
    "colab": {
      "provenance": []
    }
  },
  "nbformat": 4,
  "nbformat_minor": 0
}